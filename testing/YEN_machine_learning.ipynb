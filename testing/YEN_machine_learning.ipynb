{
 "cells": [
  {
   "cell_type": "code",
   "execution_count": 54,
   "metadata": {},
   "outputs": [],
   "source": [
    "import yfinance as yf\n",
    "import pandas as pd\n",
    "import numpy as np\n",
    "import hvplot.pandas\n",
    "from finta import TA"
   ]
  },
  {
   "attachments": {},
   "cell_type": "markdown",
   "metadata": {},
   "source": [
    "**YFinance:**"
   ]
  },
  {
   "cell_type": "code",
   "execution_count": 55,
   "metadata": {},
   "outputs": [],
   "source": [
    "# set ticker ('BTC-USD', 'ETH-USD')\n",
    "ticker = 'ETH-USD'\n",
    "cc = yf.Ticker(f\"{ticker}\")"
   ]
  },
  {
   "cell_type": "code",
   "execution_count": 56,
   "metadata": {},
   "outputs": [
    {
     "data": {
      "text/html": [
       "<div>\n",
       "<style scoped>\n",
       "    .dataframe tbody tr th:only-of-type {\n",
       "        vertical-align: middle;\n",
       "    }\n",
       "\n",
       "    .dataframe tbody tr th {\n",
       "        vertical-align: top;\n",
       "    }\n",
       "\n",
       "    .dataframe thead th {\n",
       "        text-align: right;\n",
       "    }\n",
       "</style>\n",
       "<table border=\"1\" class=\"dataframe\">\n",
       "  <thead>\n",
       "    <tr style=\"text-align: right;\">\n",
       "      <th></th>\n",
       "      <th>Open</th>\n",
       "      <th>High</th>\n",
       "      <th>Low</th>\n",
       "      <th>Close</th>\n",
       "      <th>Volume</th>\n",
       "      <th>Dividends</th>\n",
       "      <th>Stock Splits</th>\n",
       "    </tr>\n",
       "    <tr>\n",
       "      <th>Date</th>\n",
       "      <th></th>\n",
       "      <th></th>\n",
       "      <th></th>\n",
       "      <th></th>\n",
       "      <th></th>\n",
       "      <th></th>\n",
       "      <th></th>\n",
       "    </tr>\n",
       "  </thead>\n",
       "  <tbody>\n",
       "    <tr>\n",
       "      <th>2018-02-01 00:00:00+00:00</th>\n",
       "      <td>1119.369995</td>\n",
       "      <td>1161.349976</td>\n",
       "      <td>984.818970</td>\n",
       "      <td>1036.790039</td>\n",
       "      <td>5261680128</td>\n",
       "      <td>0.0</td>\n",
       "      <td>0.0</td>\n",
       "    </tr>\n",
       "    <tr>\n",
       "      <th>2018-02-02 00:00:00+00:00</th>\n",
       "      <td>1035.770020</td>\n",
       "      <td>1035.770020</td>\n",
       "      <td>757.979980</td>\n",
       "      <td>915.784973</td>\n",
       "      <td>6713290240</td>\n",
       "      <td>0.0</td>\n",
       "      <td>0.0</td>\n",
       "    </tr>\n",
       "    <tr>\n",
       "      <th>2018-02-03 00:00:00+00:00</th>\n",
       "      <td>919.210999</td>\n",
       "      <td>991.942993</td>\n",
       "      <td>847.690002</td>\n",
       "      <td>964.018982</td>\n",
       "      <td>3243480064</td>\n",
       "      <td>0.0</td>\n",
       "      <td>0.0</td>\n",
       "    </tr>\n",
       "    <tr>\n",
       "      <th>2018-02-04 00:00:00+00:00</th>\n",
       "      <td>964.666992</td>\n",
       "      <td>969.031982</td>\n",
       "      <td>805.064026</td>\n",
       "      <td>834.682007</td>\n",
       "      <td>2997090048</td>\n",
       "      <td>0.0</td>\n",
       "      <td>0.0</td>\n",
       "    </tr>\n",
       "    <tr>\n",
       "      <th>2018-02-05 00:00:00+00:00</th>\n",
       "      <td>834.958008</td>\n",
       "      <td>856.645996</td>\n",
       "      <td>644.598999</td>\n",
       "      <td>697.950989</td>\n",
       "      <td>4269530112</td>\n",
       "      <td>0.0</td>\n",
       "      <td>0.0</td>\n",
       "    </tr>\n",
       "  </tbody>\n",
       "</table>\n",
       "</div>"
      ],
      "text/plain": [
       "                                  Open         High         Low        Close  \\\n",
       "Date                                                                           \n",
       "2018-02-01 00:00:00+00:00  1119.369995  1161.349976  984.818970  1036.790039   \n",
       "2018-02-02 00:00:00+00:00  1035.770020  1035.770020  757.979980   915.784973   \n",
       "2018-02-03 00:00:00+00:00   919.210999   991.942993  847.690002   964.018982   \n",
       "2018-02-04 00:00:00+00:00   964.666992   969.031982  805.064026   834.682007   \n",
       "2018-02-05 00:00:00+00:00   834.958008   856.645996  644.598999   697.950989   \n",
       "\n",
       "                               Volume  Dividends  Stock Splits  \n",
       "Date                                                            \n",
       "2018-02-01 00:00:00+00:00  5261680128        0.0           0.0  \n",
       "2018-02-02 00:00:00+00:00  6713290240        0.0           0.0  \n",
       "2018-02-03 00:00:00+00:00  3243480064        0.0           0.0  \n",
       "2018-02-04 00:00:00+00:00  2997090048        0.0           0.0  \n",
       "2018-02-05 00:00:00+00:00  4269530112        0.0           0.0  "
      ]
     },
     "execution_count": 56,
     "metadata": {},
     "output_type": "execute_result"
    }
   ],
   "source": [
    "# set dates for historical data\n",
    "start = '2018-02-01'\n",
    "end = '2023-01-24'\n",
    "\n",
    "hist = cc.history(start=f\"{start}\", end=f\"{end}\")\n",
    "hist.head()"
   ]
  },
  {
   "cell_type": "code",
   "execution_count": 57,
   "metadata": {},
   "outputs": [
    {
     "data": {
      "text/html": [
       "<div>\n",
       "<style scoped>\n",
       "    .dataframe tbody tr th:only-of-type {\n",
       "        vertical-align: middle;\n",
       "    }\n",
       "\n",
       "    .dataframe tbody tr th {\n",
       "        vertical-align: top;\n",
       "    }\n",
       "\n",
       "    .dataframe thead th {\n",
       "        text-align: right;\n",
       "    }\n",
       "</style>\n",
       "<table border=\"1\" class=\"dataframe\">\n",
       "  <thead>\n",
       "    <tr style=\"text-align: right;\">\n",
       "      <th></th>\n",
       "      <th>Close</th>\n",
       "    </tr>\n",
       "    <tr>\n",
       "      <th>Date</th>\n",
       "      <th></th>\n",
       "    </tr>\n",
       "  </thead>\n",
       "  <tbody>\n",
       "    <tr>\n",
       "      <th>2018-02-01 00:00:00+00:00</th>\n",
       "      <td>1036.790039</td>\n",
       "    </tr>\n",
       "    <tr>\n",
       "      <th>2018-02-02 00:00:00+00:00</th>\n",
       "      <td>915.784973</td>\n",
       "    </tr>\n",
       "    <tr>\n",
       "      <th>2018-02-03 00:00:00+00:00</th>\n",
       "      <td>964.018982</td>\n",
       "    </tr>\n",
       "    <tr>\n",
       "      <th>2018-02-04 00:00:00+00:00</th>\n",
       "      <td>834.682007</td>\n",
       "    </tr>\n",
       "    <tr>\n",
       "      <th>2018-02-05 00:00:00+00:00</th>\n",
       "      <td>697.950989</td>\n",
       "    </tr>\n",
       "  </tbody>\n",
       "</table>\n",
       "</div>"
      ],
      "text/plain": [
       "                                 Close\n",
       "Date                                  \n",
       "2018-02-01 00:00:00+00:00  1036.790039\n",
       "2018-02-02 00:00:00+00:00   915.784973\n",
       "2018-02-03 00:00:00+00:00   964.018982\n",
       "2018-02-04 00:00:00+00:00   834.682007\n",
       "2018-02-05 00:00:00+00:00   697.950989"
      ]
     },
     "execution_count": 57,
     "metadata": {},
     "output_type": "execute_result"
    }
   ],
   "source": [
    "# just close column\n",
    "historical = pd.DataFrame(hist)\n",
    "historical_close = historical.drop(['Open','High', 'Low','Volume', 'Dividends', 'Stock Splits'], axis=1)\n",
    "historical_close.head()"
   ]
  },
  {
   "attachments": {},
   "cell_type": "markdown",
   "metadata": {},
   "source": [
    "**Fear and Greed API:**"
   ]
  },
  {
   "cell_type": "code",
   "execution_count": 58,
   "metadata": {},
   "outputs": [],
   "source": [
    "import requests"
   ]
  },
  {
   "cell_type": "code",
   "execution_count": 59,
   "metadata": {},
   "outputs": [],
   "source": [
    "r = requests.get('https://api.alternative.me/fng/?limit=0')"
   ]
  },
  {
   "cell_type": "code",
   "execution_count": 60,
   "metadata": {},
   "outputs": [
    {
     "name": "stderr",
     "output_type": "stream",
     "text": [
      "Task was destroyed but it is pending!\n",
      "task: <Task pending name='Task-8' coro=<WebSocketCommonProtocol.transfer_data() running at c:\\Users\\Max Work\\anaconda3\\envs\\dreambuilder\\lib\\site-packages\\websockets\\legacy\\protocol.py:979> wait_for=<Future pending cb=[shield.<locals>._outer_done_callback() at c:\\Users\\Max Work\\anaconda3\\envs\\dreambuilder\\lib\\asyncio\\tasks.py:902, Task.__wakeup()]> cb=[Task.__wakeup()]>\n",
      "Task was destroyed but it is pending!\n",
      "task: <Task pending name='Task-10' coro=<WebSocketCommonProtocol.close_connection() running at c:\\Users\\Max Work\\anaconda3\\envs\\dreambuilder\\lib\\site-packages\\websockets\\legacy\\protocol.py:1314> wait_for=<Task pending name='Task-8' coro=<WebSocketCommonProtocol.transfer_data() running at c:\\Users\\Max Work\\anaconda3\\envs\\dreambuilder\\lib\\site-packages\\websockets\\legacy\\protocol.py:979> wait_for=<Future pending cb=[shield.<locals>._outer_done_callback() at c:\\Users\\Max Work\\anaconda3\\envs\\dreambuilder\\lib\\asyncio\\tasks.py:902, Task.__wakeup()]> cb=[Task.__wakeup()]>>\n"
     ]
    }
   ],
   "source": [
    "# select 'data' and add to a dataframe\n",
    "fg_df = pd.DataFrame(r.json()['data'])"
   ]
  },
  {
   "cell_type": "code",
   "execution_count": 61,
   "metadata": {},
   "outputs": [],
   "source": [
    "# convert 'value' to int\n",
    "fg_df.value = fg_df.value.astype(int)\n",
    "\n",
    "# convert time format to datetime\n",
    "fg_df.timestamp = pd.to_datetime(fg_df.timestamp, unit='s' )\n",
    "\n",
    "# set date as index\n",
    "fg_df.set_index('timestamp', inplace=True)"
   ]
  },
  {
   "cell_type": "code",
   "execution_count": 62,
   "metadata": {},
   "outputs": [],
   "source": [
    "# drop all columns except 'value'\n",
    "fg_df = fg_df.drop(['value_classification', 'time_until_update'], axis=1)\n",
    "\n",
    "# flip oldest data to the top\n",
    "fg_df = fg_df[::-1]\n",
    "\n",
    "# convert date format to match 'historical_close'\n",
    "fg_df.index = pd.to_datetime(fg_df.index).tz_localize('Etc/UCT')"
   ]
  },
  {
   "cell_type": "code",
   "execution_count": 63,
   "metadata": {},
   "outputs": [
    {
     "data": {
      "text/html": [
       "<div>\n",
       "<style scoped>\n",
       "    .dataframe tbody tr th:only-of-type {\n",
       "        vertical-align: middle;\n",
       "    }\n",
       "\n",
       "    .dataframe tbody tr th {\n",
       "        vertical-align: top;\n",
       "    }\n",
       "\n",
       "    .dataframe thead th {\n",
       "        text-align: right;\n",
       "    }\n",
       "</style>\n",
       "<table border=\"1\" class=\"dataframe\">\n",
       "  <thead>\n",
       "    <tr style=\"text-align: right;\">\n",
       "      <th></th>\n",
       "      <th>value</th>\n",
       "    </tr>\n",
       "    <tr>\n",
       "      <th>timestamp</th>\n",
       "      <th></th>\n",
       "    </tr>\n",
       "  </thead>\n",
       "  <tbody>\n",
       "    <tr>\n",
       "      <th>2018-02-01 00:00:00+00:00</th>\n",
       "      <td>30</td>\n",
       "    </tr>\n",
       "    <tr>\n",
       "      <th>2018-02-02 00:00:00+00:00</th>\n",
       "      <td>15</td>\n",
       "    </tr>\n",
       "    <tr>\n",
       "      <th>2018-02-03 00:00:00+00:00</th>\n",
       "      <td>40</td>\n",
       "    </tr>\n",
       "    <tr>\n",
       "      <th>2018-02-04 00:00:00+00:00</th>\n",
       "      <td>24</td>\n",
       "    </tr>\n",
       "    <tr>\n",
       "      <th>2018-02-05 00:00:00+00:00</th>\n",
       "      <td>11</td>\n",
       "    </tr>\n",
       "  </tbody>\n",
       "</table>\n",
       "</div>"
      ],
      "text/plain": [
       "                           value\n",
       "timestamp                       \n",
       "2018-02-01 00:00:00+00:00     30\n",
       "2018-02-02 00:00:00+00:00     15\n",
       "2018-02-03 00:00:00+00:00     40\n",
       "2018-02-04 00:00:00+00:00     24\n",
       "2018-02-05 00:00:00+00:00     11"
      ]
     },
     "execution_count": 63,
     "metadata": {},
     "output_type": "execute_result"
    }
   ],
   "source": [
    "fg_df.head()"
   ]
  },
  {
   "attachments": {},
   "cell_type": "markdown",
   "metadata": {},
   "source": [
    "**Combined:**"
   ]
  },
  {
   "cell_type": "code",
   "execution_count": 64,
   "metadata": {},
   "outputs": [
    {
     "data": {
      "text/html": [
       "<div>\n",
       "<style scoped>\n",
       "    .dataframe tbody tr th:only-of-type {\n",
       "        vertical-align: middle;\n",
       "    }\n",
       "\n",
       "    .dataframe tbody tr th {\n",
       "        vertical-align: top;\n",
       "    }\n",
       "\n",
       "    .dataframe thead th {\n",
       "        text-align: right;\n",
       "    }\n",
       "</style>\n",
       "<table border=\"1\" class=\"dataframe\">\n",
       "  <thead>\n",
       "    <tr style=\"text-align: right;\">\n",
       "      <th></th>\n",
       "      <th>value</th>\n",
       "      <th>Close</th>\n",
       "    </tr>\n",
       "    <tr>\n",
       "      <th>timestamp</th>\n",
       "      <th></th>\n",
       "      <th></th>\n",
       "    </tr>\n",
       "  </thead>\n",
       "  <tbody>\n",
       "    <tr>\n",
       "      <th>2018-02-01 00:00:00+00:00</th>\n",
       "      <td>30.0</td>\n",
       "      <td>1036.790039</td>\n",
       "    </tr>\n",
       "    <tr>\n",
       "      <th>2018-02-02 00:00:00+00:00</th>\n",
       "      <td>15.0</td>\n",
       "      <td>915.784973</td>\n",
       "    </tr>\n",
       "    <tr>\n",
       "      <th>2018-02-03 00:00:00+00:00</th>\n",
       "      <td>40.0</td>\n",
       "      <td>964.018982</td>\n",
       "    </tr>\n",
       "    <tr>\n",
       "      <th>2018-02-04 00:00:00+00:00</th>\n",
       "      <td>24.0</td>\n",
       "      <td>834.682007</td>\n",
       "    </tr>\n",
       "    <tr>\n",
       "      <th>2018-02-05 00:00:00+00:00</th>\n",
       "      <td>11.0</td>\n",
       "      <td>697.950989</td>\n",
       "    </tr>\n",
       "  </tbody>\n",
       "</table>\n",
       "</div>"
      ],
      "text/plain": [
       "                           value        Close\n",
       "timestamp                                    \n",
       "2018-02-01 00:00:00+00:00   30.0  1036.790039\n",
       "2018-02-02 00:00:00+00:00   15.0   915.784973\n",
       "2018-02-03 00:00:00+00:00   40.0   964.018982\n",
       "2018-02-04 00:00:00+00:00   24.0   834.682007\n",
       "2018-02-05 00:00:00+00:00   11.0   697.950989"
      ]
     },
     "execution_count": 64,
     "metadata": {},
     "output_type": "execute_result"
    }
   ],
   "source": [
    "# rename index to match fg_df\n",
    "historical.index.name = 'timestamp'\n",
    "\n",
    "# combine historical price data with historical fear and greed\n",
    "combined_df = pd.concat([fg_df, historical_close], axis=1, join='outer')\n",
    "\n",
    "combined_df.head()"
   ]
  },
  {
   "attachments": {},
   "cell_type": "markdown",
   "metadata": {},
   "source": [
    "**Backtest:**"
   ]
  },
  {
   "cell_type": "code",
   "execution_count": 65,
   "metadata": {},
   "outputs": [
    {
     "data": {
      "text/html": [
       "<div>\n",
       "<style scoped>\n",
       "    .dataframe tbody tr th:only-of-type {\n",
       "        vertical-align: middle;\n",
       "    }\n",
       "\n",
       "    .dataframe tbody tr th {\n",
       "        vertical-align: top;\n",
       "    }\n",
       "\n",
       "    .dataframe thead th {\n",
       "        text-align: right;\n",
       "    }\n",
       "</style>\n",
       "<table border=\"1\" class=\"dataframe\">\n",
       "  <thead>\n",
       "    <tr style=\"text-align: right;\">\n",
       "      <th></th>\n",
       "      <th>value</th>\n",
       "      <th>Close</th>\n",
       "      <th>change</th>\n",
       "    </tr>\n",
       "    <tr>\n",
       "      <th>timestamp</th>\n",
       "      <th></th>\n",
       "      <th></th>\n",
       "      <th></th>\n",
       "    </tr>\n",
       "  </thead>\n",
       "  <tbody>\n",
       "    <tr>\n",
       "      <th>2023-01-22 00:00:00+00:00</th>\n",
       "      <td>53.0</td>\n",
       "      <td>1628.382080</td>\n",
       "      <td>0.000777</td>\n",
       "    </tr>\n",
       "    <tr>\n",
       "      <th>2023-01-23 00:00:00+00:00</th>\n",
       "      <td>50.0</td>\n",
       "      <td>1628.251099</td>\n",
       "      <td>-0.000080</td>\n",
       "    </tr>\n",
       "    <tr>\n",
       "      <th>2023-01-24 00:00:00+00:00</th>\n",
       "      <td>52.0</td>\n",
       "      <td>NaN</td>\n",
       "      <td>0.000000</td>\n",
       "    </tr>\n",
       "    <tr>\n",
       "      <th>2023-01-25 00:00:00+00:00</th>\n",
       "      <td>51.0</td>\n",
       "      <td>NaN</td>\n",
       "      <td>0.000000</td>\n",
       "    </tr>\n",
       "    <tr>\n",
       "      <th>2023-01-26 00:00:00+00:00</th>\n",
       "      <td>54.0</td>\n",
       "      <td>NaN</td>\n",
       "      <td>0.000000</td>\n",
       "    </tr>\n",
       "  </tbody>\n",
       "</table>\n",
       "</div>"
      ],
      "text/plain": [
       "                           value        Close    change\n",
       "timestamp                                              \n",
       "2023-01-22 00:00:00+00:00   53.0  1628.382080  0.000777\n",
       "2023-01-23 00:00:00+00:00   50.0  1628.251099 -0.000080\n",
       "2023-01-24 00:00:00+00:00   52.0          NaN  0.000000\n",
       "2023-01-25 00:00:00+00:00   51.0          NaN  0.000000\n",
       "2023-01-26 00:00:00+00:00   54.0          NaN  0.000000"
      ]
     },
     "execution_count": 65,
     "metadata": {},
     "output_type": "execute_result"
    }
   ],
   "source": [
    "combined_df_ = combined_df.copy()\n",
    "\n",
    "# add 'change' column using pct_change on 'Close'\n",
    "combined_df_['change'] = combined_df_['Close'].pct_change()\n",
    "combined_df_.tail()"
   ]
  },
  {
   "attachments": {},
   "cell_type": "markdown",
   "metadata": {},
   "source": [
    "**Algorithm Logic:**\n",
    "\n",
    "- position 1.0 = Long Crypto (uptrend)\n",
    "\n",
    "- position -1.0 = Short Crypto (downtrend)\n",
    "\n",
    "- position 0.0 = Hold Stablecoin (no trend)"
   ]
  },
  {
   "cell_type": "code",
   "execution_count": 66,
   "metadata": {},
   "outputs": [
    {
     "data": {
      "text/html": [
       "<div>\n",
       "<style scoped>\n",
       "    .dataframe tbody tr th:only-of-type {\n",
       "        vertical-align: middle;\n",
       "    }\n",
       "\n",
       "    .dataframe tbody tr th {\n",
       "        vertical-align: top;\n",
       "    }\n",
       "\n",
       "    .dataframe thead th {\n",
       "        text-align: right;\n",
       "    }\n",
       "</style>\n",
       "<table border=\"1\" class=\"dataframe\">\n",
       "  <thead>\n",
       "    <tr style=\"text-align: right;\">\n",
       "      <th></th>\n",
       "      <th>value</th>\n",
       "      <th>Close</th>\n",
       "      <th>change</th>\n",
       "      <th>position</th>\n",
       "    </tr>\n",
       "    <tr>\n",
       "      <th>timestamp</th>\n",
       "      <th></th>\n",
       "      <th></th>\n",
       "      <th></th>\n",
       "      <th></th>\n",
       "    </tr>\n",
       "  </thead>\n",
       "  <tbody>\n",
       "    <tr>\n",
       "      <th>2018-02-02 00:00:00+00:00</th>\n",
       "      <td>15.0</td>\n",
       "      <td>915.784973</td>\n",
       "      <td>-0.116711</td>\n",
       "      <td>0</td>\n",
       "    </tr>\n",
       "    <tr>\n",
       "      <th>2018-02-03 00:00:00+00:00</th>\n",
       "      <td>40.0</td>\n",
       "      <td>964.018982</td>\n",
       "      <td>0.052670</td>\n",
       "      <td>-1</td>\n",
       "    </tr>\n",
       "    <tr>\n",
       "      <th>2018-02-04 00:00:00+00:00</th>\n",
       "      <td>24.0</td>\n",
       "      <td>834.682007</td>\n",
       "      <td>-0.134164</td>\n",
       "      <td>0</td>\n",
       "    </tr>\n",
       "    <tr>\n",
       "      <th>2018-02-05 00:00:00+00:00</th>\n",
       "      <td>11.0</td>\n",
       "      <td>697.950989</td>\n",
       "      <td>-0.163812</td>\n",
       "      <td>0</td>\n",
       "    </tr>\n",
       "    <tr>\n",
       "      <th>2018-02-06 00:00:00+00:00</th>\n",
       "      <td>8.0</td>\n",
       "      <td>793.122009</td>\n",
       "      <td>0.136358</td>\n",
       "      <td>0</td>\n",
       "    </tr>\n",
       "    <tr>\n",
       "      <th>2018-02-07 00:00:00+00:00</th>\n",
       "      <td>36.0</td>\n",
       "      <td>757.067993</td>\n",
       "      <td>-0.045458</td>\n",
       "      <td>-1</td>\n",
       "    </tr>\n",
       "    <tr>\n",
       "      <th>2018-02-08 00:00:00+00:00</th>\n",
       "      <td>30.0</td>\n",
       "      <td>817.807007</td>\n",
       "      <td>0.080229</td>\n",
       "      <td>-1</td>\n",
       "    </tr>\n",
       "    <tr>\n",
       "      <th>2018-02-09 00:00:00+00:00</th>\n",
       "      <td>44.0</td>\n",
       "      <td>883.864990</td>\n",
       "      <td>0.080775</td>\n",
       "      <td>-1</td>\n",
       "    </tr>\n",
       "    <tr>\n",
       "      <th>2018-02-10 00:00:00+00:00</th>\n",
       "      <td>54.0</td>\n",
       "      <td>860.414978</td>\n",
       "      <td>-0.026531</td>\n",
       "      <td>1</td>\n",
       "    </tr>\n",
       "    <tr>\n",
       "      <th>2018-02-11 00:00:00+00:00</th>\n",
       "      <td>31.0</td>\n",
       "      <td>814.659973</td>\n",
       "      <td>-0.053178</td>\n",
       "      <td>-1</td>\n",
       "    </tr>\n",
       "    <tr>\n",
       "      <th>2018-02-12 00:00:00+00:00</th>\n",
       "      <td>42.0</td>\n",
       "      <td>868.706970</td>\n",
       "      <td>0.066343</td>\n",
       "      <td>-1</td>\n",
       "    </tr>\n",
       "    <tr>\n",
       "      <th>2018-02-13 00:00:00+00:00</th>\n",
       "      <td>35.0</td>\n",
       "      <td>845.257996</td>\n",
       "      <td>-0.026993</td>\n",
       "      <td>-1</td>\n",
       "    </tr>\n",
       "    <tr>\n",
       "      <th>2018-02-14 00:00:00+00:00</th>\n",
       "      <td>55.0</td>\n",
       "      <td>923.560974</td>\n",
       "      <td>0.092638</td>\n",
       "      <td>1</td>\n",
       "    </tr>\n",
       "    <tr>\n",
       "      <th>2018-02-15 00:00:00+00:00</th>\n",
       "      <td>71.0</td>\n",
       "      <td>936.976013</td>\n",
       "      <td>0.014525</td>\n",
       "      <td>1</td>\n",
       "    </tr>\n",
       "    <tr>\n",
       "      <th>2018-02-16 00:00:00+00:00</th>\n",
       "      <td>67.0</td>\n",
       "      <td>944.210022</td>\n",
       "      <td>0.007721</td>\n",
       "      <td>1</td>\n",
       "    </tr>\n",
       "  </tbody>\n",
       "</table>\n",
       "</div>"
      ],
      "text/plain": [
       "                           value       Close    change  position\n",
       "timestamp                                                       \n",
       "2018-02-02 00:00:00+00:00   15.0  915.784973 -0.116711         0\n",
       "2018-02-03 00:00:00+00:00   40.0  964.018982  0.052670        -1\n",
       "2018-02-04 00:00:00+00:00   24.0  834.682007 -0.134164         0\n",
       "2018-02-05 00:00:00+00:00   11.0  697.950989 -0.163812         0\n",
       "2018-02-06 00:00:00+00:00    8.0  793.122009  0.136358         0\n",
       "2018-02-07 00:00:00+00:00   36.0  757.067993 -0.045458        -1\n",
       "2018-02-08 00:00:00+00:00   30.0  817.807007  0.080229        -1\n",
       "2018-02-09 00:00:00+00:00   44.0  883.864990  0.080775        -1\n",
       "2018-02-10 00:00:00+00:00   54.0  860.414978 -0.026531         1\n",
       "2018-02-11 00:00:00+00:00   31.0  814.659973 -0.053178        -1\n",
       "2018-02-12 00:00:00+00:00   42.0  868.706970  0.066343        -1\n",
       "2018-02-13 00:00:00+00:00   35.0  845.257996 -0.026993        -1\n",
       "2018-02-14 00:00:00+00:00   55.0  923.560974  0.092638         1\n",
       "2018-02-15 00:00:00+00:00   71.0  936.976013  0.014525         1\n",
       "2018-02-16 00:00:00+00:00   67.0  944.210022  0.007721         1"
      ]
     },
     "execution_count": 66,
     "metadata": {},
     "output_type": "execute_result"
    }
   ],
   "source": [
    "# algorithm\n",
    "\n",
    "combined_df_['position'] = 0\n",
    "\n",
    "# short when f&g is over 94 (f&g > 94 = -1)\n",
    "for index, row in combined_df_.iterrows():\n",
    "    if row['value'] >= 95:\n",
    "        combined_df_.loc[index, 'position'] = -1.0\n",
    "\n",
    "# long when f&g is over 45 and under 94 (93 > f&g > 45 = 1)\n",
    "    elif row['value'] >= 46:\n",
    "        combined_df_.loc[index, 'position'] = 1.0\n",
    "\n",
    "# short when f&g is over 24 and less than 46 (46 > f&g > 24 = -1)\n",
    "    elif row['value'] >= 25:\n",
    "        combined_df_.loc[index, 'position'] = -1.0\n",
    "# hold stables under 25 (f&g < 23 = 0.0)\n",
    "    elif row['value'] < 25:\n",
    "        combined_df_.loc[index, 'position'] = 0\n",
    "\n",
    "combined_df_ = combined_df_.dropna()\n",
    "combined_df_.head(15)"
   ]
  },
  {
   "cell_type": "code",
   "execution_count": 67,
   "metadata": {},
   "outputs": [
    {
     "data": {
      "text/plain": [
       "-1    673\n",
       " 1    648\n",
       " 0    493\n",
       "Name: position, dtype: int64"
      ]
     },
     "execution_count": 67,
     "metadata": {},
     "output_type": "execute_result"
    }
   ],
   "source": [
    "# number of each position\n",
    "combined_df_['position'].value_counts()"
   ]
  },
  {
   "attachments": {},
   "cell_type": "markdown",
   "metadata": {},
   "source": [
    "**Returns:**"
   ]
  },
  {
   "cell_type": "code",
   "execution_count": 68,
   "metadata": {},
   "outputs": [],
   "source": [
    "# calculate returns\n",
    "strategy_returns = combined_df_.position.shift() * combined_df_.change"
   ]
  },
  {
   "cell_type": "code",
   "execution_count": 69,
   "metadata": {},
   "outputs": [
    {
     "data": {},
     "metadata": {},
     "output_type": "display_data"
    },
    {
     "data": {
      "application/vnd.holoviews_exec.v0+json": "",
      "text/html": [
       "<div id='1258'>\n",
       "  <div class=\"bk-root\" id=\"aa1d4448-ef52-4515-bbe7-c6653ec52f02\" data-root-id=\"1258\"></div>\n",
       "</div>\n",
       "<script type=\"application/javascript\">(function(root) {\n",
       "  function embed_document(root) {\n",
       "    var docs_json = {\"9807a89f-467c-4ae7-a183-8eede0a8a74a\":{\"defs\":[{\"extends\":null,\"module\":null,\"name\":\"ReactiveHTML1\",\"overrides\":[],\"properties\":[]},{\"extends\":null,\"module\":null,\"name\":\"FlexBox1\",\"overrides\":[],\"properties\":[{\"default\":\"flex-start\",\"kind\":null,\"name\":\"align_content\"},{\"default\":\"flex-start\",\"kind\":null,\"name\":\"align_items\"},{\"default\":\"row\",\"kind\":null,\"name\":\"flex_direction\"},{\"default\":\"wrap\",\"kind\":null,\"name\":\"flex_wrap\"},{\"default\":\"flex-start\",\"kind\":null,\"name\":\"justify_content\"}]},{\"extends\":null,\"module\":null,\"name\":\"GridStack1\",\"overrides\":[],\"properties\":[{\"default\":\"warn\",\"kind\":null,\"name\":\"mode\"},{\"default\":null,\"kind\":null,\"name\":\"ncols\"},{\"default\":null,\"kind\":null,\"name\":\"nrows\"},{\"default\":true,\"kind\":null,\"name\":\"allow_resize\"},{\"default\":true,\"kind\":null,\"name\":\"allow_drag\"},{\"default\":[],\"kind\":null,\"name\":\"state\"}]},{\"extends\":null,\"module\":null,\"name\":\"click1\",\"overrides\":[],\"properties\":[{\"default\":\"\",\"kind\":null,\"name\":\"terminal_output\"},{\"default\":\"\",\"kind\":null,\"name\":\"debug_name\"},{\"default\":0,\"kind\":null,\"name\":\"clears\"}]},{\"extends\":null,\"module\":null,\"name\":\"NotificationAreaBase1\",\"overrides\":[],\"properties\":[{\"default\":\"bottom-right\",\"kind\":null,\"name\":\"position\"},{\"default\":0,\"kind\":null,\"name\":\"_clear\"}]},{\"extends\":null,\"module\":null,\"name\":\"NotificationArea1\",\"overrides\":[],\"properties\":[{\"default\":[],\"kind\":null,\"name\":\"notifications\"},{\"default\":\"bottom-right\",\"kind\":null,\"name\":\"position\"},{\"default\":0,\"kind\":null,\"name\":\"_clear\"},{\"default\":[{\"background\":\"#ffc107\",\"icon\":{\"className\":\"fas fa-exclamation-triangle\",\"color\":\"white\",\"tagName\":\"i\"},\"type\":\"warning\"},{\"background\":\"#007bff\",\"icon\":{\"className\":\"fas fa-info-circle\",\"color\":\"white\",\"tagName\":\"i\"},\"type\":\"info\"}],\"kind\":null,\"name\":\"types\"}]},{\"extends\":null,\"module\":null,\"name\":\"Notification\",\"overrides\":[],\"properties\":[{\"default\":null,\"kind\":null,\"name\":\"background\"},{\"default\":3000,\"kind\":null,\"name\":\"duration\"},{\"default\":null,\"kind\":null,\"name\":\"icon\"},{\"default\":\"\",\"kind\":null,\"name\":\"message\"},{\"default\":null,\"kind\":null,\"name\":\"notification_type\"},{\"default\":false,\"kind\":null,\"name\":\"_destroyed\"}]},{\"extends\":null,\"module\":null,\"name\":\"TemplateActions1\",\"overrides\":[],\"properties\":[{\"default\":0,\"kind\":null,\"name\":\"open_modal\"},{\"default\":0,\"kind\":null,\"name\":\"close_modal\"}]},{\"extends\":null,\"module\":null,\"name\":\"MaterialTemplateActions1\",\"overrides\":[],\"properties\":[{\"default\":0,\"kind\":null,\"name\":\"open_modal\"},{\"default\":0,\"kind\":null,\"name\":\"close_modal\"}]}],\"roots\":{\"references\":[{\"attributes\":{\"mantissas\":[1,2,5],\"max_interval\":500.0,\"num_minor_ticks\":0},\"id\":\"1319\",\"type\":\"AdaptiveTicker\"},{\"attributes\":{},\"id\":\"1278\",\"type\":\"BasicTicker\"},{\"attributes\":{\"bottom_units\":\"screen\",\"coordinates\":null,\"fill_alpha\":0.5,\"fill_color\":\"lightgrey\",\"group\":null,\"left_units\":\"screen\",\"level\":\"overlay\",\"line_alpha\":1.0,\"line_color\":\"black\",\"line_dash\":[4,4],\"line_width\":2,\"right_units\":\"screen\",\"syncable\":false,\"top_units\":\"screen\"},\"id\":\"1286\",\"type\":\"BoxAnnotation\"},{\"attributes\":{},\"id\":\"1297\",\"type\":\"AllLabels\"},{\"attributes\":{},\"id\":\"1302\",\"type\":\"Selection\"},{\"attributes\":{},\"id\":\"1281\",\"type\":\"SaveTool\"},{\"attributes\":{\"margin\":[5,5,5,5],\"name\":\"HSpacer01157\",\"sizing_mode\":\"stretch_width\"},\"id\":\"1392\",\"type\":\"Spacer\"},{\"attributes\":{},\"id\":\"1282\",\"type\":\"PanTool\"},{\"attributes\":{},\"id\":\"1283\",\"type\":\"WheelZoomTool\"},{\"attributes\":{},\"id\":\"1271\",\"type\":\"LinearScale\"},{\"attributes\":{\"overlay\":{\"id\":\"1286\"}},\"id\":\"1284\",\"type\":\"BoxZoomTool\"},{\"attributes\":{\"line_color\":\"#fc4f30\",\"line_width\":2,\"x\":{\"field\":\"timestamp\"},\"y\":{\"field\":\"change\"}},\"id\":\"1367\",\"type\":\"Line\"},{\"attributes\":{},\"id\":\"1285\",\"type\":\"ResetTool\"},{\"attributes\":{},\"id\":\"1296\",\"type\":\"DatetimeTickFormatter\"},{\"attributes\":{\"data\":{\"0\":{\"__ndarray__\":\"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\",\"dtype\":\"float64\",\"order\":\"little\",\"shape\":[1814]},\"A_0\":{\"__ndarray__\":\"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\",\"dtype\":\"float64\",\"order\":\"little\",\"shape\":[1814]},\"timestamp\":{\"__ndarray__\":\"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\",\"dtype\":\"float64\",\"order\":\"little\",\"shape\":[1814]}},\"selected\":{\"id\":\"1302\"},\"selection_policy\":{\"id\":\"1316\"}},\"id\":\"1301\",\"type\":\"ColumnDataSource\"},{\"attributes\":{\"margin\":[5,5,5,5],\"name\":\"HSpacer01156\",\"sizing_mode\":\"stretch_width\"},\"id\":\"1259\",\"type\":\"Spacer\"},{\"attributes\":{\"line_alpha\":0.1,\"line_color\":\"#30a2da\",\"line_width\":2,\"x\":{\"field\":\"timestamp\"},\"y\":{\"field\":\"0\"}},\"id\":\"1305\",\"type\":\"Line\"},{\"attributes\":{\"line_color\":\"#30a2da\",\"line_width\":2,\"x\":{\"field\":\"timestamp\"},\"y\":{\"field\":\"0\"}},\"id\":\"1304\",\"type\":\"Line\"},{\"attributes\":{\"coordinates\":null,\"data_source\":{\"id\":\"1301\"},\"glyph\":{\"id\":\"1304\"},\"group\":null,\"hover_glyph\":null,\"muted_glyph\":{\"id\":\"1306\"},\"nonselection_glyph\":{\"id\":\"1305\"},\"selection_glyph\":{\"id\":\"1333\"},\"view\":{\"id\":\"1308\"}},\"id\":\"1307\",\"type\":\"GlyphRenderer\"},{\"attributes\":{},\"id\":\"1300\",\"type\":\"AllLabels\"},{\"attributes\":{\"end\":1674432000000.0,\"reset_end\":1674432000000.0,\"reset_start\":1517529600000.0,\"start\":1517529600000.0,\"tags\":[[[\"timestamp\",\"timestamp\",null]]]},\"id\":\"1260\",\"type\":\"Range1d\"},{\"attributes\":{\"data\":{\"change\":{\"__ndarray__\":\"QNl0wuZD7D8FXZBmA8HtP3RNcukUw+k/pAjnOrqK5T8vC7oHtHroP+lR4UrUXec/nGcpQL896T8489oTsUfrP3yb4udnjuo/8YhIouEk6T+OfqFp7M/qPxoq81alFuo/Gah8jVeB7D9raNGgVuvsP+LfTB1/JO0/muJx9MgQ7j+JGs/UL4TsP3Mk3jTFIe0/IwFuopqi6z8IJIWE4jvqP0paNF2KFuk/bO1pzjms6j9OszSLK/HpP1dleSgbE+o/HQENTbrU6j+e1+jOcRvrP+ouhE8xZeo/zyqg6YXr6j/HfpIFQ3LqP2Ce6l8zdeo/iOeSTOS/6j/Qh871OFnqP/XUpMD7Nuk/WHWX9lk85z9t38xYO7/lP4t940lkf+Y/7pclzlQz5T9ijINwU1PmPzFfkPuUmeU/Ft6rVnBS5T8pQuM7tPXiP0Yh9FIa3uI/d9rOMvOR4j9EoDeurQ/hP1fdc0v+n+A/bWAAdt0u4T9YNymeaTLhP1meuzxrVuE/FzpScFqo4D+gMzGJsqfgP/nSpeWOP+A/dk1s5I0u4D9PEdp/gj7eP24ptjIDyds/xlEKtGCM2z8Kuf5ITtPXP8/jN9hsXNg/+PEPSQ952D8oly8TyW7XPychfhGH2tc/78N+jAC82T8fiY+nk33XP8bXPegRqNc/0bksO3nb1j/kJ6mU+MjXP2SasHcTudg/7v6lXcGZ2D++PlATIJLZP1vhmRqpk9o/XJOjisJt3j+dmqYTgWreP9+RwnvI7N0/Jf+WclE63z+/RxBFcOXgP0h7MOa8UeI/nIcPWRwD4j9+vkT3hIDiP35wrfIXHuM/TfzvTtMR5T/4K4MIcE/iP43r43JquOM/DWnfMz9A4z9x6FRMXlfkP4owUID/fuQ//y6JyZvu4z8/CFPOtArkP0WHNlTOceQ/3Np3H4sx5z8+XzlM3F/nP8TW/J0jSOg/13NFA8uS5z95R+Qn5WzmP3PBq7NIZuY/iADU7tlh5j+QVJPgcqPlPwAoVHMzOOQ/4rXJfWtp5D9dYL4i0dLlPyOtuO5evOU/WPiCeUEX5T+d3tTIYgnlP5MK/rxsA+Q/xdPMjsio5D/aFV8vQrnkP4H819m/SOU/kx8lKcPN5D/ggZLApUXjP+Geppb9XOE/wkWjxmLn4T/ggb+3+XThP53LpmMieeE/3MK40tYJ4T/hvM/6+rTePys/4K1j0uA/7BWgWzqm4D/hCy5Uvy/hP/KK5CUDQuE/dIDvVJ+b4T+fWYjyn2XiPxKig1aWpOE/oROxYOAg4j/lxkmwRxDiP+KDPcKGAeI/FMiIzTji4T9s7Rj3csfhP1S8fAgQVN8/axogzLm73z+Rz6IAm5DdPz5cssLaadw/gHTbbG/t3j9d2cRoqDfdP8O5rnE+u90/+dYSpIXH3T95bvOveODeP8SVcJx0AeA/Cl/ari7p3z9uoSQDl2HfP3Fh5mH5t9s/KIQT6Yw83D+Cofr35TvbP93PPYIVZNs/8yRFPZbA2T+Jj3F7uFLaP2eT8H8NItk/QtqvueXx2T8wDNfG7xXbPyEtrFG2Ats/B2ye/CVJ3D8KOnoSRJ/bPxx/9+7Wzts/Vzsbu+c63D9ywOPazzTcP24Y46qmQd0/MlUVWPEa3T8ol9A8fF3cP+2RA6jA2dk/MY0HM/yR2j+Jaky5fJfZP/fqinG009k/4Otl/RHz2T/XSpAqvsTaPwdFjZINmtw/pvQtKvbP3T8nHdUm2JfcP5GSdzzk8ds/Y/1BH6nR2j9r9SpneITbP0nkVQgjWts/zJEVlAXU2j/9uGxheobcP5sr4jSsHdw/J1Jw1duc2z8q3lKDm/LbP7iqABtxyNs/iJMPdeTE2z/DpB805TLbP0+gKXhE0dk/HLGqx2cJ2T+F2RZkno3YP9U0bNeM49g/yVZBr9Q72D+iflBgjW3YP4wGMCPIMtg//tYbGfef1j/zJmFCbTjVPz8iDoglwdU/S2vkiqLi0z8ONrv82yrTPzWB/doiBNM/Jf8Jm0oM0T+aQEXZFJnQP9+8edBczdA/Wzy1GOsj0T+zjt3nn8nSP53LB6I4mtE/eUZ2L7nm0T/o9puwv1LQP+9oC972xtA/0R791nEl0D+SdIwYPH3QP++Ix1mM1tA/aylKOvWj0D+VtE45L2DQP/jUOwm0/tA/VMLwr6+k0T8T4H1DNDfRP8gKYUTi59A/AGiHlxzX0D/65pfRC5PRPwA6rA5FhNE/Dm2timU20T8U7ab8hwDRPw9aTC1hpss/Aeiodellyz86m5twetnJP14KHYLujsc/LUBYXKRvxz/7aP9FXXTHP+QfsOVdBsY/ZVNUw4HRxT/A1aguRyfJPwJf/OVPM8k/WtiqT1mMyj9ZX6WNo0DKP+dJCLedjMc/SY/6sEP9yD9vQBDNFP3IP4E8/yKRuso/LE/ZeJ9YzT+s4+dNp57MP3G/j2vzE80/A1UwM6s4yz90vt1mJQHKPy8vYUwqsMk/wn7Qk3oxyz/cscTz33fKP1v2mrsskcs/vVeLnyG2yz8LQRCnwnbLP7QfAM95Ccs/IOJNjpc9yj9S3zbrRHLKPwxIZZVFFss/PlmsAa/Kyj973OHEHunKPxpnCAKqSMs/m+2sKuEhyz/CJafldN7KPzdh/Q9tjcY/tewV7qNpxz+s/x+Og8jHP4roK8XOSsc/50BS8AH1yD8K32qIrgHJP1HvzG8npcg/i2Abm3szyD/MNvBq6D7IP5Wy+N3Kcsg/n9jGpwRqyD8KOoDekEjIPzOe/kJ2Ucg/jNPhWrdCyD/UvFJwMiDIP48GMCPIMsg/rZ61lp9NyD9FEEG813DIP7YSW5V7ecc/jgFSrOWCxz8xprS8kH3HP3sIoMT9qsc/7huLSbTgxz/cST9kBtPHP4QMMaJuscg/SU/36VTiyD9o2Dz1h//JP6lopWre2Mk/G2RqVf9ByT8rKoPVRwDJP1KhH8wyS8k/fnIl7tkmyT8LktPQwgrJP7qDHw5Tncg/VO6Pm5WWxT/U9NkTlITFP83cFLgU2cQ/pjiTjEC1xD8b0hfEqRLFP1s7nyziwME/RpFyrAUGvz8LAqc910TAP1JlC3imKL4/kGNy1d1YvT9uVgqPmAO7P+Pb5Re3t7s/uXQqRT3JuT993QujTS+6P9hmtfyVJL0/yVOyW0v6uz8PmTmK8O+6P2W8XavjPLw/Z+zXDf6zuz+5IV/6MO25P29cv7m+O7o/TdE71DNkuD/1099fVNe1P0nPqpDFNLY/tJJi3J3vtT+zAjSmWKW2P4GvljC80rU/qwWNf8ErtT8Spv6QLJC1P3HjlXUmmbQ/vXn70DQRtD9feKjqRxm0PzBoqzNTS7Q/1meJPNiktj9em6ndJBG4P+Qqli+oGrg/VYapmIKpuz8Io/BS/w+6P1kcKwKTyrs/Q3EB0P4fvz/FZAsWmrDAP4Vwpnvh574/JSIyhAtjvz9v38w/Y7+7P8oes62pYcA/Z+EIz/lswD9Fd3OLEaXAP4M5bPOavr8/E/kkwlDCwD8ERwcjznPCP8pVKj+qv8E/n2IykZ1lwj83Q/DzzoXCP46s1zYFxsI/1zBLyskNwj8E4VS0+eTBP2bVHaN88sE/JBiKx5edvj+J/f7d+Vu+P9Kf43SX+70/t0UjcADTuz9O/deYnri+P02z4+PjC70/nZeSPipovT9xvGPICXS9P36SBqWWzbw/bdjAwWOjvT93CJp2B3C8P5TorOzY4rs/f3RgobZDvD8lDqTKzvS7P5+1MDlX77s/rFrOV1mzuz+98EFuE7q7P43CNLMw/ro/hyoWn+heuT/qeB4oeiK5P8un9FIg7Lk/R7uzWpx7uT/m5nCwDJ25P+EetTvpSLo/8ly/wOmVuT87pO7J9Km5P16trxXrkrk/R8NonRv5uD9qKN7LteG4P180hSZpY7w/QCbk9VltvD9fK+/357S9P1I+0TUl37w/Kf2tssQsvT9EyoI9oSu9P6YbK2O95Lw/Nx9RhAMQvT9BoDOsr1a9P40ijWmozL8/SFvAASZjwT8Rb1ZdO0zBP+uRBclwzME/gJ4UQyNkwT/Gu0lTXr7BPx7oQaT85cI/TieHl/4qwD91rRYo9KPAP3UrRy8mb8A/PzI0MlIzwD/wTK8bOEbAPyii1sP/PMA/Uyem0bXxvz+2yJk9bnq/P7wCHR28ab4/Xm+EeAFnwD/MondPd4TAP0SFXdd3bcA/aau6YuMUwD9f+2ddXGvAP39eHhqZRsA/gwD0kPzavz+261QOCwDAP+5vQUQyuL8/8i/orYbTvz+g90LbBmPAPzFBCldq8sA/sLnbCV6pwD/OxTL5S5bAP0QHDTgrucA/u0m8+0K+wD+ce/663ELAP3a1AGt6U8A/5WHkm7lzwD8nGV1EjU3AP705STb2EcA/6U5b0gofwD/JDGDmdMfAPw/0EYqSl8A/49QKY3D1wD/u6m+fG+nAP3GDsfd618A/nR1zWR3hwD9eQQVaY4PDPxzZDaMhN8M/E2oeelrPwj+6fcbBtLLDP+A5Re7gv8M/0iSqRWvFxD8G8MJY6HPFPy9y/lel9cQ/N7BpWucaxT/gipDAKbLDP4uZrrP8msM/xcN6mDGUwz+CCG02gPnDP5ARdHqlOsM/1kkFwfLywz8gN5UodN7DPzm+hzCOr8Q/j+VXolasxD99d5+ypK3EP2HjzpDFPMQ/bfdzJHh0xD9qmQDQdmfEP3mqW1cwvMM/e/1nyuFhwj+ttu7dZJvCP0TmVwIB28I/bRkyqEa4wj8NBK2xgXjCP+PxTaytTMM/zxB6ZJ4jwz8Z7GtlXEvDP5Xsi4L4/MM/80ppB12Fwz/hE0pw0XPDP7Xaem8wjMQ/72pFWjg1xD+eG27rPVjEP45x5yUrRMQ/JoIJixqbxD8Bx+ZU1B/HP7GS4nszS8Y/C7L7PEZtxz/7XpHt0dfJPzHPUN31ac0/kAyEm4lrzz/pU6h4uQLNPxI8zRVd68s/Vt+tGbwYzz+hBs0GgPnNPzpEftGbX84/D8kkvzAfzT/l+h3LyEXNP7vmf7QBsc0/8Y7SrlD2zT+A4WEywcjPP4cMm9efPNA/cAENx/Ur0D8hn6KVuQjQP6Q/5Gkzc84/hblaNY/ozz97EEi2npXPPyJR4cBzFNA/OPITEicQzj9jCsh50bjMPzaObOvZZs0/jyCuoq6wzT9gibfkCt3NP3Ysad3ZPs0/YV6KT2e9yz89j2rKJHXNP9wjO/MuQM0/H6MiwOIMzz/AlYcMpHzOP04i8bTlbc8/LTwB2RMC0D9MAKH1LgXQP/5i0npMU9A/uCEBb0eLzz8tfyNmXAjQP0K/wF3WKtA/07BRGXyM0T/x7auX6WjSPzjHqSZDUdI/NdMoYtJ40j8mF47OJO7SP7iZ1+TkCdQ/0qyn97GC0T/cM4i6B4XSP11e92iVC9M//zlraElM0T9su3SsJnnRP6VnhvEAWtE/EV4W3T0J0j86+UQxQe7QP1MGchsuI9E/MnIXoFEc0T+msxB/2zDSPyQlDePho9I/GCqFdE5h0j+/JUhKuEHRP0zCMbGM+s8/KpFW1KFw0D9DcT+5xQjQP8drz7WSFcs/Zm8chIlYyz8llWK4o7THP61CHqdEK8k/eOQpYr72yj9jsHaeUVfKPzGIEe6GRMs/yY4Axz7ayj+LAxjwWuTJP2CgGq8nUck/fiICy7TUyT8HI/8sDiPKP95MOb5oI8o/e33DvxCvyD/LGxsoLSLJP2Y6O8uoJMk/5wesovINyT/gk0WdsAXKP1rr5o3s68k/SycD59jtyT+NhnsGkXrKP+DgEB4IgMo/Hn/LsMffyz+pLvSfH+bKP5mN4UFo8co/9UEqrmNLyj+o6P/b6wzJP18oYNmBmsg/gGLE66e3yT+C7KjvRCXJPwlGR9Wx1sg/vaomwlY1xj/NoEN8DW/GPxkRg5HDEcY/MBEdwk4Zxj82gKHylyXHP8JPIy+PK8g/GobHmrdkxz+lfcf0/D3GP9NKjL5MxcY/eQXAuBIsxz8tyGWi+sPGP42ocuh8PMY/UvG3YhJ8xj+BjG7hB1HGP3uAvoHescQ/BN7bgaEsxD/52WlE2xfEP4V3Ms6ZhsQ/ojE0Zv9sxD9R8/nZqznFPylbwbLEXMU/2vNXO/DxxD9HWDA41rvEP4vJ8eYEOsQ/BzTk+xY3xT9ctNMiUpXFP2rs0+QKj8U/njlIuIllxT/zbPctMUXFPw5GFb36isU/OH9O/dSNxT9nRVOh+GLGPzP8iO9DlsY/0Hmb22d1xz9aURGTo9PIP5tXtZx3KMk/Tz1foLdVyj8mHA75SPPJP13C1kIWpsk/pc4j0RstyT9XDfHn5AfIP16z9V3LAcQ/9v2lUI1WxD+v9E7vo9fDPwmAUCDiysQ/geVl9azGxD/AysSVsUrEP+vvs/cgaMU/b9mAUv4axT+B8q1Oq4HFP41KdvPC2cQ/UkKQMyoQxT+NLE9Y3fzEP5ehfnuOmMQ/tC0PiyqQxT8di77XnKnFP2kndm4GAcc/xq5jPkHPxj8JdMbzT7rFP30Uaxk1hcU/EWAczz6rxT9nhAFEGUDGPz/j1UzclsU/bxT6A5HyxD/7qkPP8y/FP/fr51GvqcQ/G3OD1RqUxD9ZOsUS+OPEP29UR/RH0cQ/OWldPHSBxD+psQQ/5FPDP7QnU0/BTMM/jOdh8m2axT8lqiOCAmfFP0FxGNtE7cU/CDyYRia9xT83yHmUIKfGPwCnzD/6+sU/NyFFqeHkxT+KSUve+OTFPy3f71Sg48U/15ojnOe1xT9VPE8CpS3GP+LNA4h9h8Y/aUKo1D/Nxj+OHQTACl/GPzl7gwxV7MU/R+pRJzsFxj/9YL+1w4zGP8BcpR1GE8Y/bgq54YQ8xj9dotS8o2fGP0EpK9HPIsY/U72/nuZ7xT+1U4kyCdLFPyl/USD9B8Y/M1EgShJ9xT8WGW9CgB7FP8ha5fb26MQ/juUEOUA3wz8BaGRaMOLBP5Fh678lQsI/lQL4ALf/wD90VDV0q27BPyZlhtJ8usE/5kA6lr01wj/zk9f1WA7CP+HB1Xiee8I/lPONB2Unwj9KS+DVJP7BP9KQwKRavcE/Ef5N2MGbwT/+HO/A7nbBPyg3FkIjw8E/iP5Py3nBwT9vj5n8fLTBP6GzcvSMAMI//o7g+/GjwT858aWNSWjBP4eAa1tGF8E/W8I4LBZUwT/8I49OAEDBPxqJUFPEAME/mT9vHUEIwT+YpZjElM2/P9e2H6SxLr0/YsYXqcitvz854h/0/8e+P6mad/F0uL4/Nd7hQHp/vj+Ycspc7oG/P96l07zqnL4/WRrmJFO4vj/FwrZqVRm+P9xDVj+kE74/JFAiNqRHvj+RuS55KYu+PySni6GkCcA/DV/PP9WRvz+HMAJGp9m+P+T7EPg7Ir8/tErU745Tvj+ERBT9j++/P9dPVEkhE8A/PNb0f+o3wD+738f9eyzBP6pePBtTFcE/u3lKj67PwD+syEQLQIrAP02NGDcdIsE/tl/Zu4cCwT+psLx5T1zBPyBNFg8fKsE/x0mJeyDAwz/smEvqg8jDP8rYwV13kMM/LXiJ8R1TxD9LpfBJ1N7EP6iEiQoJ38M/Jy2fJ6Djwz/EGS+xIDLEP4sWPv9hB8Q/Qq0zAeljwz8mkFNgpWfDP7H5o8XNMcM/UZInEcUAxD+RGAYzt1fEP50CZfdv/cQ/CfFBzzjVxD/lWPwJ7frFP8bK9vDmcMU/0tnmpvTbxT8dVu4oknLGP3i+v0CUmMY/engdr9uFxj92SqxlPU7IP3ZzsElKRck/5mR0gb+Byj/Af9rZjo7KP/XCwyIONMs/7zIY8gSayj/HK8H9oBHMP45a76ASls8/Q1+Bkx/ozz97kffwmOnQP0dXlxFugc8/zbk/Xijuzj+aKmgiPbPPP2Dg6SD5xtA/G8bKrizqzj+PoP1h5LLOP8T3o4r/m88/2Dg31mc4zz/sPfGBNErQPy4wzRVLkM8/ANJ86DR+zT8/3ETZwNvKP7RXraVy/Mo/L4YzG6r8yj+1GssSFCrKP1KnB8hUD8o/+ZH+lLhwyz85juV5LLfKP1ik8IxXuMo/neJW1RBJyz/H3nQkb/vMPxDAvL6eTsw/72Jh8Vnixz+KEe8C4AnIPxpjNsG75Mc/elZ2wgQxxz9iWkxdtr26P1CK7pt2tL8/wBTPNnpZvT8UykJ1wc29P6CxR6CcU7o/8QiyivAeuz9n9isqwFW7PztX2ouTQcA/yIB8myaYvz9Mu4mYHp2/PysZdDZmWr0/a/gv1VIOwD8jWbWjnYPAP6elgJ9zNcA/NeCKuG53wD+/FKJ+UeG/P1CD++N5Lb8/0b4qNETkvT8g+ex3WaK/P3lbqpRVzL8/GUI7c1kkwD8hO7kPLOfAP2YTbekQ6cA/XwdQYl5IwT9yEHXQZxXBP3C0x/4GIcQ/VARwUiCmwz/VLHTw1ovEP/lWWwXyU8Q/A31LllHawj/pmE6PVdTCP3FDoRB+LcM/rnzrH1aZwj/i6uXDdMHCP2Fyy98oPsI/+GwjLRV9xD/jI0fORm3EP4jqF22rPsY/BtgwjzmdxT8K1mZvV4HEPzOhGGbDjsQ/QIM3GDm7xT+la+vLOgXGP+aKVitxhcY/pWRKRrlExz8idFPFoXvHPySj19PNeMc/xJZmfBSdxz//oJNWU9LJP76wmNT3tMg/1Y5rgJF+yT9GuSnpRaDJP5XGH750Gsk/XdvA1WTGyD9TdHCPwJvIP+7e3L7sSMg/+6pJ6MZDyT8JWZBuK1nJP3SB+9PGLsk/yGcN9wVyxj+wJhHiKiDGP2fY4YK+h8Y/Yg1bqce0xz+iQIQfNSfIPykJoKL+R8c/jMJZ4Pzhxz/FuIvZdafIP5rXBsrjh8k/bHRpkCtnyT9AjAcp+QDJP1gYZ9XPycc/b4OyusenyD+x9SiVP9bIPxdeoyiTFcg/DuNpA29vyD8kvcm8UAfIP9qAQvxl28g/BQll/9Qpyj+2dTVAQ0PKP+UnhQ1+18w/31gCoRZ9yz8W4ODMC2XNP3y6rZpNO8w/YJcCMFwPzT81J0Y24xbNPzb8gHJCtcw/89Yr6N7KzD8KYVSMdS3NP5pb5q1FUM0/ZNIPc6olzT+Ftops2nLNP06s0Ys8k8s/Qqx+36dDzD80O/AbyW7MP2GLpjG53Ms/11XQHzJdyz9UWAV+6OXLP/yXM56fu8s/Kc6BomCfyz8uinSyLAjLP7AvHzNAScs/92ywt5VAyz9WkDwsNd3MP6fe6EY6Ds0/0zse5ToPzD/TvA4hErnLP3dckoM/Vcs/un2+g96Iyj9fMz7XmtHKPwXt3HxdKMs/LM3Mdhfvyj8b/8mzSIHLP5sc8QjYTMs/nxvmDdLSyj9IuTwiJ0PLPwv2+Z41GMs//c4qkAq+zD+aCycv3XPMP6/oJFY+W80/9H4Bj+rrzD+lQ1L4Ca7MP5mA2J6Ff8w/m8YOwvnQzD+KJrKH+4PMP4pLzRF5lsw/qBc32f9fzD/SFOOqSc7LP1f3mkfZs8s/L/XZkG8GzD/4ue768mHMP+pphzfUGsw/fjRygd8ozT8AdkZ2GzTPP/fvDWhyWNA/B3FZGmad0D+/TeMX0RfSP63GImvsbNI/7Z5hU8Ah0z+/ojfcw9fSP8dfSKIg79I/RskE9OPo0z+LkVl4+I/UP0l3Hzjm69Y//A9WuZYO1j/lawQ8lvzWPwhf0pcgM9c/uSgsf5bl1z9PJB1/nIDXP78/NOVEldY/xbos4sNx1z/6OIWkF0bXPwdfUje2jtc/IRwga4qi1j+EQ8wpoETXPw8WDGwxg9k/vGzVyg0H2j/eGG13d8nZP5xAo/4K0Nk/9yZwHTiP2T/dgosG7DXZP+gzicDSL9g/YBNks8rH2D8yfA8dtyfXP3ljYMHpjdc/6gYwUx1K1z9Nftz3a0nYP0lzi7Wj2dY/KZX57jD/1j8INK5Cy8TWPzid3t+Djtc/ibcGbynM1z+zAKbW633ZPxFV7te949k/Zc3GxB5j3D9O1oOKTy/aP/NJO8sX89Y/vW1ZFTsa1z+fh6wqJvPTP/s76DfoBtU/zN90JGr81D9ZvgGK0xbUP33a3vmY5NQ/NPXhDXHn1T9ufHfJ4kvWP+hRvfkcCtc/iSumUN/A1T9s5KrnFXPWP3q6bVy9tdU/C7p+JJDE1T9bpqBiFSbXP+0Hez8t39Y/WaEMVCbx1j81IZzuZBTWPxr06u6PVtQ/D5UZ8/N/1D+tA8YEsRvTP29SlCjfydQ/bxbxWfL01D8/ZAhmSifVP+OkDIEARdU/m060pkgi1T/fsBaMU2jVP9lNr2ATa9U/1DsTaIYE1T9MMLfuZJrUP1JkDzy1ntQ/1E9Gr/n61D8MhXGr9g/VP0jKulbIR9Q/ZqdXAOhW1D/GpBT2W9/UP9x93SsvwdU//4jdiBgT1j+Typrqr1LWP+/FOKZ2Etc/B69AWtSu1j826I2M1JTWPwTwbnW4ddY/jz6DPOnK1T8fkFST7fLVP1iEfHt6gdY/QGuljbWb1j+E5BBPNffVP8urpH9iVtc/fI160Cqf2D8UHjhNI2LYP81A5TQhi9g/Sdy9ZxMs2D9AbvmSQXDXP1Yq5hk/Ctg/Bduacngg1z8CZLVgNgPXP93rTd6lx9Y/P2/PThUB1z+KybB74ZXXP1wKVSfHzNY/zjOzO38Q1z+o7Jnn/O3XP4CcIsumo9g/pI8tMOsO2z9WYSjqY+3ZP4MU8Nkt/do/tpQ+fBxu2j8bmXm6JcLaP3zFWvZ1jNs/Vkwe76xu2z/1Yz0FLD7cP4EHh/CkYds/E6MaI9ih2j+QFozPc17bPz1qv8mDldw/clSKlCuI3D8JUBBdiBDcP7vQUO4jVd4/k9ABAkZZ4D8eYTfSoprgP18BHA5pGuI/Jx085LT34T/CRlFfv/rgPzWauFEa394/oNiApy/L3j8FvP2WiAPgPzpY5vxfIeE/mKyNzhFL4j+VBiRveHnhP2Wvjwl4zeE/J/kfr0hZ4j9PHtM+mfDgP5K9Ak8WwOE/aldZCo/o4T+3e6xb5JvhPzGfVYj0geA/9evkWwQQ4T8Einjs5qbgP5F54mQsPeA/vsL39Jrq4D/4N+9JSYvhP7POjUV4b+E/CBJQefGI4T++IBTBmu3iP/+zhtOJIOM/+wkyKoF74z8p9FM6rJ3jP79wig6r/eI/uEKIWswk4j/IVHYHfuPiP2FkpT/6XeE/zMXyRm0y4j+pS6pMLqPiP5+V2BT46uI/j7XW63pP5D96ir8wN7vlP1o70YPEw+U/fmFNr9pc5j+17YMXoPPlP+Jl9Bz9uuU/vPZpCmYL5z/kZSqhJQbtP+HmTe0j8+4/YXSE9TRd8D8Y8iSrGvXxPzbTK0bPO/I/8iETbys28j9Rwnv9yQ7zP/ivdF4Tx/I/29OvYKc38D/Gxk6GhgvvPxjG1vk/0vA/CsfNQUsg8j83gqE7wW7xP7w+csq9WfI/LSqDx+xM8j9Dp02yKLTyPzjlGx45ffQ/dsVFgC6Q9D/NryxOVa/wP4JyL9kRZfI/9WPfoApQ8j8h9Qncu7P0P3S7vVvVs/M/ChLtiSYw9D+eCCvbkqTyP2mEPE+Y0vM/JDGXCyGR9D//4D9Iunj0P0njWBPtj/M/zasIpshd9D9IXabZYor2P7zZwaJStfg/Aw3rmmm59z8Sll7QOJH5P58p32XT9fg/RP5R2IoD+D+RuI/aufv5P/iPmkRLTfo/b17D7K/y+T8mxTIlU4n6P7dTBqfQbPs/7yYpVsP8+j8JgyzKY9r6P8Xr0JwQevo/JA4KHO1++j9K9Xfckn/7P3aV7Hh70vw/W8ICvP0o/T9z11pQQY78P6MsuaVxy/w/nD3GVHOC+j/d5MRl4lv3P+JV/0WRMvg/u4gllv7z9T/f6pAnAIP1P2hcQD8WuPU/H9SZ6c4Q9T9A+RTQ80b3P1FPB+5fNPY/lJ3g+2Vx9z/Eaqa9JfD2P2M3hfs+z/Y/6pfKQNWd+D+tzFHjXqL5P5MBZaJIS/s/Vxi7cS7K+z/xJ6lC2sP6P5TG1ojJKvs/ywoMtshc+j+wueSS36H8PxabxefTlvs/qgvJVm2n+j8wWp0slOH6P1JHzL1UIPs/+1W257uF+j/2FpSKJQr7P4ngABcl9/o/obB2dSea+j/7nBmOMCn5P7Ua0Zvi+Pg/nvZ8LUa09z/B9x42r7v3P/UJQzAEVfk/Fpz9mgKJ+T8OTB/6RSn5P5Bw7a7+Efs/jtcVEVd2+z82NLSwyon8P2SOkesoav0/A/Avhibi/z9WMJWz8Cz+PwDN9XNXI/8/CWA20pFb/z+BbOGRhoP/PwFBtLaMUv0/XkCQZAQS/z95JO0zUNP+P8K6sZ5pxv8/zKaEHY4MAEC0pqxCZ9P/P1OAW+wNGgFA3DtLUN0cAkDA3mcn1rwCQIl0bqvZFgJAtTBiyRZxAUCM4gEd5qMAQItG9hHNHABARNPUwSBVAUAl2NBM5pYBQJ1XrQPA4AFAnDpcJK6UAUClaEAwUnMAQMSg0GguOgFAUdXEVxjaAkAUw39Lj84DQAh4oC+WbQRA0nRDD5OBBED1+ul1q6AEQKM0S15+6QVAGV5ozDr1BUDTzFzqYoUJQIjl+Et6MwhAYaV9Vv4zCkBoJiy1PvcJQOpm7huI6wlAvXW+XlIHDUCsgLaYNDkNQAfQ9VrbZQ1AQAN/F+8BD0C8MTN86igMQOzMaVtKogtAcWUSjTxXDkCL6ilrng8LQCKK27g8rwpAIHEs8kFqCEBYzfwoPiQJQMVBe/GPTQJAl7g/Gsi1BEAN/bGtUxQCQDINiHhsEwFArQW5BgRi/z/c6tO926kDQNnuaLbkIQRAqibMCpZ8BUCnoClXwFoEQDeSv2js/wFArYcEq5f0AEDRA8vujscBQCcbJbO6MQRAFmEBl62WA0DajvQS7yAEQCiqkZ2oPAVADAtuy8r+A0AMih6/E5EDQJQLFpUCMgRAxAxrElBEA0AOcBdupLkCQFeIYWmYZgNAv0cGyjNiAkCK2sx5/IEBQHu3dLufpQFAcwVBPmqoAkBwzn1UluACQMzTusutawNAlWU4vnGcAUDrLxSRtKQBQFTCE+2bmQBAlzfq9D00AEDjgM0/eLUAQO2aJOHdF/w/Vk20uXbk+z8PS+QfnJn9P7q1IS28lP0/h/79IF35+j+feR2MYTb7P6XH7ytScP0/LIlJmQ/w/j/nRErKehIAQDPCG6Ei6wBAQhqGxFhx/z/J4zRtGvz/Pzmu5+PojgBAyuBGs/dEAUBWvf4HfFoAQDIexVOYSgFA/5Vtzng4AUB8uK29zIn/P+0OBm9a7/8/aMiQDPZo/z9HK+z5ltT/P5TK5kyLTP4/9aweNITc/D+hLs3uG6v9P38ZT2Zsbvw/vyKpbCf5+z9SS9R4Yz/8P9riyW7sMvw/RE0uPOYI+z8X2p3cdpf6PxYIiq5Pnv0/YYOHq60g/j8oYFju45v/P+EZu3ynSABAIBkW/8FMAEDzgV46uJwAQIclD4FtGAFAgwJK3gUVAUB7RHjEwbUBQEMQ7FSGWQJAfeYs0mLdAkBmbyGJNg4DQJ72zOMvagNAiXwi9uicAkBAAqK+JkQEQOgiUye6BwVADYQyZduABUDZUM7j7nsHQCctKyqsagZAh28JjiaQB0CyqTfrU14HQMrpvkNGiQdAuqahCDGjBkDFBlsBErYIQKno8Dv5SQhAnz/o9MafCEDZD4Fni3oHQOgqu9rKbAZAn/HpFsd2BkDgIhJ9a6wHQJXM7uHlcghA1g3sxQb/B0DZObCfjR0IQJDHutpxsAhA4VdL9eiYB0Al9mURzfwHQM89Hm2PDwdAik7hVstTCECCRPrf6CEIQPDxc5zGAAhAf9r9VsX7B0AEw13+bIoJQO7XnHMuhgxATLVUvLQyDEC81Kgcnk8NQGcRl2ga6wxAcHdHKo1lDUCn2QLDUTgNQIyNl8NzfAlA6Ftben8DCkC9v+/PQH4JQETt9GRE4wdA76DIAS5TCEDthWCjfV0JQEqKFO4vcAhAUpYPrryBCUAPOPXyIOQKQAqpiEdekApA2vC3GGlHCUA2GJFMKYcJQC34An3ZwwhAS/Y+fnACBkDXHK5+9Y8EQB/M+BbM5AZAZSeb1qp4B0A8hxvLaM4FQJ5vW4XJwgVAIwpbVxbHBkDtwie1HNMFQL0+RRKV4QRAY27V4+E4BUCP489buFMGQHY+3WEWmghA0K1CoGA6CUAvXKqjJm0JQEaqZXFHJAlARFOadN8rCkCJ/vKxA6IKQN0qGDkhsApA296X4wSCCkCa2QjOyZgKQMpyQMxrewlAdUY65fheCkDJ+OTtd/oJQPKLPDjW0gpA5wCvLDspDECLziBRIbsMQN5T5iS3fQxAeYeuy46dDECZAEMQS+ILQILIgzO51wxAbnBG3LvpDkBQ1SwzIygOQCuhMirrhw1An7OGK5MHD0D6ws6NFGgOQPM/Nb6SXw9AtX4Is1a6DkA1V48x5TsNQBWyKH3N4w9ACwC0QTlrEEDk+P50ZRYQQPhCaLU95Q9ASaeaAmwVEEDh1ULTIA0RQEbIlUJzIhFAEpkzou3fEEAfVW5tS68QQJA59Xvw0BBAcjlcwSsvEUDPy/HZhuURQGzTSckynBFAs4qBywo+EUAIref+vJcRQO6/liiAWxFAC4/VjJhMEUDd2BdwsjQRQFwDsx0k8xBA8B/Y07FcD0DIt8N+U+QPQLTwDtjvwQ1AqqaCsbn4D0AiUjiSo2YQQLw0V+VQwg9AbMVa8iJpDkBinBQVySQQQL87YP2piQ9AuSnOPNvLD0C6xJyyjfsNQLBz0yw8eQ5Ae16hdmPxD0CkzeejIIgQQDFu2mKSORFA/fM28jYPEUBnso8vJ8cQQMXlXtf1ZA9AUlRZq2mkDkBk6yCvVjoPQAr2nt/lNRBAOg8wllAMEECcecnhp4IQQHmvQxDZpA5AK+OyRnUSDUDNlTJ0gmEOQD9jMT64wA5Af1xQ5dMlDEBt4tnA+NsLQFlWOHa24w1AB5zEujt5DUDPE08LONsMQFewOBcrdg1A1vqv2EwtDUD4CBvSuUINQAtgKq5G5w1AKWWNrpyeDUAvk2/KYI4OQOFwkrkQHA5A0BJCIFJyDkBDRhTp5kAOQMgCkdcxCA5AgPe7LJBFDEBJ6LduW/0KQFYgwmjSnwtAcLZzAmBkC0Di4sUUKQoMQKy0jdAofAxABjeS+VL6C0CeJa6hizgMQJWRGk6OaApA24BszD5tCUB7iqX0bcAHQHLU1LSn/wZAmaAQ0Oh8B0BoLIyKwe4GQHsHVdjtFQhAoH8bK14VCUBFUXnQTikIQFJdyenRnghAEq45TenFCEBN/XVUvewIQJ2twurJ5AdA1f4qCduIB0ApnC0O/gYHQKxoVPGnUgZAR6Nqdb8GA0BFgMZi4uMBQM5Scwso2wJAPvwCN9smAkClYtFSh0QCQM5fh1yPWwJAZc4+HNEFAkC+HWh+G/ICQAV6/1pNUQNAFJHjTHRdA0DH8Imd8/4DQIPxmZGtxARAO/d2MZ/0A0BqhZm/l+0DQD2KVg5FMQZACZehdGpsBkAs/lW0970GQAKOrevPXwdAdvD5yf05B0Cm2c+2fRgIQHSScQ0Q5AZAuVsTrT/GBUAu8q3fKrMFQCnQ8/idcgVALQJsBdvRBUBQ9ddpCqcHQIzgNhPvQwdAPhF8FNhuBUDa6MXQgrgEQCRd+qaRjgRAhenxrWeNA0D23Syq/iQDQJpKIKavoQNAIdvMFH9EA0DGaFxBLFMDQFlcd24okARARR2ky7ivBECGKkkjXoADQJO4mwartgVAmOf+RSEcBkCmzn41ivEFQGfFEL9SFQVAQRa9eoV3A0C8nheSTdIDQHj1npU8AQNAIexrJjGUAkBvR+ygkyoDQNjcPdP7TQRAtpqa5S1mA0D05oGw2gkDQIselefHJgNAzJpAfYK8AkCRbwkUI0UDQBWNhMo4fQNAUEOINHqeBED1X7BK+e8EQCMpFVty6AVAxpW+7i/qBUAszakr0EYFQFhowLFAjgVA7UEfLVwdBkCGeTEtrosGQOcVOsNKHgdA6RZk4KQbB0Cx9dUrKWEHQBnn8d+8ewhAQUVxsYjRCEAYoQ9d+k0JQFMz5FjuLQlATd/b9tFoCEBAdfWKjKgJQIVHn2L+nwlAu0im2hY0CkAfvT6qDjEKQIwYWdelYAlAllfGVXSXB0BH00kAuAwIQHQ3vfVDvgdAN8g54kFDCEA/1FZp9OMHQCvGH3xxLAZAf/Gkfl2KBkDsHY4G3zEHQNu99CNvdgZAth7nbm+eBkBftz49LMcGQCLsBz/2QwZAqI0RYDe+BkCWikuMwhYHQOWsk5WQ5AZAWgcsKa84BkD47odskA0GQEMqbnGu2gVA7NC5hGS9BUAj5Oj7aGIGQPGJgl994wRATn1hoAZ9BUCpGoGYctgFQLN/iJVl8QRAGfZgbsBOBEANEDVsiggFQPu7Y/YBQQVAxpqAajm0BECM9SwcgN8FQK4WQjD7cgRANzyGG7YLBEBr28WtlJsDQOzIs8iuuQJAGDnd6bCzAECNpSYddG4BQFQl/vZP0/4/HCZu9tcu/T+BLQhqm/f9P4X47BsCl/4/FT0pipnr/z8JJlzwPhf+P+fXN9cBGf8/ij9Qg0uD/D+mzh8whwb+P1cz6MRfLf0/vz4Mg6df/T/qgOLDGmX+P2Lcr6TBVv0/+IL1GKhw/T/5a4M0le78P0HbMFvu1fo/zVgKmBup+T/rx4n42ib6P9cPupTY9Po//lJECSWz/T+l4x77D+X8P04Np7rJIPs/NVB6thVJ+z+uuNpQHmj6P9mAdkMozfo/4cVLnNna+j9wnjbR0qj7P4AJ5lqH/Po/96OKd4yu+j81CjkkSKD6P/vj7r8Pxfg/qS0S7X3B9j+PrN9+43/1P4/WyaR46/E/3/ibRm8G8j+FggvqeljyP0qlefSUxO8/qX+wKNgp8D8AOmcUO5DtPx2hDluCxvA/0VRgq3TG8D+83/5rubvwP0nwUMRcSO8/yU6NVmoC8T84ikipQEDyP0ssD716f/I/CLLanmDZ8T+yscXH88HxP36mn/T0BvE/6ryCUylZ8D/CEnjVSsHvP3zLcl3th+8/57AlNk677z868xLljvLvP5DrPGmiH/E/tJMUVbrg8D8CsNwzaajxPz9ki+0vafI//3UZ5bov8j/TfoN8rRryP7pmGEquYfE/PU381qhS8D+ypAt9l+PuP/gNtaLtkPA/9TBlW7+58T8hH5GUL1jyP9jUlPdFH/Q/JiDY4/3p8z/1ZYHuTnz3PxynhRAw9PY/YtP5UXSd9j8BOIThz3T3Pw7L5Jj53vY/o7CC4EMM9z8wuvJyXcv3P+/F+S6GgPU/qTsHKudy9T/HZME5WFf4P14AMTcvq/k/IZs3d5Gy+T8/6/vf1zr5Pxnax+/NA/k/zk/XWGVT+D92MJFh00r4PyojJh09Ffg/pKKizJvs9z8B3GGgB8X5PzVzbYdsKvk/50QRerhH+T9AbdTZyGn6P+7n+pW2Vfk/5LPr9xSM+z9piE+HW/z7P0I/dorgHf0/e6Wa3Z55/T9G5QB6BND8P9wObAP3U/w/L+qGH5zw+z8r35Sts0T7P5HTEcYMevs/NtfMdNH+9z90D9fHx3X3Px4+u27uFvg/AuQ3cxEj+D+OFaNcaLz4P3Q/RMuopvg/eedXNLM8+T9j/dOyKW72P8lFvJrAL/Y/0Lq39AVI9T/CYY4Dghr3Pwl7L1JPq/Y/jZDgXfkc9z8alcbatpj3P2BxZAabdvc/TLOhNx0p9z81YtGcNXj3P5T4xTfMDvg/UQyg3q479z8U6lx8QD/4P3ogh2X5U/g/ZFUkfuCS+T+PCEI9Z2z6P+nEXoyMNfo/+WAIpJ1++T9fnVQeMYT3P1wnQ5m3Ufg/cTsp17jk9T80Y7S3Qk/1P1jQp/lJ3fU/UrNvH2bd8z8C3dJyKH70P3Ad+2m7s/M/dl7IB16i8j82wF/mRMDzP1Zqwrl5wvM/bp9AymCb8z8lNks01EDzPyRUXG9d3fM/bYmDEZfJ8z+UvxK8U+XzP7wMf0Oh3vM/5vSs4WfB8z/r94AIM4PzP7n22CHP+/I/vsQnOR6w8z+FpYP9c0P0P8vMQmETIPQ/VgYO9ccb9D8Zqf53sNLzPwT97nfikfM/G8hPMPCs8z/EopU23TXzP//cfwkSCfM/Q8owf3RD8z/JX2cDoCnzPyQYRDEJTfM/7Aq/8yf38j8caeZI1W7zPwS4DEKhz/M/MbLCp6N+8z+WnMwDkCDzP1K0OmzgFvM/jEYEOKZW8z+vxUBIT43zPwgmyFR7SPQ/Y5TONjkC9D9Vg1wYiL71P/650zoITvc/QCVshkSH9j+YxBZmzSP3Pz9I+29gGPg/980H+EGq9z8FxsX5cWX3P7OzkeUQgPc/Elx7rpeb9j9op5Elpcj2P4lopN4Wefg/g000tt43+D8DrUlDnmP3P66YASW+Vfc/mxNRFufT8z9smXuN1F3wPy+1mHvQVPM/JV0Gzy8m8z8Xl3jff6zyP2tYARodLfI/OS/dRHZ48j+06OZKDJ/yP/lJyjtwFfI/wCOTEBnd8T/4zC/A3AjyP62ncasxIPI/hgtbWun+8D+PXK+v/nzwPz36hO0i4/A/Gf62Ygma8T8Nd+oPMOnxPyq6RY/t1fE/ZOr73Xrw8T+l4kzSdcfxPwYqzKMYaPE/hRr4Y2Ia8j8hiWEeb0bzPzFewwd//PI/XXc/lShB8z8HyYt8DX/yPwsRQeGpC/M/rykg1Um98j8817G05uryP6MSvEONVfI/aDLbEvAO8z8pXftf1s7yP60o1h/V1vI/WVo6jEDN8j+hrX2ZMfbyP2LZ5qMcpfM/H0l/ZWF68z8tmBKct9byP4TySKQjYfE/NMYMR+Os8T+uL2EGz5/xP+vKfmKqXvE/Mg8upnAd8j/pmRnczw3yP7Ms/ytDH/I/1LkP6com8j+Z/nVBjyryPxt0UYg7IvI/tawDDb9A8j9COwTFuwryP7zZ58vhs/E/+VEJFxjg8T/TT8jAGNfxP1E69uW4zfE/O+QQZrHd8T8IZqIE1hHyP/gj5CVNEvI/cXwko0qx8j8blOw0G5ryP80REPA84vI/M5LmVMjO8j9FX13EtibzP+SbopThqPM/nh35ky/i8z8MW8peu6X0P3YkCxUBGPU/8h2sc0GY9T9ZaRH6oRH3P3xoUyJiGPc/pAKrwiF19z+R0UCV51L3P4PbbjuUi/Y/yMzeOq0Y9z9I+ZYy7LD4P7mHaSiiNPg/aFiOZXI5+D/YurCy8jj4Pw==\",\"dtype\":\"float64\",\"order\":\"little\",\"shape\":[1814]},\"timestamp\":{\"__ndarray__\":\"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\",\"dtype\":\"float64\",\"order\":\"little\",\"shape\":[1814]}},\"selected\":{\"id\":\"1335\"},\"selection_policy\":{\"id\":\"1351\"}},\"id\":\"1334\",\"type\":\"ColumnDataSource\"},{\"attributes\":{},\"id\":\"1299\",\"type\":\"BasicTickFormatter\"},{\"attributes\":{\"callback\":null,\"formatters\":{\"@{timestamp}\":\"datetime\"},\"renderers\":[{\"id\":\"1340\"}],\"tags\":[\"hv_created\"],\"tooltips\":[[\"timestamp\",\"@{timestamp}{%F %T}\"],[\"change\",\"@{change}\"]]},\"id\":\"1263\",\"type\":\"HoverTool\"},{\"attributes\":{\"children\":[{\"id\":\"1259\"},{\"id\":\"1264\"},{\"id\":\"1392\"}],\"margin\":[0,0,0,0],\"name\":\"Row01152\",\"tags\":[\"embedded\"]},\"id\":\"1258\",\"type\":\"Row\"},{\"attributes\":{\"click_policy\":\"mute\",\"coordinates\":null,\"group\":null,\"items\":[{\"id\":\"1332\"},{\"id\":\"1366\"}]},\"id\":\"1331\",\"type\":\"Legend\"},{\"attributes\":{},\"id\":\"1316\",\"type\":\"UnionRenderers\"},{\"attributes\":{},\"id\":\"1269\",\"type\":\"LinearScale\"},{\"attributes\":{\"callback\":null,\"formatters\":{\"@{timestamp}\":\"datetime\"},\"renderers\":[{\"id\":\"1307\"}],\"tags\":[\"hv_created\"],\"tooltips\":[[\"timestamp\",\"@{timestamp}{%F %T}\"],[\"0\",\"@{A_0}\"]]},\"id\":\"1262\",\"type\":\"HoverTool\"},{\"attributes\":{\"months\":[0,4,8]},\"id\":\"1328\",\"type\":\"MonthsTicker\"},{\"attributes\":{\"coordinates\":null,\"data_source\":{\"id\":\"1334\"},\"glyph\":{\"id\":\"1337\"},\"group\":null,\"hover_glyph\":null,\"muted_glyph\":{\"id\":\"1339\"},\"nonselection_glyph\":{\"id\":\"1338\"},\"selection_glyph\":{\"id\":\"1367\"},\"view\":{\"id\":\"1341\"}},\"id\":\"1340\",\"type\":\"GlyphRenderer\"},{\"attributes\":{\"axis_label\":\"\",\"coordinates\":null,\"formatter\":{\"id\":\"1299\"},\"group\":null,\"major_label_policy\":{\"id\":\"1300\"},\"ticker\":{\"id\":\"1278\"}},\"id\":\"1277\",\"type\":\"LinearAxis\"},{\"attributes\":{\"line_alpha\":0.2,\"line_color\":\"#30a2da\",\"line_width\":2,\"x\":{\"field\":\"timestamp\"},\"y\":{\"field\":\"0\"}},\"id\":\"1306\",\"type\":\"Line\"},{\"attributes\":{\"days\":[1,8,15,22]},\"id\":\"1324\",\"type\":\"DaysTicker\"},{\"attributes\":{\"coordinates\":null,\"group\":null,\"text_color\":\"black\",\"text_font_size\":\"12pt\"},\"id\":\"1265\",\"type\":\"Title\"},{\"attributes\":{},\"id\":\"1330\",\"type\":\"YearsTicker\"},{\"attributes\":{\"months\":[0,6]},\"id\":\"1329\",\"type\":\"MonthsTicker\"},{\"attributes\":{},\"id\":\"1351\",\"type\":\"UnionRenderers\"},{\"attributes\":{\"tools\":[{\"id\":\"1262\"},{\"id\":\"1263\"},{\"id\":\"1281\"},{\"id\":\"1282\"},{\"id\":\"1283\"},{\"id\":\"1284\"},{\"id\":\"1285\"}]},\"id\":\"1287\",\"type\":\"Toolbar\"},{\"attributes\":{\"axis_label\":\"timestamp\",\"coordinates\":null,\"formatter\":{\"id\":\"1296\"},\"group\":null,\"major_label_policy\":{\"id\":\"1297\"},\"ticker\":{\"id\":\"1274\"}},\"id\":\"1273\",\"type\":\"DatetimeAxis\"},{\"attributes\":{\"days\":[1,15]},\"id\":\"1325\",\"type\":\"DaysTicker\"},{\"attributes\":{\"line_color\":\"#30a2da\",\"line_width\":2,\"x\":{\"field\":\"timestamp\"},\"y\":{\"field\":\"0\"}},\"id\":\"1333\",\"type\":\"Line\"},{\"attributes\":{\"source\":{\"id\":\"1334\"}},\"id\":\"1341\",\"type\":\"CDSView\"},{\"attributes\":{\"num_minor_ticks\":5,\"tickers\":[{\"id\":\"1319\"},{\"id\":\"1320\"},{\"id\":\"1321\"},{\"id\":\"1322\"},{\"id\":\"1323\"},{\"id\":\"1324\"},{\"id\":\"1325\"},{\"id\":\"1326\"},{\"id\":\"1327\"},{\"id\":\"1328\"},{\"id\":\"1329\"},{\"id\":\"1330\"}]},\"id\":\"1274\",\"type\":\"DatetimeTicker\"},{\"attributes\":{\"end\":101.55772013005554,\"reset_end\":101.55772013005554,\"reset_start\":-9.147006323627146,\"start\":-9.147006323627146,\"tags\":[[[\"0\",\"0\",null]]]},\"id\":\"1261\",\"type\":\"Range1d\"},{\"attributes\":{\"below\":[{\"id\":\"1273\"}],\"center\":[{\"id\":\"1276\"},{\"id\":\"1280\"},{\"id\":\"1331\"}],\"height\":300,\"left\":[{\"id\":\"1277\"}],\"margin\":[5,5,5,5],\"min_border_bottom\":10,\"min_border_left\":10,\"min_border_right\":10,\"min_border_top\":10,\"renderers\":[{\"id\":\"1307\"},{\"id\":\"1340\"}],\"sizing_mode\":\"fixed\",\"title\":{\"id\":\"1265\"},\"toolbar\":{\"id\":\"1287\"},\"width\":700,\"x_range\":{\"id\":\"1260\"},\"x_scale\":{\"id\":\"1269\"},\"y_range\":{\"id\":\"1261\"},\"y_scale\":{\"id\":\"1271\"}},\"id\":\"1264\",\"subtype\":\"Figure\",\"type\":\"Plot\"},{\"attributes\":{\"days\":[1,4,7,10,13,16,19,22,25,28]},\"id\":\"1323\",\"type\":\"DaysTicker\"},{\"attributes\":{\"months\":[0,1,2,3,4,5,6,7,8,9,10,11]},\"id\":\"1326\",\"type\":\"MonthsTicker\"},{\"attributes\":{\"axis\":{\"id\":\"1273\"},\"coordinates\":null,\"grid_line_color\":null,\"group\":null,\"ticker\":null},\"id\":\"1276\",\"type\":\"Grid\"},{\"attributes\":{\"line_alpha\":0.2,\"line_color\":\"#fc4f30\",\"line_width\":2,\"x\":{\"field\":\"timestamp\"},\"y\":{\"field\":\"change\"}},\"id\":\"1339\",\"type\":\"Line\"},{\"attributes\":{\"months\":[0,2,4,6,8,10]},\"id\":\"1327\",\"type\":\"MonthsTicker\"},{\"attributes\":{\"label\":{\"value\":\"CC\"},\"renderers\":[{\"id\":\"1340\"}]},\"id\":\"1366\",\"type\":\"LegendItem\"},{\"attributes\":{\"base\":24,\"mantissas\":[1,2,4,6,8,12],\"max_interval\":43200000.0,\"min_interval\":3600000.0,\"num_minor_ticks\":0},\"id\":\"1321\",\"type\":\"AdaptiveTicker\"},{\"attributes\":{\"label\":{\"value\":\"FG_strat\"},\"renderers\":[{\"id\":\"1307\"}]},\"id\":\"1332\",\"type\":\"LegendItem\"},{\"attributes\":{\"line_alpha\":0.1,\"line_color\":\"#fc4f30\",\"line_width\":2,\"x\":{\"field\":\"timestamp\"},\"y\":{\"field\":\"change\"}},\"id\":\"1338\",\"type\":\"Line\"},{\"attributes\":{\"axis\":{\"id\":\"1277\"},\"coordinates\":null,\"dimension\":1,\"grid_line_color\":null,\"group\":null,\"ticker\":null},\"id\":\"1280\",\"type\":\"Grid\"},{\"attributes\":{\"days\":[1,2,3,4,5,6,7,8,9,10,11,12,13,14,15,16,17,18,19,20,21,22,23,24,25,26,27,28,29,30,31]},\"id\":\"1322\",\"type\":\"DaysTicker\"},{\"attributes\":{\"base\":60,\"mantissas\":[1,2,5,10,15,20,30],\"max_interval\":1800000.0,\"min_interval\":1000.0,\"num_minor_ticks\":0},\"id\":\"1320\",\"type\":\"AdaptiveTicker\"},{\"attributes\":{},\"id\":\"1335\",\"type\":\"Selection\"},{\"attributes\":{\"line_color\":\"#fc4f30\",\"line_width\":2,\"x\":{\"field\":\"timestamp\"},\"y\":{\"field\":\"change\"}},\"id\":\"1337\",\"type\":\"Line\"},{\"attributes\":{\"source\":{\"id\":\"1301\"}},\"id\":\"1308\",\"type\":\"CDSView\"}],\"root_ids\":[\"1258\"]},\"title\":\"Bokeh Application\",\"version\":\"2.4.3\"}};\n",
       "    var render_items = [{\"docid\":\"9807a89f-467c-4ae7-a183-8eede0a8a74a\",\"root_ids\":[\"1258\"],\"roots\":{\"1258\":\"aa1d4448-ef52-4515-bbe7-c6653ec52f02\"}}];\n",
       "    root.Bokeh.embed.embed_items_notebook(docs_json, render_items);\n",
       "    for (const render_item of render_items) {\n",
       "      for (const root_id of render_item.root_ids) {\n",
       "\tconst id_el = document.getElementById(root_id)\n",
       "\tif (id_el.children.length && (id_el.children[0].className === 'bk-root')) {\n",
       "\t  const root_el = id_el.children[0]\n",
       "\t  root_el.id = root_el.id + '-rendered'\n",
       "\t}\n",
       "      }\n",
       "    }\n",
       "  }\n",
       "  if (root.Bokeh !== undefined && root.Bokeh.Panel !== undefined) {\n",
       "    embed_document(root);\n",
       "  } else {\n",
       "    var attempts = 0;\n",
       "    var timer = setInterval(function(root) {\n",
       "      if (root.Bokeh !== undefined && root.Bokeh.Panel !== undefined) {\n",
       "        clearInterval(timer);\n",
       "        embed_document(root);\n",
       "      } else if (document.readyState == \"complete\") {\n",
       "        attempts++;\n",
       "        if (attempts > 200) {\n",
       "          clearInterval(timer);\n",
       "          console.log(\"Bokeh: ERROR: Unable to run BokehJS code because BokehJS library is missing\");\n",
       "        }\n",
       "      }\n",
       "    }, 25, root)\n",
       "  }\n",
       "})(window);</script>"
      ],
      "text/plain": [
       ":Overlay\n",
       "   .Curve.FG_strat :Curve   [timestamp]   (0)\n",
       "   .Curve.CC       :Curve   [timestamp]   (change)"
      ]
     },
     "execution_count": 69,
     "metadata": {
      "application/vnd.holoviews_exec.v0+json": {
       "id": "1258"
      }
     },
     "output_type": "execute_result"
    }
   ],
   "source": [
    "# plot to compare\n",
    "fg_strat_plt = (strategy_returns +1).cumprod().hvplot(label = 'FG_strat')\n",
    "cc_returns_plt = (combined_df_.change +1).cumprod().hvplot(label = 'CC')\n",
    "fg_strat_plt * cc_returns_plt\n"
   ]
  },
  {
   "cell_type": "code",
   "execution_count": 70,
   "metadata": {},
   "outputs": [
    {
     "name": "stdout",
     "output_type": "stream",
     "text": [
      "Fear and Greed strategy returns:  53.4\n",
      "CC returns:  1.51\n"
     ]
    }
   ],
   "source": [
    "# returns\n",
    "fg_return = (strategy_returns + 1).cumprod()\n",
    "cc_return = (combined_df_.change + 1).cumprod()\n",
    "fg_final = fg_return[-1]\n",
    "cc_final = cc_return[-1]\n",
    "print(f'Fear and Greed strategy returns:  {round(fg_final, 2)}')\n",
    "print(f'CC returns:  {round(cc_final, 2)}')"
   ]
  },
  {
   "cell_type": "code",
   "execution_count": 71,
   "metadata": {},
   "outputs": [
    {
     "name": "stdout",
     "output_type": "stream",
     "text": [
      "Buying $1000 and holding: $1513.9\n",
      "$1000 with fear and greed strategy: $53402.02\n"
     ]
    }
   ],
   "source": [
    "initial_investment = 1000\n",
    "\n",
    "fg_inv_returns  = initial_investment * fg_final\n",
    "cc_inv_returns = initial_investment * cc_final\n",
    "\n",
    "print(f\"Buying ${initial_investment} and holding: ${round(cc_inv_returns, 2)}\")\n",
    "print(f\"${initial_investment} with fear and greed strategy: ${round(fg_inv_returns, 2)}\")"
   ]
  },
  {
   "attachments": {},
   "cell_type": "markdown",
   "metadata": {},
   "source": [
    "**Machine Learning:**"
   ]
  },
  {
   "cell_type": "code",
   "execution_count": 72,
   "metadata": {},
   "outputs": [],
   "source": [
    "import pandas_ta as pa\n",
    "from pandas.tseries.offsets import DateOffset\n",
    "from sklearn.preprocessing import StandardScaler\n",
    "from sklearn.model_selection import train_test_split\n",
    "from xgboost import XGBClassifier\n",
    "from sklearn.metrics import accuracy_score"
   ]
  },
  {
   "cell_type": "code",
   "execution_count": 73,
   "metadata": {},
   "outputs": [
    {
     "data": {
      "text/html": [
       "<div>\n",
       "<style scoped>\n",
       "    .dataframe tbody tr th:only-of-type {\n",
       "        vertical-align: middle;\n",
       "    }\n",
       "\n",
       "    .dataframe tbody tr th {\n",
       "        vertical-align: top;\n",
       "    }\n",
       "\n",
       "    .dataframe thead th {\n",
       "        text-align: right;\n",
       "    }\n",
       "</style>\n",
       "<table border=\"1\" class=\"dataframe\">\n",
       "  <thead>\n",
       "    <tr style=\"text-align: right;\">\n",
       "      <th></th>\n",
       "      <th>value</th>\n",
       "      <th>RSI</th>\n",
       "      <th>Signal</th>\n",
       "    </tr>\n",
       "    <tr>\n",
       "      <th>timestamp</th>\n",
       "      <th></th>\n",
       "      <th></th>\n",
       "      <th></th>\n",
       "    </tr>\n",
       "  </thead>\n",
       "  <tbody>\n",
       "    <tr>\n",
       "      <th>2023-01-19 00:00:00+00:00</th>\n",
       "      <td>45.0</td>\n",
       "      <td>73.405640</td>\n",
       "      <td>-1</td>\n",
       "    </tr>\n",
       "    <tr>\n",
       "      <th>2023-01-20 00:00:00+00:00</th>\n",
       "      <td>51.0</td>\n",
       "      <td>79.049592</td>\n",
       "      <td>1</td>\n",
       "    </tr>\n",
       "    <tr>\n",
       "      <th>2023-01-21 00:00:00+00:00</th>\n",
       "      <td>53.0</td>\n",
       "      <td>73.952890</td>\n",
       "      <td>1</td>\n",
       "    </tr>\n",
       "    <tr>\n",
       "      <th>2023-01-22 00:00:00+00:00</th>\n",
       "      <td>53.0</td>\n",
       "      <td>74.022080</td>\n",
       "      <td>1</td>\n",
       "    </tr>\n",
       "    <tr>\n",
       "      <th>2023-01-23 00:00:00+00:00</th>\n",
       "      <td>50.0</td>\n",
       "      <td>74.000351</td>\n",
       "      <td>1</td>\n",
       "    </tr>\n",
       "  </tbody>\n",
       "</table>\n",
       "</div>"
      ],
      "text/plain": [
       "                           value        RSI  Signal\n",
       "timestamp                                          \n",
       "2023-01-19 00:00:00+00:00   45.0  73.405640      -1\n",
       "2023-01-20 00:00:00+00:00   51.0  79.049592       1\n",
       "2023-01-21 00:00:00+00:00   53.0  73.952890       1\n",
       "2023-01-22 00:00:00+00:00   53.0  74.022080       1\n",
       "2023-01-23 00:00:00+00:00   50.0  74.000351       1"
      ]
     },
     "execution_count": 73,
     "metadata": {},
     "output_type": "execute_result"
    }
   ],
   "source": [
    "# copy and clean dataframe\n",
    "combined_ml = combined_df_.copy()\n",
    "combined_ml['RSI'] = pa.rsi(combined_ml.Close, length=16)\n",
    "combined_ml['Signal'] = combined_ml['position']\n",
    "combined_ml = combined_ml.drop([\"Close\", \"change\", \"position\"],axis=1)\n",
    "combined_ml = combined_ml.dropna()\n",
    "combined_ml.tail()"
   ]
  },
  {
   "cell_type": "code",
   "execution_count": 74,
   "metadata": {},
   "outputs": [],
   "source": [
    "# Dataframe\n",
    "model_df = pd.DataFrame(combined_ml)\n",
    "model_df = model_df.dropna()"
   ]
  },
  {
   "cell_type": "code",
   "execution_count": 75,
   "metadata": {},
   "outputs": [
    {
     "data": {
      "text/html": [
       "<div>\n",
       "<style scoped>\n",
       "    .dataframe tbody tr th:only-of-type {\n",
       "        vertical-align: middle;\n",
       "    }\n",
       "\n",
       "    .dataframe tbody tr th {\n",
       "        vertical-align: top;\n",
       "    }\n",
       "\n",
       "    .dataframe thead th {\n",
       "        text-align: right;\n",
       "    }\n",
       "</style>\n",
       "<table border=\"1\" class=\"dataframe\">\n",
       "  <thead>\n",
       "    <tr style=\"text-align: right;\">\n",
       "      <th></th>\n",
       "      <th>RSI</th>\n",
       "      <th>value</th>\n",
       "    </tr>\n",
       "    <tr>\n",
       "      <th>timestamp</th>\n",
       "      <th></th>\n",
       "      <th></th>\n",
       "    </tr>\n",
       "  </thead>\n",
       "  <tbody>\n",
       "    <tr>\n",
       "      <th>2018-02-19 00:00:00+00:00</th>\n",
       "      <td>53.324972</td>\n",
       "      <td>63.0</td>\n",
       "    </tr>\n",
       "    <tr>\n",
       "      <th>2018-02-20 00:00:00+00:00</th>\n",
       "      <td>55.183005</td>\n",
       "      <td>67.0</td>\n",
       "    </tr>\n",
       "    <tr>\n",
       "      <th>2018-02-21 00:00:00+00:00</th>\n",
       "      <td>50.018759</td>\n",
       "      <td>74.0</td>\n",
       "    </tr>\n",
       "    <tr>\n",
       "      <th>2018-02-22 00:00:00+00:00</th>\n",
       "      <td>45.743818</td>\n",
       "      <td>54.0</td>\n",
       "    </tr>\n",
       "    <tr>\n",
       "      <th>2018-02-23 00:00:00+00:00</th>\n",
       "      <td>42.570200</td>\n",
       "      <td>44.0</td>\n",
       "    </tr>\n",
       "    <tr>\n",
       "      <th>2018-02-24 00:00:00+00:00</th>\n",
       "      <td>47.902109</td>\n",
       "      <td>39.0</td>\n",
       "    </tr>\n",
       "    <tr>\n",
       "      <th>2018-02-25 00:00:00+00:00</th>\n",
       "      <td>45.810314</td>\n",
       "      <td>31.0</td>\n",
       "    </tr>\n",
       "    <tr>\n",
       "      <th>2018-02-26 00:00:00+00:00</th>\n",
       "      <td>46.264407</td>\n",
       "      <td>33.0</td>\n",
       "    </tr>\n",
       "    <tr>\n",
       "      <th>2018-02-27 00:00:00+00:00</th>\n",
       "      <td>48.871824</td>\n",
       "      <td>37.0</td>\n",
       "    </tr>\n",
       "    <tr>\n",
       "      <th>2018-02-28 00:00:00+00:00</th>\n",
       "      <td>49.820402</td>\n",
       "      <td>44.0</td>\n",
       "    </tr>\n",
       "  </tbody>\n",
       "</table>\n",
       "</div>"
      ],
      "text/plain": [
       "                                 RSI  value\n",
       "timestamp                                  \n",
       "2018-02-19 00:00:00+00:00  53.324972   63.0\n",
       "2018-02-20 00:00:00+00:00  55.183005   67.0\n",
       "2018-02-21 00:00:00+00:00  50.018759   74.0\n",
       "2018-02-22 00:00:00+00:00  45.743818   54.0\n",
       "2018-02-23 00:00:00+00:00  42.570200   44.0\n",
       "2018-02-24 00:00:00+00:00  47.902109   39.0\n",
       "2018-02-25 00:00:00+00:00  45.810314   31.0\n",
       "2018-02-26 00:00:00+00:00  46.264407   33.0\n",
       "2018-02-27 00:00:00+00:00  48.871824   37.0\n",
       "2018-02-28 00:00:00+00:00  49.820402   44.0"
      ]
     },
     "execution_count": 75,
     "metadata": {},
     "output_type": "execute_result"
    }
   ],
   "source": [
    "# features dataframe\n",
    "X = model_df[['RSI', 'value']].shift().dropna()\n",
    "X.head(10)"
   ]
  },
  {
   "cell_type": "code",
   "execution_count": 76,
   "metadata": {},
   "outputs": [
    {
     "data": {
      "text/plain": [
       "-1    666\n",
       " 1    643\n",
       " 0    489\n",
       "Name: Signal, dtype: int64"
      ]
     },
     "execution_count": 76,
     "metadata": {},
     "output_type": "execute_result"
    }
   ],
   "source": [
    "# Create the target set (-1 = Short, 0 = Stables, 1 = Long)\n",
    "y = model_df['Signal']\n",
    "y.value_counts()"
   ]
  },
  {
   "cell_type": "code",
   "execution_count": 77,
   "metadata": {},
   "outputs": [
    {
     "data": {
      "text/plain": [
       "Timestamp('2018-02-19 00:00:00+0000', tz='UTC')"
      ]
     },
     "metadata": {},
     "output_type": "display_data"
    },
    {
     "data": {
      "text/plain": [
       "Timestamp('2021-06-19 00:00:00+0000', tz='UTC')"
      ]
     },
     "metadata": {},
     "output_type": "display_data"
    }
   ],
   "source": [
    "# start of the training period\n",
    "training_begin = X.index.min()\n",
    "# ending period for the training data with an offset of 40 months\n",
    "training_end = X.index.min() + DateOffset(months=40)\n",
    "display(training_begin)\n",
    "display(training_end)\n"
   ]
  },
  {
   "cell_type": "code",
   "execution_count": 78,
   "metadata": {},
   "outputs": [
    {
     "data": {
      "text/html": [
       "<div>\n",
       "<style scoped>\n",
       "    .dataframe tbody tr th:only-of-type {\n",
       "        vertical-align: middle;\n",
       "    }\n",
       "\n",
       "    .dataframe tbody tr th {\n",
       "        vertical-align: top;\n",
       "    }\n",
       "\n",
       "    .dataframe thead th {\n",
       "        text-align: right;\n",
       "    }\n",
       "</style>\n",
       "<table border=\"1\" class=\"dataframe\">\n",
       "  <thead>\n",
       "    <tr style=\"text-align: right;\">\n",
       "      <th></th>\n",
       "      <th>RSI</th>\n",
       "      <th>value</th>\n",
       "    </tr>\n",
       "    <tr>\n",
       "      <th>timestamp</th>\n",
       "      <th></th>\n",
       "      <th></th>\n",
       "    </tr>\n",
       "  </thead>\n",
       "  <tbody>\n",
       "    <tr>\n",
       "      <th>2018-02-19 00:00:00+00:00</th>\n",
       "      <td>53.324972</td>\n",
       "      <td>63.0</td>\n",
       "    </tr>\n",
       "    <tr>\n",
       "      <th>2018-02-20 00:00:00+00:00</th>\n",
       "      <td>55.183005</td>\n",
       "      <td>67.0</td>\n",
       "    </tr>\n",
       "    <tr>\n",
       "      <th>2018-02-21 00:00:00+00:00</th>\n",
       "      <td>50.018759</td>\n",
       "      <td>74.0</td>\n",
       "    </tr>\n",
       "    <tr>\n",
       "      <th>2018-02-22 00:00:00+00:00</th>\n",
       "      <td>45.743818</td>\n",
       "      <td>54.0</td>\n",
       "    </tr>\n",
       "    <tr>\n",
       "      <th>2018-02-23 00:00:00+00:00</th>\n",
       "      <td>42.570200</td>\n",
       "      <td>44.0</td>\n",
       "    </tr>\n",
       "  </tbody>\n",
       "</table>\n",
       "</div>"
      ],
      "text/plain": [
       "                                 RSI  value\n",
       "timestamp                                  \n",
       "2018-02-19 00:00:00+00:00  53.324972   63.0\n",
       "2018-02-20 00:00:00+00:00  55.183005   67.0\n",
       "2018-02-21 00:00:00+00:00  50.018759   74.0\n",
       "2018-02-22 00:00:00+00:00  45.743818   54.0\n",
       "2018-02-23 00:00:00+00:00  42.570200   44.0"
      ]
     },
     "execution_count": 78,
     "metadata": {},
     "output_type": "execute_result"
    }
   ],
   "source": [
    "# Generate the X_train and y_train DataFrames\n",
    "X_train = X.loc[training_begin:training_end]\n",
    "y_train = y.loc[training_begin:training_end]\n",
    "\n",
    "X_train.head()"
   ]
  },
  {
   "cell_type": "code",
   "execution_count": 79,
   "metadata": {},
   "outputs": [
    {
     "data": {
      "text/html": [
       "<div>\n",
       "<style scoped>\n",
       "    .dataframe tbody tr th:only-of-type {\n",
       "        vertical-align: middle;\n",
       "    }\n",
       "\n",
       "    .dataframe tbody tr th {\n",
       "        vertical-align: top;\n",
       "    }\n",
       "\n",
       "    .dataframe thead th {\n",
       "        text-align: right;\n",
       "    }\n",
       "</style>\n",
       "<table border=\"1\" class=\"dataframe\">\n",
       "  <thead>\n",
       "    <tr style=\"text-align: right;\">\n",
       "      <th></th>\n",
       "      <th>RSI</th>\n",
       "      <th>value</th>\n",
       "    </tr>\n",
       "    <tr>\n",
       "      <th>timestamp</th>\n",
       "      <th></th>\n",
       "      <th></th>\n",
       "    </tr>\n",
       "  </thead>\n",
       "  <tbody>\n",
       "    <tr>\n",
       "      <th>2021-06-19 00:00:00+00:00</th>\n",
       "      <td>41.026683</td>\n",
       "      <td>25.0</td>\n",
       "    </tr>\n",
       "    <tr>\n",
       "      <th>2021-06-20 00:00:00+00:00</th>\n",
       "      <td>39.997179</td>\n",
       "      <td>23.0</td>\n",
       "    </tr>\n",
       "    <tr>\n",
       "      <th>2021-06-21 00:00:00+00:00</th>\n",
       "      <td>41.977104</td>\n",
       "      <td>21.0</td>\n",
       "    </tr>\n",
       "    <tr>\n",
       "      <th>2021-06-22 00:00:00+00:00</th>\n",
       "      <td>35.405009</td>\n",
       "      <td>23.0</td>\n",
       "    </tr>\n",
       "    <tr>\n",
       "      <th>2021-06-23 00:00:00+00:00</th>\n",
       "      <td>35.183431</td>\n",
       "      <td>10.0</td>\n",
       "    </tr>\n",
       "  </tbody>\n",
       "</table>\n",
       "</div>"
      ],
      "text/plain": [
       "                                 RSI  value\n",
       "timestamp                                  \n",
       "2021-06-19 00:00:00+00:00  41.026683   25.0\n",
       "2021-06-20 00:00:00+00:00  39.997179   23.0\n",
       "2021-06-21 00:00:00+00:00  41.977104   21.0\n",
       "2021-06-22 00:00:00+00:00  35.405009   23.0\n",
       "2021-06-23 00:00:00+00:00  35.183431   10.0"
      ]
     },
     "execution_count": 79,
     "metadata": {},
     "output_type": "execute_result"
    }
   ],
   "source": [
    "# Generate the X_test and y_test DataFrames\n",
    "X_test = X.loc[training_end:]\n",
    "y_test = y.loc[training_end:]\n",
    "\n",
    "X_test.head()"
   ]
  },
  {
   "cell_type": "code",
   "execution_count": 80,
   "metadata": {},
   "outputs": [],
   "source": [
    "# Scale features DataFrames\n",
    "\n",
    "# Create a StandardScaler instance\n",
    "scaler = StandardScaler()\n",
    "\n",
    "# Apply the scaler model to fit the X-train data\n",
    "X_scaler = scaler.fit(X_train)\n",
    "\n",
    "# Transform the X_train and X_test DataFrames using the X_scaler\n",
    "X_train_scaled = X_scaler.transform(X_train)\n",
    "X_test_scaled = X_scaler.transform(X_test)"
   ]
  },
  {
   "cell_type": "code",
   "execution_count": 81,
   "metadata": {},
   "outputs": [],
   "source": [
    "# Imports\n",
    "from sklearn import svm\n",
    "from sklearn.metrics import classification_report"
   ]
  },
  {
   "attachments": {},
   "cell_type": "markdown",
   "metadata": {},
   "source": [
    "## **SVM:**"
   ]
  },
  {
   "cell_type": "code",
   "execution_count": 82,
   "metadata": {},
   "outputs": [
    {
     "data": {
      "text/plain": [
       "array([ 1,  1,  1,  1, -1, -1, -1, -1, -1, -1, -1, -1, -1,  1, -1],\n",
       "      dtype=int64)"
      ]
     },
     "execution_count": 82,
     "metadata": {},
     "output_type": "execute_result"
    }
   ],
   "source": [
    "# Create model\n",
    "svm_model = svm.SVC()\n",
    " \n",
    "# Fit the model to the data using X_train_scaled and y_train\n",
    "svm_model = svm_model.fit(X_train_scaled, y_train)\n",
    "\n",
    "# Use the trained model to predict the trading signals for the training data\n",
    "svm_pred = svm_model.predict(X_train_scaled)\n",
    "\n",
    "# Display the sample predictions\n",
    "svm_pred[:15]"
   ]
  },
  {
   "cell_type": "code",
   "execution_count": 83,
   "metadata": {},
   "outputs": [
    {
     "name": "stdout",
     "output_type": "stream",
     "text": [
      "              precision    recall  f1-score   support\n",
      "\n",
      "          -1       0.80      0.80      0.80       447\n",
      "           0       0.82      0.84      0.83       258\n",
      "           1       0.91      0.91      0.91       509\n",
      "\n",
      "    accuracy                           0.85      1214\n",
      "   macro avg       0.84      0.85      0.85      1214\n",
      "weighted avg       0.85      0.85      0.85      1214\n",
      "\n"
     ]
    }
   ],
   "source": [
    "# Use a classification report to evaluate the model using the predictions and testing data\n",
    "svm_testing_report = classification_report(y_train, svm_pred)\n",
    "\n",
    "# Print the classification report\n",
    "print(svm_testing_report)"
   ]
  },
  {
   "cell_type": "code",
   "execution_count": 84,
   "metadata": {},
   "outputs": [
    {
     "data": {
      "text/html": [
       "<div>\n",
       "<style scoped>\n",
       "    .dataframe tbody tr th:only-of-type {\n",
       "        vertical-align: middle;\n",
       "    }\n",
       "\n",
       "    .dataframe tbody tr th {\n",
       "        vertical-align: top;\n",
       "    }\n",
       "\n",
       "    .dataframe thead th {\n",
       "        text-align: right;\n",
       "    }\n",
       "</style>\n",
       "<table border=\"1\" class=\"dataframe\">\n",
       "  <thead>\n",
       "    <tr style=\"text-align: right;\">\n",
       "      <th></th>\n",
       "      <th>Predicted</th>\n",
       "      <th>Actual_Returns</th>\n",
       "      <th>Strategy_Returns</th>\n",
       "    </tr>\n",
       "    <tr>\n",
       "      <th>timestamp</th>\n",
       "      <th></th>\n",
       "      <th></th>\n",
       "      <th></th>\n",
       "    </tr>\n",
       "  </thead>\n",
       "  <tbody>\n",
       "    <tr>\n",
       "      <th>2021-06-19 00:00:00+00:00</th>\n",
       "      <td>-1</td>\n",
       "      <td>-0.023853</td>\n",
       "      <td>0.023853</td>\n",
       "    </tr>\n",
       "    <tr>\n",
       "      <th>2021-06-20 00:00:00+00:00</th>\n",
       "      <td>0</td>\n",
       "      <td>0.031152</td>\n",
       "      <td>0.000000</td>\n",
       "    </tr>\n",
       "    <tr>\n",
       "      <th>2021-06-21 00:00:00+00:00</th>\n",
       "      <td>0</td>\n",
       "      <td>-0.159332</td>\n",
       "      <td>-0.000000</td>\n",
       "    </tr>\n",
       "    <tr>\n",
       "      <th>2021-06-22 00:00:00+00:00</th>\n",
       "      <td>0</td>\n",
       "      <td>-0.007147</td>\n",
       "      <td>-0.000000</td>\n",
       "    </tr>\n",
       "    <tr>\n",
       "      <th>2021-06-23 00:00:00+00:00</th>\n",
       "      <td>0</td>\n",
       "      <td>0.061221</td>\n",
       "      <td>0.000000</td>\n",
       "    </tr>\n",
       "  </tbody>\n",
       "</table>\n",
       "</div>"
      ],
      "text/plain": [
       "                           Predicted  Actual_Returns  Strategy_Returns\n",
       "timestamp                                                             \n",
       "2021-06-19 00:00:00+00:00         -1       -0.023853          0.023853\n",
       "2021-06-20 00:00:00+00:00          0        0.031152          0.000000\n",
       "2021-06-21 00:00:00+00:00          0       -0.159332         -0.000000\n",
       "2021-06-22 00:00:00+00:00          0       -0.007147         -0.000000\n",
       "2021-06-23 00:00:00+00:00          0        0.061221          0.000000"
      ]
     },
     "metadata": {},
     "output_type": "display_data"
    },
    {
     "data": {
      "text/html": [
       "<div>\n",
       "<style scoped>\n",
       "    .dataframe tbody tr th:only-of-type {\n",
       "        vertical-align: middle;\n",
       "    }\n",
       "\n",
       "    .dataframe tbody tr th {\n",
       "        vertical-align: top;\n",
       "    }\n",
       "\n",
       "    .dataframe thead th {\n",
       "        text-align: right;\n",
       "    }\n",
       "</style>\n",
       "<table border=\"1\" class=\"dataframe\">\n",
       "  <thead>\n",
       "    <tr style=\"text-align: right;\">\n",
       "      <th></th>\n",
       "      <th>Predicted</th>\n",
       "      <th>Actual_Returns</th>\n",
       "      <th>Strategy_Returns</th>\n",
       "    </tr>\n",
       "    <tr>\n",
       "      <th>timestamp</th>\n",
       "      <th></th>\n",
       "      <th></th>\n",
       "      <th></th>\n",
       "    </tr>\n",
       "  </thead>\n",
       "  <tbody>\n",
       "    <tr>\n",
       "      <th>2023-01-19 00:00:00+00:00</th>\n",
       "      <td>1</td>\n",
       "      <td>0.024447</td>\n",
       "      <td>0.024447</td>\n",
       "    </tr>\n",
       "    <tr>\n",
       "      <th>2023-01-20 00:00:00+00:00</th>\n",
       "      <td>1</td>\n",
       "      <td>0.069046</td>\n",
       "      <td>0.069046</td>\n",
       "    </tr>\n",
       "    <tr>\n",
       "      <th>2023-01-21 00:00:00+00:00</th>\n",
       "      <td>1</td>\n",
       "      <td>-0.019663</td>\n",
       "      <td>-0.019663</td>\n",
       "    </tr>\n",
       "    <tr>\n",
       "      <th>2023-01-22 00:00:00+00:00</th>\n",
       "      <td>1</td>\n",
       "      <td>0.000777</td>\n",
       "      <td>0.000777</td>\n",
       "    </tr>\n",
       "    <tr>\n",
       "      <th>2023-01-23 00:00:00+00:00</th>\n",
       "      <td>1</td>\n",
       "      <td>-0.000080</td>\n",
       "      <td>-0.000080</td>\n",
       "    </tr>\n",
       "  </tbody>\n",
       "</table>\n",
       "</div>"
      ],
      "text/plain": [
       "                           Predicted  Actual_Returns  Strategy_Returns\n",
       "timestamp                                                             \n",
       "2023-01-19 00:00:00+00:00          1        0.024447          0.024447\n",
       "2023-01-20 00:00:00+00:00          1        0.069046          0.069046\n",
       "2023-01-21 00:00:00+00:00          1       -0.019663         -0.019663\n",
       "2023-01-22 00:00:00+00:00          1        0.000777          0.000777\n",
       "2023-01-23 00:00:00+00:00          1       -0.000080         -0.000080"
      ]
     },
     "metadata": {},
     "output_type": "display_data"
    }
   ],
   "source": [
    "# Create a new empty predictions DataFrame:\n",
    "testing_signal_predictions = svm_model.predict(X_test_scaled)\n",
    "\n",
    "# Create a predictions DataFrame\n",
    "predictions_df = pd.DataFrame(index=X_test.index)\n",
    "\n",
    "# Add the SVM model predictions to the DataFrame\n",
    "predictions_df['Predicted'] = testing_signal_predictions\n",
    "\n",
    "\n",
    "# Add the actual returns to the DataFrame\n",
    "predictions_df['Actual_Returns'] = combined_df_[\"change\"]\n",
    "\n",
    "# Add the strategy returns to the DataFrame\n",
    "predictions_df['Strategy_Returns'] = predictions_df[\"Actual_Returns\"] * predictions_df[\"Predicted\"]\n",
    "\n",
    "# Review the DataFrame\n",
    "display(predictions_df.head())\n",
    "display(predictions_df.tail())"
   ]
  },
  {
   "cell_type": "code",
   "execution_count": 85,
   "metadata": {},
   "outputs": [
    {
     "data": {
      "text/plain": [
       "<AxesSubplot: xlabel='timestamp'>"
      ]
     },
     "execution_count": 85,
     "metadata": {},
     "output_type": "execute_result"
    },
    {
     "data": {
      "image/png": "[encoded data removed]",
      "text/plain": [
       "<Figure size 640x480 with 1 Axes>"
      ]
     },
     "metadata": {},
     "output_type": "display_data"
    }
   ],
   "source": [
    "# Plot the actual returns versus the strategy returns\n",
    "(1 + predictions_df[[\"Actual_Returns\", \"Strategy_Returns\"]]).cumprod().plot()"
   ]
  },
  {
   "attachments": {},
   "cell_type": "markdown",
   "metadata": {},
   "source": [
    "# XGB Boost ML Model"
   ]
  },
  {
   "cell_type": "code",
   "execution_count": 86,
   "metadata": {},
   "outputs": [],
   "source": [
    "#XGB:\n",
    "import pandas_ta as pa\n",
    "from sklearn.preprocessing import StandardScaler\n",
    "from sklearn.compose import ColumnTransformer\n",
    "from sklearn.impute import SimpleImputer\n",
    "from sklearn.pipeline import Pipeline\n",
    "from sklearn.preprocessing import OneHotEncoder\n",
    "from sklearn import set_config \n",
    "set_config(transform_output = 'pandas')\n",
    "\n",
    "\n",
    "m = combined_df_.copy()\n",
    "m['RSI'] = pa.rsi(m.Close, length=16)\n",
    "m.rename(columns = {'value':'FG value', 'position':'Signal'}, inplace = True)\n",
    "\n",
    "# fill in na with 0\n",
    "m.fillna(0, inplace=True)\n",
    "\n",
    "# change -1 to 2 for short selling\n",
    "m[m<0] = 2"
   ]
  },
  {
   "cell_type": "code",
   "execution_count": 87,
   "metadata": {},
   "outputs": [],
   "source": [
    "# Identify Features and Target\n",
    "X = m.drop([\"Signal\"], axis=1).shift().dropna()\n",
    "y = m[\"Signal\"][1:].copy()"
   ]
  },
  {
   "cell_type": "code",
   "execution_count": 88,
   "metadata": {},
   "outputs": [],
   "source": [
    "#Create Pipelines\n",
    "\n",
    "categorical_pipeline = Pipeline(steps=[(\"impute\", SimpleImputer(strategy=\"most_frequent\")),(\"oh-encode\", OneHotEncoder(handle_unknown=\"ignore\", sparse=False)),])\n",
    "numeric_pipeline = Pipeline(steps=[(\"impute\", SimpleImputer(strategy=\"mean\")), (\"scale\", StandardScaler())])\n",
    "\n",
    "cat_cols = X.select_dtypes(exclude=\"number\").columns\n",
    "num_cols = X.select_dtypes(include=\"number\").columns\n",
    "\n",
    "full_processor = ColumnTransformer(transformers=[(\"numeric\", numeric_pipeline, num_cols),(\"categorical\", categorical_pipeline, cat_cols)])\n",
    "\n"
   ]
  },
  {
   "cell_type": "code",
   "execution_count": 89,
   "metadata": {},
   "outputs": [
    {
     "name": "stdout",
     "output_type": "stream",
     "text": [
      "              precision    recall  f1-score   support\n",
      "\n",
      "           0       0.84      0.84      0.84       123\n",
      "           1       0.89      0.93      0.91       162\n",
      "           2       0.81      0.78      0.79       169\n",
      "\n",
      "    accuracy                           0.85       454\n",
      "   macro avg       0.84      0.85      0.85       454\n",
      "weighted avg       0.84      0.85      0.84       454\n",
      "\n"
     ]
    }
   ],
   "source": [
    "import xgboost as xgb\n",
    "from sklearn.model_selection import train_test_split\n",
    "from sklearn.metrics import classification_report\n",
    "#from sklearn.model_selection import GridSearchCV\n",
    "\n",
    "xgb_cl = xgb.XGBClassifier(colsample_bylevel=1, gamma=1, learning_rate= 1)\n",
    "\n",
    "# Apply preprocessing\n",
    "\n",
    "X_processed = full_processor.fit_transform(X)\n",
    "y_processed = SimpleImputer(strategy=\"most_frequent\").fit_transform(y.values.reshape(-1, 1))\n",
    "\n",
    "\n",
    "# Split the data to train and Test\n",
    "X_train, X_test, y_train, y_test = train_test_split(X_processed, y_processed, stratify=y_processed, random_state=1)\n",
    "\n",
    "\n",
    "# Fit\n",
    "xgb_cl.fit(X_train, y_train)\n",
    "\n",
    "# Predict\n",
    "pred = xgb_cl.predict(X_test)\n",
    "\n",
    "\n",
    "# Score\n",
    "xgb_testing_report = classification_report(y_test, pred)\n",
    "print(xgb_testing_report)\n"
   ]
  },
  {
   "cell_type": "code",
   "execution_count": 90,
   "metadata": {},
   "outputs": [
    {
     "data": {
      "text/html": [
       "<div>\n",
       "<style scoped>\n",
       "    .dataframe tbody tr th:only-of-type {\n",
       "        vertical-align: middle;\n",
       "    }\n",
       "\n",
       "    .dataframe tbody tr th {\n",
       "        vertical-align: top;\n",
       "    }\n",
       "\n",
       "    .dataframe thead th {\n",
       "        text-align: right;\n",
       "    }\n",
       "</style>\n",
       "<table border=\"1\" class=\"dataframe\">\n",
       "  <thead>\n",
       "    <tr style=\"text-align: right;\">\n",
       "      <th></th>\n",
       "      <th>predicted_signal</th>\n",
       "      <th>Actual Returns</th>\n",
       "      <th>trading_algorithm_returns</th>\n",
       "    </tr>\n",
       "    <tr>\n",
       "      <th>timestamp</th>\n",
       "      <th></th>\n",
       "      <th></th>\n",
       "      <th></th>\n",
       "    </tr>\n",
       "  </thead>\n",
       "  <tbody>\n",
       "    <tr>\n",
       "      <th>2018-02-05 00:00:00+00:00</th>\n",
       "      <td>0</td>\n",
       "      <td>-0.163812</td>\n",
       "      <td>-0.000000</td>\n",
       "    </tr>\n",
       "    <tr>\n",
       "      <th>2018-02-06 00:00:00+00:00</th>\n",
       "      <td>-1</td>\n",
       "      <td>0.136358</td>\n",
       "      <td>-0.136358</td>\n",
       "    </tr>\n",
       "    <tr>\n",
       "      <th>2018-02-07 00:00:00+00:00</th>\n",
       "      <td>-1</td>\n",
       "      <td>-0.045458</td>\n",
       "      <td>0.045458</td>\n",
       "    </tr>\n",
       "    <tr>\n",
       "      <th>2018-02-08 00:00:00+00:00</th>\n",
       "      <td>-1</td>\n",
       "      <td>0.080229</td>\n",
       "      <td>-0.080229</td>\n",
       "    </tr>\n",
       "    <tr>\n",
       "      <th>2018-02-10 00:00:00+00:00</th>\n",
       "      <td>-1</td>\n",
       "      <td>-0.026531</td>\n",
       "      <td>0.026531</td>\n",
       "    </tr>\n",
       "    <tr>\n",
       "      <th>...</th>\n",
       "      <td>...</td>\n",
       "      <td>...</td>\n",
       "      <td>...</td>\n",
       "    </tr>\n",
       "    <tr>\n",
       "      <th>2023-01-13 00:00:00+00:00</th>\n",
       "      <td>1</td>\n",
       "      <td>0.023750</td>\n",
       "      <td>0.023750</td>\n",
       "    </tr>\n",
       "    <tr>\n",
       "      <th>2023-01-17 00:00:00+00:00</th>\n",
       "      <td>1</td>\n",
       "      <td>-0.005700</td>\n",
       "      <td>-0.005700</td>\n",
       "    </tr>\n",
       "    <tr>\n",
       "      <th>2023-01-20 00:00:00+00:00</th>\n",
       "      <td>1</td>\n",
       "      <td>0.069046</td>\n",
       "      <td>0.069046</td>\n",
       "    </tr>\n",
       "    <tr>\n",
       "      <th>2023-01-22 00:00:00+00:00</th>\n",
       "      <td>1</td>\n",
       "      <td>0.000777</td>\n",
       "      <td>0.000777</td>\n",
       "    </tr>\n",
       "    <tr>\n",
       "      <th>2023-01-23 00:00:00+00:00</th>\n",
       "      <td>1</td>\n",
       "      <td>-0.000080</td>\n",
       "      <td>-0.000080</td>\n",
       "    </tr>\n",
       "  </tbody>\n",
       "</table>\n",
       "<p>454 rows × 3 columns</p>\n",
       "</div>"
      ],
      "text/plain": [
       "                           predicted_signal  Actual Returns  \\\n",
       "timestamp                                                     \n",
       "2018-02-05 00:00:00+00:00                 0       -0.163812   \n",
       "2018-02-06 00:00:00+00:00                -1        0.136358   \n",
       "2018-02-07 00:00:00+00:00                -1       -0.045458   \n",
       "2018-02-08 00:00:00+00:00                -1        0.080229   \n",
       "2018-02-10 00:00:00+00:00                -1       -0.026531   \n",
       "...                                     ...             ...   \n",
       "2023-01-13 00:00:00+00:00                 1        0.023750   \n",
       "2023-01-17 00:00:00+00:00                 1       -0.005700   \n",
       "2023-01-20 00:00:00+00:00                 1        0.069046   \n",
       "2023-01-22 00:00:00+00:00                 1        0.000777   \n",
       "2023-01-23 00:00:00+00:00                 1       -0.000080   \n",
       "\n",
       "                           trading_algorithm_returns  \n",
       "timestamp                                             \n",
       "2018-02-05 00:00:00+00:00                  -0.000000  \n",
       "2018-02-06 00:00:00+00:00                  -0.136358  \n",
       "2018-02-07 00:00:00+00:00                   0.045458  \n",
       "2018-02-08 00:00:00+00:00                  -0.080229  \n",
       "2018-02-10 00:00:00+00:00                   0.026531  \n",
       "...                                              ...  \n",
       "2023-01-13 00:00:00+00:00                   0.023750  \n",
       "2023-01-17 00:00:00+00:00                  -0.005700  \n",
       "2023-01-20 00:00:00+00:00                   0.069046  \n",
       "2023-01-22 00:00:00+00:00                   0.000777  \n",
       "2023-01-23 00:00:00+00:00                  -0.000080  \n",
       "\n",
       "[454 rows x 3 columns]"
      ]
     },
     "execution_count": 90,
     "metadata": {},
     "output_type": "execute_result"
    }
   ],
   "source": [
    "# Create a new empty predictions DataFrame using code provided below.\n",
    "predictions_df = pd.DataFrame(index=X_test.index)\n",
    "predictions_df[\"predicted_signal\"] = pred\n",
    "predictions_df[\"predicted_signal\"] = predictions_df[\"predicted_signal\"].replace(2, -1)\n",
    "predictions_df[\"Actual Returns\"] = combined_df_[\"change\"]\n",
    "predictions_df[\"trading_algorithm_returns\"] = predictions_df[\"Actual Returns\"] * predictions_df[\"predicted_signal\"]\n",
    "predictions_df = predictions_df.sort_index()\n",
    "predictions_df"
   ]
  },
  {
   "cell_type": "code",
   "execution_count": 91,
   "metadata": {},
   "outputs": [
    {
     "data": {
      "text/plain": [
       "<AxesSubplot: title={'center': 'Actual vs. XGB Model'}, xlabel='timestamp'>"
      ]
     },
     "execution_count": 91,
     "metadata": {},
     "output_type": "execute_result"
    },
    {
     "data": {
      "image/png": "[encoded data removed]",
      "text/plain": [
       "<Figure size 640x480 with 1 Axes>"
      ]
     },
     "metadata": {},
     "output_type": "display_data"
    }
   ],
   "source": [
    "# Calculate and plot the cumulative returns for the `actual_returns` and the `trading_algorithm_returns`\n",
    "(1 + predictions_df[[\"Actual Returns\", \"trading_algorithm_returns\"]]).cumprod().plot(title= \"Actual vs. XGB Model\")\n"
   ]
  },
  {
   "cell_type": "code",
   "execution_count": null,
   "metadata": {},
   "outputs": [],
   "source": []
  }
 ],
 "metadata": {
  "kernelspec": {
   "display_name": "dreambuilder",
   "language": "python",
   "name": "python3"
  },
  "language_info": {
   "codemirror_mode": {
    "name": "ipython",
    "version": 3
   },
   "file_extension": ".py",
   "mimetype": "text/x-python",
   "name": "python",
   "nbconvert_exporter": "python",
   "pygments_lexer": "ipython3",
   "version": "3.8.16"
  },
  "orig_nbformat": 4,
  "vscode": {
   "interpreter": {
    "hash": "17c113ce94506c0586d4f862013eaefdcc29a14528bb492ab51b02976481f40f"
   }
  }
 },
 "nbformat": 4,
 "nbformat_minor": 2
}
