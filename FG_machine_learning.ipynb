{
 "cells": [
  {
   "cell_type": "code",
   "execution_count": 59,
   "metadata": {},
   "outputs": [],
   "source": [
    "import yfinance as yf\n",
    "import pandas as pd\n",
    "import numpy as np\n",
    "import hvplot.pandas\n",
    "from finta import TA"
   ]
  },
  {
   "attachments": {},
   "cell_type": "markdown",
   "metadata": {},
   "source": [
    "**YFinance:**"
   ]
  },
  {
   "cell_type": "code",
   "execution_count": 60,
   "metadata": {},
   "outputs": [],
   "source": [
    "# set ticker ('BTC-USD', 'ETH-USD')\n",
    "ticker = 'ETH-USD'\n",
    "cc = yf.Ticker(f\"{ticker}\")"
   ]
  },
  {
   "cell_type": "code",
   "execution_count": 61,
   "metadata": {},
   "outputs": [
    {
     "data": {
      "text/html": [
       "<div>\n",
       "<style scoped>\n",
       "    .dataframe tbody tr th:only-of-type {\n",
       "        vertical-align: middle;\n",
       "    }\n",
       "\n",
       "    .dataframe tbody tr th {\n",
       "        vertical-align: top;\n",
       "    }\n",
       "\n",
       "    .dataframe thead th {\n",
       "        text-align: right;\n",
       "    }\n",
       "</style>\n",
       "<table border=\"1\" class=\"dataframe\">\n",
       "  <thead>\n",
       "    <tr style=\"text-align: right;\">\n",
       "      <th></th>\n",
       "      <th>Open</th>\n",
       "      <th>High</th>\n",
       "      <th>Low</th>\n",
       "      <th>Close</th>\n",
       "      <th>Volume</th>\n",
       "      <th>Dividends</th>\n",
       "      <th>Stock Splits</th>\n",
       "    </tr>\n",
       "    <tr>\n",
       "      <th>Date</th>\n",
       "      <th></th>\n",
       "      <th></th>\n",
       "      <th></th>\n",
       "      <th></th>\n",
       "      <th></th>\n",
       "      <th></th>\n",
       "      <th></th>\n",
       "    </tr>\n",
       "  </thead>\n",
       "  <tbody>\n",
       "    <tr>\n",
       "      <th>2018-02-01 00:00:00+00:00</th>\n",
       "      <td>1119.369995</td>\n",
       "      <td>1161.349976</td>\n",
       "      <td>984.818970</td>\n",
       "      <td>1036.790039</td>\n",
       "      <td>5261680128</td>\n",
       "      <td>0.0</td>\n",
       "      <td>0.0</td>\n",
       "    </tr>\n",
       "    <tr>\n",
       "      <th>2018-02-02 00:00:00+00:00</th>\n",
       "      <td>1035.770020</td>\n",
       "      <td>1035.770020</td>\n",
       "      <td>757.979980</td>\n",
       "      <td>915.784973</td>\n",
       "      <td>6713290240</td>\n",
       "      <td>0.0</td>\n",
       "      <td>0.0</td>\n",
       "    </tr>\n",
       "    <tr>\n",
       "      <th>2018-02-03 00:00:00+00:00</th>\n",
       "      <td>919.210999</td>\n",
       "      <td>991.942993</td>\n",
       "      <td>847.690002</td>\n",
       "      <td>964.018982</td>\n",
       "      <td>3243480064</td>\n",
       "      <td>0.0</td>\n",
       "      <td>0.0</td>\n",
       "    </tr>\n",
       "    <tr>\n",
       "      <th>2018-02-04 00:00:00+00:00</th>\n",
       "      <td>964.666992</td>\n",
       "      <td>969.031982</td>\n",
       "      <td>805.064026</td>\n",
       "      <td>834.682007</td>\n",
       "      <td>2997090048</td>\n",
       "      <td>0.0</td>\n",
       "      <td>0.0</td>\n",
       "    </tr>\n",
       "    <tr>\n",
       "      <th>2018-02-05 00:00:00+00:00</th>\n",
       "      <td>834.958008</td>\n",
       "      <td>856.645996</td>\n",
       "      <td>644.598999</td>\n",
       "      <td>697.950989</td>\n",
       "      <td>4269530112</td>\n",
       "      <td>0.0</td>\n",
       "      <td>0.0</td>\n",
       "    </tr>\n",
       "  </tbody>\n",
       "</table>\n",
       "</div>"
      ],
      "text/plain": [
       "                                  Open         High         Low        Close  \\\n",
       "Date                                                                           \n",
       "2018-02-01 00:00:00+00:00  1119.369995  1161.349976  984.818970  1036.790039   \n",
       "2018-02-02 00:00:00+00:00  1035.770020  1035.770020  757.979980   915.784973   \n",
       "2018-02-03 00:00:00+00:00   919.210999   991.942993  847.690002   964.018982   \n",
       "2018-02-04 00:00:00+00:00   964.666992   969.031982  805.064026   834.682007   \n",
       "2018-02-05 00:00:00+00:00   834.958008   856.645996  644.598999   697.950989   \n",
       "\n",
       "                               Volume  Dividends  Stock Splits  \n",
       "Date                                                            \n",
       "2018-02-01 00:00:00+00:00  5261680128        0.0           0.0  \n",
       "2018-02-02 00:00:00+00:00  6713290240        0.0           0.0  \n",
       "2018-02-03 00:00:00+00:00  3243480064        0.0           0.0  \n",
       "2018-02-04 00:00:00+00:00  2997090048        0.0           0.0  \n",
       "2018-02-05 00:00:00+00:00  4269530112        0.0           0.0  "
      ]
     },
     "execution_count": 61,
     "metadata": {},
     "output_type": "execute_result"
    }
   ],
   "source": [
    "# set dates for historical data\n",
    "start = '2018-02-01'\n",
    "end = '2023-01-24'\n",
    "\n",
    "hist = cc.history(start=f\"{start}\", end=f\"{end}\")\n",
    "hist.head()"
   ]
  },
  {
   "cell_type": "code",
   "execution_count": 62,
   "metadata": {},
   "outputs": [
    {
     "data": {
      "text/html": [
       "<div>\n",
       "<style scoped>\n",
       "    .dataframe tbody tr th:only-of-type {\n",
       "        vertical-align: middle;\n",
       "    }\n",
       "\n",
       "    .dataframe tbody tr th {\n",
       "        vertical-align: top;\n",
       "    }\n",
       "\n",
       "    .dataframe thead th {\n",
       "        text-align: right;\n",
       "    }\n",
       "</style>\n",
       "<table border=\"1\" class=\"dataframe\">\n",
       "  <thead>\n",
       "    <tr style=\"text-align: right;\">\n",
       "      <th></th>\n",
       "      <th>Close</th>\n",
       "    </tr>\n",
       "    <tr>\n",
       "      <th>Date</th>\n",
       "      <th></th>\n",
       "    </tr>\n",
       "  </thead>\n",
       "  <tbody>\n",
       "    <tr>\n",
       "      <th>2018-02-01 00:00:00+00:00</th>\n",
       "      <td>1036.790039</td>\n",
       "    </tr>\n",
       "    <tr>\n",
       "      <th>2018-02-02 00:00:00+00:00</th>\n",
       "      <td>915.784973</td>\n",
       "    </tr>\n",
       "    <tr>\n",
       "      <th>2018-02-03 00:00:00+00:00</th>\n",
       "      <td>964.018982</td>\n",
       "    </tr>\n",
       "    <tr>\n",
       "      <th>2018-02-04 00:00:00+00:00</th>\n",
       "      <td>834.682007</td>\n",
       "    </tr>\n",
       "    <tr>\n",
       "      <th>2018-02-05 00:00:00+00:00</th>\n",
       "      <td>697.950989</td>\n",
       "    </tr>\n",
       "  </tbody>\n",
       "</table>\n",
       "</div>"
      ],
      "text/plain": [
       "                                 Close\n",
       "Date                                  \n",
       "2018-02-01 00:00:00+00:00  1036.790039\n",
       "2018-02-02 00:00:00+00:00   915.784973\n",
       "2018-02-03 00:00:00+00:00   964.018982\n",
       "2018-02-04 00:00:00+00:00   834.682007\n",
       "2018-02-05 00:00:00+00:00   697.950989"
      ]
     },
     "execution_count": 62,
     "metadata": {},
     "output_type": "execute_result"
    }
   ],
   "source": [
    "# just close column\n",
    "historical = pd.DataFrame(hist)\n",
    "historical_close = historical.drop(['Open','High', 'Low','Volume', 'Dividends', 'Stock Splits'], axis=1)\n",
    "historical_close.head()"
   ]
  },
  {
   "attachments": {},
   "cell_type": "markdown",
   "metadata": {},
   "source": [
    "**Fear and Greed API:**"
   ]
  },
  {
   "cell_type": "code",
   "execution_count": 63,
   "metadata": {},
   "outputs": [],
   "source": [
    "import requests"
   ]
  },
  {
   "cell_type": "code",
   "execution_count": 64,
   "metadata": {},
   "outputs": [],
   "source": [
    "r = requests.get('https://api.alternative.me/fng/?limit=0')"
   ]
  },
  {
   "cell_type": "code",
   "execution_count": 65,
   "metadata": {},
   "outputs": [],
   "source": [
    "# select 'data' and add to a dataframe\n",
    "fg_df = pd.DataFrame(r.json()['data'])"
   ]
  },
  {
   "cell_type": "code",
   "execution_count": 66,
   "metadata": {},
   "outputs": [],
   "source": [
    "# convert 'value' to int\n",
    "fg_df.value = fg_df.value.astype(int)\n",
    "\n",
    "# convert time format to datetime\n",
    "fg_df.timestamp = pd.to_datetime(fg_df.timestamp, unit='s' )\n",
    "\n",
    "# set date as index\n",
    "fg_df.set_index('timestamp', inplace=True)"
   ]
  },
  {
   "cell_type": "code",
   "execution_count": 67,
   "metadata": {},
   "outputs": [],
   "source": [
    "# drop all columns except 'value'\n",
    "fg_df = fg_df.drop(['value_classification', 'time_until_update'], axis=1)\n",
    "\n",
    "# flip oldest data to the top\n",
    "fg_df = fg_df[::-1]\n",
    "\n",
    "# convert date format to match 'historical_close'\n",
    "fg_df.index = pd.to_datetime(fg_df.index).tz_localize('Etc/UCT')"
   ]
  },
  {
   "cell_type": "code",
   "execution_count": 68,
   "metadata": {},
   "outputs": [
    {
     "data": {
      "text/html": [
       "<div>\n",
       "<style scoped>\n",
       "    .dataframe tbody tr th:only-of-type {\n",
       "        vertical-align: middle;\n",
       "    }\n",
       "\n",
       "    .dataframe tbody tr th {\n",
       "        vertical-align: top;\n",
       "    }\n",
       "\n",
       "    .dataframe thead th {\n",
       "        text-align: right;\n",
       "    }\n",
       "</style>\n",
       "<table border=\"1\" class=\"dataframe\">\n",
       "  <thead>\n",
       "    <tr style=\"text-align: right;\">\n",
       "      <th></th>\n",
       "      <th>value</th>\n",
       "    </tr>\n",
       "    <tr>\n",
       "      <th>timestamp</th>\n",
       "      <th></th>\n",
       "    </tr>\n",
       "  </thead>\n",
       "  <tbody>\n",
       "    <tr>\n",
       "      <th>2018-02-01 00:00:00+00:00</th>\n",
       "      <td>30</td>\n",
       "    </tr>\n",
       "    <tr>\n",
       "      <th>2018-02-02 00:00:00+00:00</th>\n",
       "      <td>15</td>\n",
       "    </tr>\n",
       "    <tr>\n",
       "      <th>2018-02-03 00:00:00+00:00</th>\n",
       "      <td>40</td>\n",
       "    </tr>\n",
       "    <tr>\n",
       "      <th>2018-02-04 00:00:00+00:00</th>\n",
       "      <td>24</td>\n",
       "    </tr>\n",
       "    <tr>\n",
       "      <th>2018-02-05 00:00:00+00:00</th>\n",
       "      <td>11</td>\n",
       "    </tr>\n",
       "  </tbody>\n",
       "</table>\n",
       "</div>"
      ],
      "text/plain": [
       "                           value\n",
       "timestamp                       \n",
       "2018-02-01 00:00:00+00:00     30\n",
       "2018-02-02 00:00:00+00:00     15\n",
       "2018-02-03 00:00:00+00:00     40\n",
       "2018-02-04 00:00:00+00:00     24\n",
       "2018-02-05 00:00:00+00:00     11"
      ]
     },
     "execution_count": 68,
     "metadata": {},
     "output_type": "execute_result"
    }
   ],
   "source": [
    "fg_df.head()"
   ]
  },
  {
   "attachments": {},
   "cell_type": "markdown",
   "metadata": {},
   "source": [
    "**Combined:**"
   ]
  },
  {
   "cell_type": "code",
   "execution_count": 69,
   "metadata": {},
   "outputs": [
    {
     "data": {
      "text/html": [
       "<div>\n",
       "<style scoped>\n",
       "    .dataframe tbody tr th:only-of-type {\n",
       "        vertical-align: middle;\n",
       "    }\n",
       "\n",
       "    .dataframe tbody tr th {\n",
       "        vertical-align: top;\n",
       "    }\n",
       "\n",
       "    .dataframe thead th {\n",
       "        text-align: right;\n",
       "    }\n",
       "</style>\n",
       "<table border=\"1\" class=\"dataframe\">\n",
       "  <thead>\n",
       "    <tr style=\"text-align: right;\">\n",
       "      <th></th>\n",
       "      <th>value</th>\n",
       "      <th>Close</th>\n",
       "    </tr>\n",
       "    <tr>\n",
       "      <th>timestamp</th>\n",
       "      <th></th>\n",
       "      <th></th>\n",
       "    </tr>\n",
       "  </thead>\n",
       "  <tbody>\n",
       "    <tr>\n",
       "      <th>2018-02-01 00:00:00+00:00</th>\n",
       "      <td>30.0</td>\n",
       "      <td>1036.790039</td>\n",
       "    </tr>\n",
       "    <tr>\n",
       "      <th>2018-02-02 00:00:00+00:00</th>\n",
       "      <td>15.0</td>\n",
       "      <td>915.784973</td>\n",
       "    </tr>\n",
       "    <tr>\n",
       "      <th>2018-02-03 00:00:00+00:00</th>\n",
       "      <td>40.0</td>\n",
       "      <td>964.018982</td>\n",
       "    </tr>\n",
       "    <tr>\n",
       "      <th>2018-02-04 00:00:00+00:00</th>\n",
       "      <td>24.0</td>\n",
       "      <td>834.682007</td>\n",
       "    </tr>\n",
       "    <tr>\n",
       "      <th>2018-02-05 00:00:00+00:00</th>\n",
       "      <td>11.0</td>\n",
       "      <td>697.950989</td>\n",
       "    </tr>\n",
       "  </tbody>\n",
       "</table>\n",
       "</div>"
      ],
      "text/plain": [
       "                           value        Close\n",
       "timestamp                                    \n",
       "2018-02-01 00:00:00+00:00   30.0  1036.790039\n",
       "2018-02-02 00:00:00+00:00   15.0   915.784973\n",
       "2018-02-03 00:00:00+00:00   40.0   964.018982\n",
       "2018-02-04 00:00:00+00:00   24.0   834.682007\n",
       "2018-02-05 00:00:00+00:00   11.0   697.950989"
      ]
     },
     "execution_count": 69,
     "metadata": {},
     "output_type": "execute_result"
    }
   ],
   "source": [
    "# rename index to match fg_df\n",
    "historical.index.name = 'timestamp'\n",
    "\n",
    "# combine historical price data with historical fear and greed\n",
    "combined_df = pd.concat([fg_df, historical_close], axis=1, join='outer')\n",
    "\n",
    "combined_df.head()"
   ]
  },
  {
   "attachments": {},
   "cell_type": "markdown",
   "metadata": {},
   "source": [
    "**Backtest:**"
   ]
  },
  {
   "cell_type": "code",
   "execution_count": 70,
   "metadata": {},
   "outputs": [
    {
     "data": {
      "text/html": [
       "<div>\n",
       "<style scoped>\n",
       "    .dataframe tbody tr th:only-of-type {\n",
       "        vertical-align: middle;\n",
       "    }\n",
       "\n",
       "    .dataframe tbody tr th {\n",
       "        vertical-align: top;\n",
       "    }\n",
       "\n",
       "    .dataframe thead th {\n",
       "        text-align: right;\n",
       "    }\n",
       "</style>\n",
       "<table border=\"1\" class=\"dataframe\">\n",
       "  <thead>\n",
       "    <tr style=\"text-align: right;\">\n",
       "      <th></th>\n",
       "      <th>value</th>\n",
       "      <th>Close</th>\n",
       "      <th>change</th>\n",
       "    </tr>\n",
       "    <tr>\n",
       "      <th>timestamp</th>\n",
       "      <th></th>\n",
       "      <th></th>\n",
       "      <th></th>\n",
       "    </tr>\n",
       "  </thead>\n",
       "  <tbody>\n",
       "    <tr>\n",
       "      <th>2023-01-21 00:00:00+00:00</th>\n",
       "      <td>53.0</td>\n",
       "      <td>1627.118164</td>\n",
       "      <td>-0.019663</td>\n",
       "    </tr>\n",
       "    <tr>\n",
       "      <th>2023-01-22 00:00:00+00:00</th>\n",
       "      <td>53.0</td>\n",
       "      <td>1628.382080</td>\n",
       "      <td>0.000777</td>\n",
       "    </tr>\n",
       "    <tr>\n",
       "      <th>2023-01-23 00:00:00+00:00</th>\n",
       "      <td>50.0</td>\n",
       "      <td>1628.251099</td>\n",
       "      <td>-0.000080</td>\n",
       "    </tr>\n",
       "    <tr>\n",
       "      <th>2023-01-24 00:00:00+00:00</th>\n",
       "      <td>52.0</td>\n",
       "      <td>NaN</td>\n",
       "      <td>0.000000</td>\n",
       "    </tr>\n",
       "    <tr>\n",
       "      <th>2023-01-25 00:00:00+00:00</th>\n",
       "      <td>51.0</td>\n",
       "      <td>NaN</td>\n",
       "      <td>0.000000</td>\n",
       "    </tr>\n",
       "  </tbody>\n",
       "</table>\n",
       "</div>"
      ],
      "text/plain": [
       "                           value        Close    change\n",
       "timestamp                                              \n",
       "2023-01-21 00:00:00+00:00   53.0  1627.118164 -0.019663\n",
       "2023-01-22 00:00:00+00:00   53.0  1628.382080  0.000777\n",
       "2023-01-23 00:00:00+00:00   50.0  1628.251099 -0.000080\n",
       "2023-01-24 00:00:00+00:00   52.0          NaN  0.000000\n",
       "2023-01-25 00:00:00+00:00   51.0          NaN  0.000000"
      ]
     },
     "execution_count": 70,
     "metadata": {},
     "output_type": "execute_result"
    }
   ],
   "source": [
    "combined_df_ = combined_df.copy()\n",
    "\n",
    "# add 'change' column using pct_change on 'Close'\n",
    "combined_df_['change'] = combined_df_['Close'].pct_change()\n",
    "combined_df_.tail()"
   ]
  },
  {
   "attachments": {},
   "cell_type": "markdown",
   "metadata": {},
   "source": [
    "**Algorithm Logic:**\n",
    "\n",
    "- position 1.0 = Long Crypto (uptrend)\n",
    "\n",
    "- position -1.0 = Short Crypto (downtrend)\n",
    "\n",
    "- position 0.0 = Hold Stablecoin (no trend)"
   ]
  },
  {
   "cell_type": "code",
   "execution_count": 71,
   "metadata": {},
   "outputs": [
    {
     "data": {
      "text/html": [
       "<div>\n",
       "<style scoped>\n",
       "    .dataframe tbody tr th:only-of-type {\n",
       "        vertical-align: middle;\n",
       "    }\n",
       "\n",
       "    .dataframe tbody tr th {\n",
       "        vertical-align: top;\n",
       "    }\n",
       "\n",
       "    .dataframe thead th {\n",
       "        text-align: right;\n",
       "    }\n",
       "</style>\n",
       "<table border=\"1\" class=\"dataframe\">\n",
       "  <thead>\n",
       "    <tr style=\"text-align: right;\">\n",
       "      <th></th>\n",
       "      <th>value</th>\n",
       "      <th>Close</th>\n",
       "      <th>change</th>\n",
       "      <th>position</th>\n",
       "    </tr>\n",
       "    <tr>\n",
       "      <th>timestamp</th>\n",
       "      <th></th>\n",
       "      <th></th>\n",
       "      <th></th>\n",
       "      <th></th>\n",
       "    </tr>\n",
       "  </thead>\n",
       "  <tbody>\n",
       "    <tr>\n",
       "      <th>2018-02-02 00:00:00+00:00</th>\n",
       "      <td>15.0</td>\n",
       "      <td>915.784973</td>\n",
       "      <td>-0.116711</td>\n",
       "      <td>0</td>\n",
       "    </tr>\n",
       "    <tr>\n",
       "      <th>2018-02-03 00:00:00+00:00</th>\n",
       "      <td>40.0</td>\n",
       "      <td>964.018982</td>\n",
       "      <td>0.052670</td>\n",
       "      <td>-1</td>\n",
       "    </tr>\n",
       "    <tr>\n",
       "      <th>2018-02-04 00:00:00+00:00</th>\n",
       "      <td>24.0</td>\n",
       "      <td>834.682007</td>\n",
       "      <td>-0.134164</td>\n",
       "      <td>-1</td>\n",
       "    </tr>\n",
       "    <tr>\n",
       "      <th>2018-02-05 00:00:00+00:00</th>\n",
       "      <td>11.0</td>\n",
       "      <td>697.950989</td>\n",
       "      <td>-0.163812</td>\n",
       "      <td>0</td>\n",
       "    </tr>\n",
       "    <tr>\n",
       "      <th>2018-02-06 00:00:00+00:00</th>\n",
       "      <td>8.0</td>\n",
       "      <td>793.122009</td>\n",
       "      <td>0.136358</td>\n",
       "      <td>0</td>\n",
       "    </tr>\n",
       "    <tr>\n",
       "      <th>2018-02-07 00:00:00+00:00</th>\n",
       "      <td>36.0</td>\n",
       "      <td>757.067993</td>\n",
       "      <td>-0.045458</td>\n",
       "      <td>-1</td>\n",
       "    </tr>\n",
       "    <tr>\n",
       "      <th>2018-02-08 00:00:00+00:00</th>\n",
       "      <td>30.0</td>\n",
       "      <td>817.807007</td>\n",
       "      <td>0.080229</td>\n",
       "      <td>-1</td>\n",
       "    </tr>\n",
       "    <tr>\n",
       "      <th>2018-02-09 00:00:00+00:00</th>\n",
       "      <td>44.0</td>\n",
       "      <td>883.864990</td>\n",
       "      <td>0.080775</td>\n",
       "      <td>-1</td>\n",
       "    </tr>\n",
       "    <tr>\n",
       "      <th>2018-02-10 00:00:00+00:00</th>\n",
       "      <td>54.0</td>\n",
       "      <td>860.414978</td>\n",
       "      <td>-0.026531</td>\n",
       "      <td>1</td>\n",
       "    </tr>\n",
       "    <tr>\n",
       "      <th>2018-02-11 00:00:00+00:00</th>\n",
       "      <td>31.0</td>\n",
       "      <td>814.659973</td>\n",
       "      <td>-0.053178</td>\n",
       "      <td>-1</td>\n",
       "    </tr>\n",
       "    <tr>\n",
       "      <th>2018-02-12 00:00:00+00:00</th>\n",
       "      <td>42.0</td>\n",
       "      <td>868.706970</td>\n",
       "      <td>0.066343</td>\n",
       "      <td>-1</td>\n",
       "    </tr>\n",
       "    <tr>\n",
       "      <th>2018-02-13 00:00:00+00:00</th>\n",
       "      <td>35.0</td>\n",
       "      <td>845.257996</td>\n",
       "      <td>-0.026993</td>\n",
       "      <td>-1</td>\n",
       "    </tr>\n",
       "    <tr>\n",
       "      <th>2018-02-14 00:00:00+00:00</th>\n",
       "      <td>55.0</td>\n",
       "      <td>923.560974</td>\n",
       "      <td>0.092638</td>\n",
       "      <td>1</td>\n",
       "    </tr>\n",
       "    <tr>\n",
       "      <th>2018-02-15 00:00:00+00:00</th>\n",
       "      <td>71.0</td>\n",
       "      <td>936.976013</td>\n",
       "      <td>0.014525</td>\n",
       "      <td>1</td>\n",
       "    </tr>\n",
       "    <tr>\n",
       "      <th>2018-02-16 00:00:00+00:00</th>\n",
       "      <td>67.0</td>\n",
       "      <td>944.210022</td>\n",
       "      <td>0.007721</td>\n",
       "      <td>1</td>\n",
       "    </tr>\n",
       "  </tbody>\n",
       "</table>\n",
       "</div>"
      ],
      "text/plain": [
       "                           value       Close    change  position\n",
       "timestamp                                                       \n",
       "2018-02-02 00:00:00+00:00   15.0  915.784973 -0.116711         0\n",
       "2018-02-03 00:00:00+00:00   40.0  964.018982  0.052670        -1\n",
       "2018-02-04 00:00:00+00:00   24.0  834.682007 -0.134164        -1\n",
       "2018-02-05 00:00:00+00:00   11.0  697.950989 -0.163812         0\n",
       "2018-02-06 00:00:00+00:00    8.0  793.122009  0.136358         0\n",
       "2018-02-07 00:00:00+00:00   36.0  757.067993 -0.045458        -1\n",
       "2018-02-08 00:00:00+00:00   30.0  817.807007  0.080229        -1\n",
       "2018-02-09 00:00:00+00:00   44.0  883.864990  0.080775        -1\n",
       "2018-02-10 00:00:00+00:00   54.0  860.414978 -0.026531         1\n",
       "2018-02-11 00:00:00+00:00   31.0  814.659973 -0.053178        -1\n",
       "2018-02-12 00:00:00+00:00   42.0  868.706970  0.066343        -1\n",
       "2018-02-13 00:00:00+00:00   35.0  845.257996 -0.026993        -1\n",
       "2018-02-14 00:00:00+00:00   55.0  923.560974  0.092638         1\n",
       "2018-02-15 00:00:00+00:00   71.0  936.976013  0.014525         1\n",
       "2018-02-16 00:00:00+00:00   67.0  944.210022  0.007721         1"
      ]
     },
     "execution_count": 71,
     "metadata": {},
     "output_type": "execute_result"
    }
   ],
   "source": [
    "# algorithm\n",
    "\n",
    "combined_df_['position'] = 0\n",
    "\n",
    "# short when f&g is over 93 (f&g > 93 = -1)\n",
    "for index, row in combined_df_.iterrows():\n",
    "    if row['value'] >= 94:\n",
    "        combined_df_.loc[index, 'position'] = -1.0\n",
    "\n",
    "# long when f&g is over 44 and under 94 (93 > f&g > 44 = 1)\n",
    "    elif row['value'] >= 45:\n",
    "        combined_df_.loc[index, 'position'] = 1.0\n",
    "\n",
    "# short when f&g is over 22 and less than 45 (45 > f&g > 22 = -1)\n",
    "    elif row['value'] >= 23:\n",
    "        combined_df_.loc[index, 'position'] = -1.0\n",
    "# hold stables under 23 (f&g < 23 = 0.0)\n",
    "    elif row['value'] < 23:\n",
    "        combined_df_.loc[index, 'position'] = 0\n",
    "\n",
    "combined_df_ = combined_df_.dropna()\n",
    "combined_df_.head(15)"
   ]
  },
  {
   "cell_type": "code",
   "execution_count": 72,
   "metadata": {},
   "outputs": [
    {
     "data": {
      "text/plain": [
       "-1    777\n",
       " 1    650\n",
       " 0    387\n",
       "Name: position, dtype: int64"
      ]
     },
     "execution_count": 72,
     "metadata": {},
     "output_type": "execute_result"
    }
   ],
   "source": [
    "# number of each position\n",
    "combined_df_['position'].value_counts()"
   ]
  },
  {
   "attachments": {},
   "cell_type": "markdown",
   "metadata": {},
   "source": [
    "**Returns:**"
   ]
  },
  {
   "cell_type": "code",
   "execution_count": 73,
   "metadata": {},
   "outputs": [],
   "source": [
    "# calculate returns\n",
    "strategy_returns = combined_df_.position.shift() * combined_df_.change"
   ]
  },
  {
   "cell_type": "code",
   "execution_count": 74,
   "metadata": {},
   "outputs": [
    {
     "data": {},
     "metadata": {},
     "output_type": "display_data"
    },
    {
     "data": {
      "application/vnd.holoviews_exec.v0+json": "",
      "text/html": [
       "<div id='2788'>\n",
       "  <div class=\"bk-root\" id=\"794b44d7-5db9-4987-bdd1-81ba191a4e6b\" data-root-id=\"2788\"></div>\n",
       "</div>\n",
       "<script type=\"application/javascript\">(function(root) {\n",
       "  function embed_document(root) {\n",
       "    var docs_json = {\"c8ae34db-179c-48f7-ad49-de38008c66d1\":{\"defs\":[{\"extends\":null,\"module\":null,\"name\":\"ReactiveHTML1\",\"overrides\":[],\"properties\":[]},{\"extends\":null,\"module\":null,\"name\":\"FlexBox1\",\"overrides\":[],\"properties\":[{\"default\":\"flex-start\",\"kind\":null,\"name\":\"align_content\"},{\"default\":\"flex-start\",\"kind\":null,\"name\":\"align_items\"},{\"default\":\"row\",\"kind\":null,\"name\":\"flex_direction\"},{\"default\":\"wrap\",\"kind\":null,\"name\":\"flex_wrap\"},{\"default\":\"flex-start\",\"kind\":null,\"name\":\"justify_content\"}]},{\"extends\":null,\"module\":null,\"name\":\"GridStack1\",\"overrides\":[],\"properties\":[{\"default\":\"warn\",\"kind\":null,\"name\":\"mode\"},{\"default\":null,\"kind\":null,\"name\":\"ncols\"},{\"default\":null,\"kind\":null,\"name\":\"nrows\"},{\"default\":true,\"kind\":null,\"name\":\"allow_resize\"},{\"default\":true,\"kind\":null,\"name\":\"allow_drag\"},{\"default\":[],\"kind\":null,\"name\":\"state\"}]},{\"extends\":null,\"module\":null,\"name\":\"click1\",\"overrides\":[],\"properties\":[{\"default\":\"\",\"kind\":null,\"name\":\"terminal_output\"},{\"default\":\"\",\"kind\":null,\"name\":\"debug_name\"},{\"default\":0,\"kind\":null,\"name\":\"clears\"}]},{\"extends\":null,\"module\":null,\"name\":\"NotificationAreaBase1\",\"overrides\":[],\"properties\":[{\"default\":\"bottom-right\",\"kind\":null,\"name\":\"position\"},{\"default\":0,\"kind\":null,\"name\":\"_clear\"}]},{\"extends\":null,\"module\":null,\"name\":\"NotificationArea1\",\"overrides\":[],\"properties\":[{\"default\":[],\"kind\":null,\"name\":\"notifications\"},{\"default\":\"bottom-right\",\"kind\":null,\"name\":\"position\"},{\"default\":0,\"kind\":null,\"name\":\"_clear\"},{\"default\":[{\"background\":\"#ffc107\",\"icon\":{\"className\":\"fas fa-exclamation-triangle\",\"color\":\"white\",\"tagName\":\"i\"},\"type\":\"warning\"},{\"background\":\"#007bff\",\"icon\":{\"className\":\"fas fa-info-circle\",\"color\":\"white\",\"tagName\":\"i\"},\"type\":\"info\"}],\"kind\":null,\"name\":\"types\"}]},{\"extends\":null,\"module\":null,\"name\":\"Notification\",\"overrides\":[],\"properties\":[{\"default\":null,\"kind\":null,\"name\":\"background\"},{\"default\":3000,\"kind\":null,\"name\":\"duration\"},{\"default\":null,\"kind\":null,\"name\":\"icon\"},{\"default\":\"\",\"kind\":null,\"name\":\"message\"},{\"default\":null,\"kind\":null,\"name\":\"notification_type\"},{\"default\":false,\"kind\":null,\"name\":\"_destroyed\"}]},{\"extends\":null,\"module\":null,\"name\":\"TemplateActions1\",\"overrides\":[],\"properties\":[{\"default\":0,\"kind\":null,\"name\":\"open_modal\"},{\"default\":0,\"kind\":null,\"name\":\"close_modal\"}]},{\"extends\":null,\"module\":null,\"name\":\"MaterialTemplateActions1\",\"overrides\":[],\"properties\":[{\"default\":0,\"kind\":null,\"name\":\"open_modal\"},{\"default\":0,\"kind\":null,\"name\":\"close_modal\"}]}],\"roots\":{\"references\":[{\"attributes\":{},\"id\":\"2808\",\"type\":\"BasicTicker\"},{\"attributes\":{\"line_alpha\":0.1,\"line_color\":\"#fc4f30\",\"line_width\":2,\"x\":{\"field\":\"timestamp\"},\"y\":{\"field\":\"change\"}},\"id\":\"2868\",\"type\":\"Line\"},{\"attributes\":{\"line_color\":\"#fc4f30\",\"line_width\":2,\"x\":{\"field\":\"timestamp\"},\"y\":{\"field\":\"change\"}},\"id\":\"2897\",\"type\":\"Line\"},{\"attributes\":{},\"id\":\"2813\",\"type\":\"WheelZoomTool\"},{\"attributes\":{},\"id\":\"2827\",\"type\":\"AllLabels\"},{\"attributes\":{\"mantissas\":[1,2,5],\"max_interval\":500.0,\"num_minor_ticks\":0},\"id\":\"2849\",\"type\":\"AdaptiveTicker\"},{\"attributes\":{\"data\":{\"0\":{\"__ndarray__\":\"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\",\"dtype\":\"float64\",\"order\":\"little\",\"shape\":[1814]},\"A_0\":{\"__ndarray__\":\"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\",\"dtype\":\"float64\",\"order\":\"little\",\"shape\":[1814]},\"timestamp\":{\"__ndarray__\":\"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\",\"dtype\":\"float64\",\"order\":\"little\",\"shape\":[1814]}},\"selected\":{\"id\":\"2832\"},\"selection_policy\":{\"id\":\"2846\"}},\"id\":\"2831\",\"type\":\"ColumnDataSource\"},{\"attributes\":{\"data\":{\"change\":{\"__ndarray__\":\"QNl0wuZD7D8FXZBmA8HtP3RNcukUw+k/pAjnOrqK5T8vC7oHtHroP+lR4UrUXec/nGcpQL896T8489oTsUfrP3yb4udnjuo/8YhIouEk6T+OfqFp7M/qPxoq81alFuo/Gah8jVeB7D9raNGgVuvsP+LfTB1/JO0/muJx9MgQ7j+JGs/UL4TsP3Mk3jTFIe0/IwFuopqi6z8IJIWE4jvqP0paNF2KFuk/bO1pzjms6j9OszSLK/HpP1dleSgbE+o/HQENTbrU6j+e1+jOcRvrP+ouhE8xZeo/zyqg6YXr6j/HfpIFQ3LqP2Ce6l8zdeo/iOeSTOS/6j/Qh871OFnqP/XUpMD7Nuk/WHWX9lk85z9t38xYO7/lP4t940lkf+Y/7pclzlQz5T9ijINwU1PmPzFfkPuUmeU/Ft6rVnBS5T8pQuM7tPXiP0Yh9FIa3uI/d9rOMvOR4j9EoDeurQ/hP1fdc0v+n+A/bWAAdt0u4T9YNymeaTLhP1meuzxrVuE/FzpScFqo4D+gMzGJsqfgP/nSpeWOP+A/dk1s5I0u4D9PEdp/gj7eP24ptjIDyds/xlEKtGCM2z8Kuf5ITtPXP8/jN9hsXNg/+PEPSQ952D8oly8TyW7XPychfhGH2tc/78N+jAC82T8fiY+nk33XP8bXPegRqNc/0bksO3nb1j/kJ6mU+MjXP2SasHcTudg/7v6lXcGZ2D++PlATIJLZP1vhmRqpk9o/XJOjisJt3j+dmqYTgWreP9+RwnvI7N0/Jf+WclE63z+/RxBFcOXgP0h7MOa8UeI/nIcPWRwD4j9+vkT3hIDiP35wrfIXHuM/TfzvTtMR5T/4K4MIcE/iP43r43JquOM/DWnfMz9A4z9x6FRMXlfkP4owUID/fuQ//y6JyZvu4z8/CFPOtArkP0WHNlTOceQ/3Np3H4sx5z8+XzlM3F/nP8TW/J0jSOg/13NFA8uS5z95R+Qn5WzmP3PBq7NIZuY/iADU7tlh5j+QVJPgcqPlPwAoVHMzOOQ/4rXJfWtp5D9dYL4i0dLlPyOtuO5evOU/WPiCeUEX5T+d3tTIYgnlP5MK/rxsA+Q/xdPMjsio5D/aFV8vQrnkP4H819m/SOU/kx8lKcPN5D/ggZLApUXjP+Geppb9XOE/wkWjxmLn4T/ggb+3+XThP53LpmMieeE/3MK40tYJ4T/hvM/6+rTePys/4K1j0uA/7BWgWzqm4D/hCy5Uvy/hP/KK5CUDQuE/dIDvVJ+b4T+fWYjyn2XiPxKig1aWpOE/oROxYOAg4j/lxkmwRxDiP+KDPcKGAeI/FMiIzTji4T9s7Rj3csfhP1S8fAgQVN8/axogzLm73z+Rz6IAm5DdPz5cssLaadw/gHTbbG/t3j9d2cRoqDfdP8O5rnE+u90/+dYSpIXH3T95bvOveODeP8SVcJx0AeA/Cl/ari7p3z9uoSQDl2HfP3Fh5mH5t9s/KIQT6Yw83D+Cofr35TvbP93PPYIVZNs/8yRFPZbA2T+Jj3F7uFLaP2eT8H8NItk/QtqvueXx2T8wDNfG7xXbPyEtrFG2Ats/B2ye/CVJ3D8KOnoSRJ/bPxx/9+7Wzts/Vzsbu+c63D9ywOPazzTcP24Y46qmQd0/MlUVWPEa3T8ol9A8fF3cP+2RA6jA2dk/MY0HM/yR2j+Jaky5fJfZP/fqinG009k/4Otl/RHz2T/XSpAqvsTaPwdFjZINmtw/pvQtKvbP3T8nHdUm2JfcP5GSdzzk8ds/Y/1BH6nR2j9r9SpneITbP0nkVQgjWts/zJEVlAXU2j/9uGxheobcP5sr4jSsHdw/J1Jw1duc2z8q3lKDm/LbP7iqABtxyNs/iJMPdeTE2z/DpB805TLbP0+gKXhE0dk/HLGqx2cJ2T+F2RZkno3YP9U0bNeM49g/yVZBr9Q72D+iflBgjW3YP4wGMCPIMtg//tYbGfef1j/zJmFCbTjVPz8iDoglwdU/S2vkiqLi0z8ONrv82yrTPzWB/doiBNM/Jf8Jm0oM0T+aQEXZFJnQP9+8edBczdA/Wzy1GOsj0T+zjt3nn8nSP53LB6I4mtE/eUZ2L7nm0T/o9puwv1LQP+9oC972xtA/0R791nEl0D+SdIwYPH3QP++Ix1mM1tA/aylKOvWj0D+VtE45L2DQP/jUOwm0/tA/VMLwr6+k0T8T4H1DNDfRP8gKYUTi59A/AGiHlxzX0D/65pfRC5PRPwA6rA5FhNE/Dm2timU20T8U7ab8hwDRPw9aTC1hpss/Aeiodellyz86m5twetnJP14KHYLujsc/LUBYXKRvxz/7aP9FXXTHP+QfsOVdBsY/ZVNUw4HRxT/A1aguRyfJPwJf/OVPM8k/WtiqT1mMyj9ZX6WNo0DKP+dJCLedjMc/SY/6sEP9yD9vQBDNFP3IP4E8/yKRuso/LE/ZeJ9YzT+s4+dNp57MP3G/j2vzE80/A1UwM6s4yz90vt1mJQHKPy8vYUwqsMk/wn7Qk3oxyz/cscTz33fKP1v2mrsskcs/vVeLnyG2yz8LQRCnwnbLP7QfAM95Ccs/IOJNjpc9yj9S3zbrRHLKPwxIZZVFFss/PlmsAa/Kyj973OHEHunKPxpnCAKqSMs/m+2sKuEhyz/CJafldN7KPzdh/Q9tjcY/tewV7qNpxz+s/x+Og8jHP4roK8XOSsc/50BS8AH1yD8K32qIrgHJP1HvzG8npcg/i2Abm3szyD/MNvBq6D7IP5Wy+N3Kcsg/n9jGpwRqyD8KOoDekEjIPzOe/kJ2Ucg/jNPhWrdCyD/UvFJwMiDIP48GMCPIMsg/rZ61lp9NyD9FEEG813DIP7YSW5V7ecc/jgFSrOWCxz8xprS8kH3HP3sIoMT9qsc/7huLSbTgxz/cST9kBtPHP4QMMaJuscg/SU/36VTiyD9o2Dz1h//JP6lopWre2Mk/G2RqVf9ByT8rKoPVRwDJP1KhH8wyS8k/fnIl7tkmyT8LktPQwgrJP7qDHw5Tncg/VO6Pm5WWxT/U9NkTlITFP83cFLgU2cQ/pjiTjEC1xD8b0hfEqRLFP1s7nyziwME/RpFyrAUGvz8LAqc910TAP1JlC3imKL4/kGNy1d1YvT9uVgqPmAO7P+Pb5Re3t7s/uXQqRT3JuT993QujTS+6P9hmtfyVJL0/yVOyW0v6uz8PmTmK8O+6P2W8XavjPLw/Z+zXDf6zuz+5IV/6MO25P29cv7m+O7o/TdE71DNkuD/1099fVNe1P0nPqpDFNLY/tJJi3J3vtT+zAjSmWKW2P4GvljC80rU/qwWNf8ErtT8Spv6QLJC1P3HjlXUmmbQ/vXn70DQRtD9feKjqRxm0PzBoqzNTS7Q/1meJPNiktj9em6ndJBG4P+Qqli+oGrg/VYapmIKpuz8Io/BS/w+6P1kcKwKTyrs/Q3EB0P4fvz/FZAsWmrDAP4Vwpnvh574/JSIyhAtjvz9v38w/Y7+7P8oes62pYcA/Z+EIz/lswD9Fd3OLEaXAP4M5bPOavr8/E/kkwlDCwD8ERwcjznPCP8pVKj+qv8E/n2IykZ1lwj83Q/DzzoXCP46s1zYFxsI/1zBLyskNwj8E4VS0+eTBP2bVHaN88sE/JBiKx5edvj+J/f7d+Vu+P9Kf43SX+70/t0UjcADTuz9O/deYnri+P02z4+PjC70/nZeSPipovT9xvGPICXS9P36SBqWWzbw/bdjAwWOjvT93CJp2B3C8P5TorOzY4rs/f3RgobZDvD8lDqTKzvS7P5+1MDlX77s/rFrOV1mzuz+98EFuE7q7P43CNLMw/ro/hyoWn+heuT/qeB4oeiK5P8un9FIg7Lk/R7uzWpx7uT/m5nCwDJ25P+EetTvpSLo/8ly/wOmVuT87pO7J9Km5P16trxXrkrk/R8NonRv5uD9qKN7LteG4P180hSZpY7w/QCbk9VltvD9fK+/357S9P1I+0TUl37w/Kf2tssQsvT9EyoI9oSu9P6YbK2O95Lw/Nx9RhAMQvT9BoDOsr1a9P40ijWmozL8/SFvAASZjwT8Rb1ZdO0zBP+uRBclwzME/gJ4UQyNkwT/Gu0lTXr7BPx7oQaT85cI/TieHl/4qwD91rRYo9KPAP3UrRy8mb8A/PzI0MlIzwD/wTK8bOEbAPyii1sP/PMA/Uyem0bXxvz+2yJk9bnq/P7wCHR28ab4/Xm+EeAFnwD/MondPd4TAP0SFXdd3bcA/aau6YuMUwD9f+2ddXGvAP39eHhqZRsA/gwD0kPzavz+261QOCwDAP+5vQUQyuL8/8i/orYbTvz+g90LbBmPAPzFBCldq8sA/sLnbCV6pwD/OxTL5S5bAP0QHDTgrucA/u0m8+0K+wD+ce/663ELAP3a1AGt6U8A/5WHkm7lzwD8nGV1EjU3AP705STb2EcA/6U5b0gofwD/JDGDmdMfAPw/0EYqSl8A/49QKY3D1wD/u6m+fG+nAP3GDsfd618A/nR1zWR3hwD9eQQVaY4PDPxzZDaMhN8M/E2oeelrPwj+6fcbBtLLDP+A5Re7gv8M/0iSqRWvFxD8G8MJY6HPFPy9y/lel9cQ/N7BpWucaxT/gipDAKbLDP4uZrrP8msM/xcN6mDGUwz+CCG02gPnDP5ARdHqlOsM/1kkFwfLywz8gN5UodN7DPzm+hzCOr8Q/j+VXolasxD99d5+ypK3EP2HjzpDFPMQ/bfdzJHh0xD9qmQDQdmfEP3mqW1cwvMM/e/1nyuFhwj+ttu7dZJvCP0TmVwIB28I/bRkyqEa4wj8NBK2xgXjCP+PxTaytTMM/zxB6ZJ4jwz8Z7GtlXEvDP5Xsi4L4/MM/80ppB12Fwz/hE0pw0XPDP7Xaem8wjMQ/72pFWjg1xD+eG27rPVjEP45x5yUrRMQ/JoIJixqbxD8Bx+ZU1B/HP7GS4nszS8Y/C7L7PEZtxz/7XpHt0dfJPzHPUN31ac0/kAyEm4lrzz/pU6h4uQLNPxI8zRVd68s/Vt+tGbwYzz+hBs0GgPnNPzpEftGbX84/D8kkvzAfzT/l+h3LyEXNP7vmf7QBsc0/8Y7SrlD2zT+A4WEywcjPP4cMm9efPNA/cAENx/Ur0D8hn6KVuQjQP6Q/5Gkzc84/hblaNY/ozz97EEi2npXPPyJR4cBzFNA/OPITEicQzj9jCsh50bjMPzaObOvZZs0/jyCuoq6wzT9gibfkCt3NP3Ysad3ZPs0/YV6KT2e9yz89j2rKJHXNP9wjO/MuQM0/H6MiwOIMzz/AlYcMpHzOP04i8bTlbc8/LTwB2RMC0D9MAKH1LgXQP/5i0npMU9A/uCEBb0eLzz8tfyNmXAjQP0K/wF3WKtA/07BRGXyM0T/x7auX6WjSPzjHqSZDUdI/NdMoYtJ40j8mF47OJO7SP7iZ1+TkCdQ/0qyn97GC0T/cM4i6B4XSP11e92iVC9M//zlraElM0T9su3SsJnnRP6VnhvEAWtE/EV4W3T0J0j86+UQxQe7QP1MGchsuI9E/MnIXoFEc0T+msxB/2zDSPyQlDePho9I/GCqFdE5h0j+/JUhKuEHRP0zCMbGM+s8/KpFW1KFw0D9DcT+5xQjQP8drz7WSFcs/Zm8chIlYyz8llWK4o7THP61CHqdEK8k/eOQpYr72yj9jsHaeUVfKPzGIEe6GRMs/yY4Axz7ayj+LAxjwWuTJP2CgGq8nUck/fiICy7TUyT8HI/8sDiPKP95MOb5oI8o/e33DvxCvyD/LGxsoLSLJP2Y6O8uoJMk/5wesovINyT/gk0WdsAXKP1rr5o3s68k/SycD59jtyT+NhnsGkXrKP+DgEB4IgMo/Hn/LsMffyz+pLvSfH+bKP5mN4UFo8co/9UEqrmNLyj+o6P/b6wzJP18oYNmBmsg/gGLE66e3yT+C7KjvRCXJPwlGR9Wx1sg/vaomwlY1xj/NoEN8DW/GPxkRg5HDEcY/MBEdwk4Zxj82gKHylyXHP8JPIy+PK8g/GobHmrdkxz+lfcf0/D3GP9NKjL5MxcY/eQXAuBIsxz8tyGWi+sPGP42ocuh8PMY/UvG3YhJ8xj+BjG7hB1HGP3uAvoHescQ/BN7bgaEsxD/52WlE2xfEP4V3Ms6ZhsQ/ojE0Zv9sxD9R8/nZqznFPylbwbLEXMU/2vNXO/DxxD9HWDA41rvEP4vJ8eYEOsQ/BzTk+xY3xT9ctNMiUpXFP2rs0+QKj8U/njlIuIllxT/zbPctMUXFPw5GFb36isU/OH9O/dSNxT9nRVOh+GLGPzP8iO9DlsY/0Hmb22d1xz9aURGTo9PIP5tXtZx3KMk/Tz1foLdVyj8mHA75SPPJP13C1kIWpsk/pc4j0RstyT9XDfHn5AfIP16z9V3LAcQ/9v2lUI1WxD+v9E7vo9fDPwmAUCDiysQ/geVl9azGxD/AysSVsUrEP+vvs/cgaMU/b9mAUv4axT+B8q1Oq4HFP41KdvPC2cQ/UkKQMyoQxT+NLE9Y3fzEP5ehfnuOmMQ/tC0PiyqQxT8di77XnKnFP2kndm4GAcc/xq5jPkHPxj8JdMbzT7rFP30Uaxk1hcU/EWAczz6rxT9nhAFEGUDGPz/j1UzclsU/bxT6A5HyxD/7qkPP8y/FP/fr51GvqcQ/G3OD1RqUxD9ZOsUS+OPEP29UR/RH0cQ/OWldPHSBxD+psQQ/5FPDP7QnU0/BTMM/jOdh8m2axT8lqiOCAmfFP0FxGNtE7cU/CDyYRia9xT83yHmUIKfGPwCnzD/6+sU/NyFFqeHkxT+KSUve+OTFPy3f71Sg48U/15ojnOe1xT9VPE8CpS3GP+LNA4h9h8Y/aUKo1D/Nxj+OHQTACl/GPzl7gwxV7MU/R+pRJzsFxj/9YL+1w4zGP8BcpR1GE8Y/bgq54YQ8xj9dotS8o2fGP0EpK9HPIsY/U72/nuZ7xT+1U4kyCdLFPyl/USD9B8Y/M1EgShJ9xT8WGW9CgB7FP8ha5fb26MQ/juUEOUA3wz8BaGRaMOLBP5Fh678lQsI/lQL4ALf/wD90VDV0q27BPyZlhtJ8usE/5kA6lr01wj/zk9f1WA7CP+HB1Xiee8I/lPONB2Unwj9KS+DVJP7BP9KQwKRavcE/Ef5N2MGbwT/+HO/A7nbBPyg3FkIjw8E/iP5Py3nBwT9vj5n8fLTBP6GzcvSMAMI//o7g+/GjwT858aWNSWjBP4eAa1tGF8E/W8I4LBZUwT/8I49OAEDBPxqJUFPEAME/mT9vHUEIwT+YpZjElM2/P9e2H6SxLr0/YsYXqcitvz854h/0/8e+P6mad/F0uL4/Nd7hQHp/vj+Ycspc7oG/P96l07zqnL4/WRrmJFO4vj/FwrZqVRm+P9xDVj+kE74/JFAiNqRHvj+RuS55KYu+PySni6GkCcA/DV/PP9WRvz+HMAJGp9m+P+T7EPg7Ir8/tErU745Tvj+ERBT9j++/P9dPVEkhE8A/PNb0f+o3wD+738f9eyzBP6pePBtTFcE/u3lKj67PwD+syEQLQIrAP02NGDcdIsE/tl/Zu4cCwT+psLx5T1zBPyBNFg8fKsE/x0mJeyDAwz/smEvqg8jDP8rYwV13kMM/LXiJ8R1TxD9LpfBJ1N7EP6iEiQoJ38M/Jy2fJ6Djwz/EGS+xIDLEP4sWPv9hB8Q/Qq0zAeljwz8mkFNgpWfDP7H5o8XNMcM/UZInEcUAxD+RGAYzt1fEP50CZfdv/cQ/CfFBzzjVxD/lWPwJ7frFP8bK9vDmcMU/0tnmpvTbxT8dVu4oknLGP3i+v0CUmMY/engdr9uFxj92SqxlPU7IP3ZzsElKRck/5mR0gb+Byj/Af9rZjo7KP/XCwyIONMs/7zIY8gSayj/HK8H9oBHMP45a76ASls8/Q1+Bkx/ozz97kffwmOnQP0dXlxFugc8/zbk/Xijuzj+aKmgiPbPPP2Dg6SD5xtA/G8bKrizqzj+PoP1h5LLOP8T3o4r/m88/2Dg31mc4zz/sPfGBNErQPy4wzRVLkM8/ANJ86DR+zT8/3ETZwNvKP7RXraVy/Mo/L4YzG6r8yj+1GssSFCrKP1KnB8hUD8o/+ZH+lLhwyz85juV5LLfKP1ik8IxXuMo/neJW1RBJyz/H3nQkb/vMPxDAvL6eTsw/72Jh8Vnixz+KEe8C4AnIPxpjNsG75Mc/elZ2wgQxxz9iWkxdtr26P1CK7pt2tL8/wBTPNnpZvT8UykJ1wc29P6CxR6CcU7o/8QiyivAeuz9n9isqwFW7PztX2ouTQcA/yIB8myaYvz9Mu4mYHp2/PysZdDZmWr0/a/gv1VIOwD8jWbWjnYPAP6elgJ9zNcA/NeCKuG53wD+/FKJ+UeG/P1CD++N5Lb8/0b4qNETkvT8g+ex3WaK/P3lbqpRVzL8/GUI7c1kkwD8hO7kPLOfAP2YTbekQ6cA/XwdQYl5IwT9yEHXQZxXBP3C0x/4GIcQ/VARwUiCmwz/VLHTw1ovEP/lWWwXyU8Q/A31LllHawj/pmE6PVdTCP3FDoRB+LcM/rnzrH1aZwj/i6uXDdMHCP2Fyy98oPsI/+GwjLRV9xD/jI0fORm3EP4jqF22rPsY/BtgwjzmdxT8K1mZvV4HEPzOhGGbDjsQ/QIM3GDm7xT+la+vLOgXGP+aKVitxhcY/pWRKRrlExz8idFPFoXvHPySj19PNeMc/xJZmfBSdxz//oJNWU9LJP76wmNT3tMg/1Y5rgJF+yT9GuSnpRaDJP5XGH750Gsk/XdvA1WTGyD9TdHCPwJvIP+7e3L7sSMg/+6pJ6MZDyT8JWZBuK1nJP3SB+9PGLsk/yGcN9wVyxj+wJhHiKiDGP2fY4YK+h8Y/Yg1bqce0xz+iQIQfNSfIPykJoKL+R8c/jMJZ4Pzhxz/FuIvZdafIP5rXBsrjh8k/bHRpkCtnyT9AjAcp+QDJP1gYZ9XPycc/b4OyusenyD+x9SiVP9bIPxdeoyiTFcg/DuNpA29vyD8kvcm8UAfIP9qAQvxl28g/BQll/9Qpyj+2dTVAQ0PKP+UnhQ1+18w/31gCoRZ9yz8W4ODMC2XNP3y6rZpNO8w/YJcCMFwPzT81J0Y24xbNPzb8gHJCtcw/89Yr6N7KzD8KYVSMdS3NP5pb5q1FUM0/ZNIPc6olzT+Ftops2nLNP06s0Ys8k8s/Qqx+36dDzD80O/AbyW7MP2GLpjG53Ms/11XQHzJdyz9UWAV+6OXLP/yXM56fu8s/Kc6BomCfyz8uinSyLAjLP7AvHzNAScs/92ywt5VAyz9WkDwsNd3MP6fe6EY6Ds0/0zse5ToPzD/TvA4hErnLP3dckoM/Vcs/un2+g96Iyj9fMz7XmtHKPwXt3HxdKMs/LM3Mdhfvyj8b/8mzSIHLP5sc8QjYTMs/nxvmDdLSyj9IuTwiJ0PLPwv2+Z41GMs//c4qkAq+zD+aCycv3XPMP6/oJFY+W80/9H4Bj+rrzD+lQ1L4Ca7MP5mA2J6Ff8w/m8YOwvnQzD+KJrKH+4PMP4pLzRF5lsw/qBc32f9fzD/SFOOqSc7LP1f3mkfZs8s/L/XZkG8GzD/4ue768mHMP+pphzfUGsw/fjRygd8ozT8AdkZ2GzTPP/fvDWhyWNA/B3FZGmad0D+/TeMX0RfSP63GImvsbNI/7Z5hU8Ah0z+/ojfcw9fSP8dfSKIg79I/RskE9OPo0z+LkVl4+I/UP0l3Hzjm69Y//A9WuZYO1j/lawQ8lvzWPwhf0pcgM9c/uSgsf5bl1z9PJB1/nIDXP78/NOVEldY/xbos4sNx1z/6OIWkF0bXPwdfUje2jtc/IRwga4qi1j+EQ8wpoETXPw8WDGwxg9k/vGzVyg0H2j/eGG13d8nZP5xAo/4K0Nk/9yZwHTiP2T/dgosG7DXZP+gzicDSL9g/YBNks8rH2D8yfA8dtyfXP3ljYMHpjdc/6gYwUx1K1z9Nftz3a0nYP0lzi7Wj2dY/KZX57jD/1j8INK5Cy8TWPzid3t+Djtc/ibcGbynM1z+zAKbW633ZPxFV7te949k/Zc3GxB5j3D9O1oOKTy/aP/NJO8sX89Y/vW1ZFTsa1z+fh6wqJvPTP/s76DfoBtU/zN90JGr81D9ZvgGK0xbUP33a3vmY5NQ/NPXhDXHn1T9ufHfJ4kvWP+hRvfkcCtc/iSumUN/A1T9s5KrnFXPWP3q6bVy9tdU/C7p+JJDE1T9bpqBiFSbXP+0Hez8t39Y/WaEMVCbx1j81IZzuZBTWPxr06u6PVtQ/D5UZ8/N/1D+tA8YEsRvTP29SlCjfydQ/bxbxWfL01D8/ZAhmSifVP+OkDIEARdU/m060pkgi1T/fsBaMU2jVP9lNr2ATa9U/1DsTaIYE1T9MMLfuZJrUP1JkDzy1ntQ/1E9Gr/n61D8MhXGr9g/VP0jKulbIR9Q/ZqdXAOhW1D/GpBT2W9/UP9x93SsvwdU//4jdiBgT1j+Typrqr1LWP+/FOKZ2Etc/B69AWtSu1j826I2M1JTWPwTwbnW4ddY/jz6DPOnK1T8fkFST7fLVP1iEfHt6gdY/QGuljbWb1j+E5BBPNffVP8urpH9iVtc/fI160Cqf2D8UHjhNI2LYP81A5TQhi9g/Sdy9ZxMs2D9AbvmSQXDXP1Yq5hk/Ctg/Bduacngg1z8CZLVgNgPXP93rTd6lx9Y/P2/PThUB1z+KybB74ZXXP1wKVSfHzNY/zjOzO38Q1z+o7Jnn/O3XP4CcIsumo9g/pI8tMOsO2z9WYSjqY+3ZP4MU8Nkt/do/tpQ+fBxu2j8bmXm6JcLaP3zFWvZ1jNs/Vkwe76xu2z/1Yz0FLD7cP4EHh/CkYds/E6MaI9ih2j+QFozPc17bPz1qv8mDldw/clSKlCuI3D8JUBBdiBDcP7vQUO4jVd4/k9ABAkZZ4D8eYTfSoprgP18BHA5pGuI/Jx085LT34T/CRlFfv/rgPzWauFEa394/oNiApy/L3j8FvP2WiAPgPzpY5vxfIeE/mKyNzhFL4j+VBiRveHnhP2Wvjwl4zeE/J/kfr0hZ4j9PHtM+mfDgP5K9Ak8WwOE/aldZCo/o4T+3e6xb5JvhPzGfVYj0geA/9evkWwQQ4T8Einjs5qbgP5F54mQsPeA/vsL39Jrq4D/4N+9JSYvhP7POjUV4b+E/CBJQefGI4T++IBTBmu3iP/+zhtOJIOM/+wkyKoF74z8p9FM6rJ3jP79wig6r/eI/uEKIWswk4j/IVHYHfuPiP2FkpT/6XeE/zMXyRm0y4j+pS6pMLqPiP5+V2BT46uI/j7XW63pP5D96ir8wN7vlP1o70YPEw+U/fmFNr9pc5j+17YMXoPPlP+Jl9Bz9uuU/vPZpCmYL5z/kZSqhJQbtP+HmTe0j8+4/YXSE9TRd8D8Y8iSrGvXxPzbTK0bPO/I/8iETbys28j9Rwnv9yQ7zP/ivdF4Tx/I/29OvYKc38D/Gxk6GhgvvPxjG1vk/0vA/CsfNQUsg8j83gqE7wW7xP7w+csq9WfI/LSqDx+xM8j9Dp02yKLTyPzjlGx45ffQ/dsVFgC6Q9D/NryxOVa/wP4JyL9kRZfI/9WPfoApQ8j8h9Qncu7P0P3S7vVvVs/M/ChLtiSYw9D+eCCvbkqTyP2mEPE+Y0vM/JDGXCyGR9D//4D9Iunj0P0njWBPtj/M/zasIpshd9D9IXabZYor2P7zZwaJStfg/Aw3rmmm59z8Sll7QOJH5P58p32XT9fg/RP5R2IoD+D+RuI/aufv5P/iPmkRLTfo/b17D7K/y+T8mxTIlU4n6P7dTBqfQbPs/7yYpVsP8+j8JgyzKY9r6P8Xr0JwQevo/JA4KHO1++j9K9Xfckn/7P3aV7Hh70vw/W8ICvP0o/T9z11pQQY78P6MsuaVxy/w/nD3GVHOC+j/d5MRl4lv3P+JV/0WRMvg/u4gllv7z9T/f6pAnAIP1P2hcQD8WuPU/H9SZ6c4Q9T9A+RTQ80b3P1FPB+5fNPY/lJ3g+2Vx9z/Eaqa9JfD2P2M3hfs+z/Y/6pfKQNWd+D+tzFHjXqL5P5MBZaJIS/s/Vxi7cS7K+z/xJ6lC2sP6P5TG1ojJKvs/ywoMtshc+j+wueSS36H8PxabxefTlvs/qgvJVm2n+j8wWp0slOH6P1JHzL1UIPs/+1W257uF+j/2FpSKJQr7P4ngABcl9/o/obB2dSea+j/7nBmOMCn5P7Ua0Zvi+Pg/nvZ8LUa09z/B9x42r7v3P/UJQzAEVfk/Fpz9mgKJ+T8OTB/6RSn5P5Bw7a7+Efs/jtcVEVd2+z82NLSwyon8P2SOkesoav0/A/Avhibi/z9WMJWz8Cz+PwDN9XNXI/8/CWA20pFb/z+BbOGRhoP/PwFBtLaMUv0/XkCQZAQS/z95JO0zUNP+P8K6sZ5pxv8/zKaEHY4MAEC0pqxCZ9P/P1OAW+wNGgFA3DtLUN0cAkDA3mcn1rwCQIl0bqvZFgJAtTBiyRZxAUCM4gEd5qMAQItG9hHNHABARNPUwSBVAUAl2NBM5pYBQJ1XrQPA4AFAnDpcJK6UAUClaEAwUnMAQMSg0GguOgFAUdXEVxjaAkAUw39Lj84DQAh4oC+WbQRA0nRDD5OBBED1+ul1q6AEQKM0S15+6QVAGV5ozDr1BUDTzFzqYoUJQIjl+Et6MwhAYaV9Vv4zCkBoJiy1PvcJQOpm7huI6wlAvXW+XlIHDUCsgLaYNDkNQAfQ9VrbZQ1AQAN/F+8BD0C8MTN86igMQOzMaVtKogtAcWUSjTxXDkCL6ilrng8LQCKK27g8rwpAIHEs8kFqCEBYzfwoPiQJQMVBe/GPTQJAl7g/Gsi1BEAN/bGtUxQCQDINiHhsEwFArQW5BgRi/z/c6tO926kDQNnuaLbkIQRAqibMCpZ8BUCnoClXwFoEQDeSv2js/wFArYcEq5f0AEDRA8vujscBQCcbJbO6MQRAFmEBl62WA0DajvQS7yAEQCiqkZ2oPAVADAtuy8r+A0AMih6/E5EDQJQLFpUCMgRAxAxrElBEA0AOcBdupLkCQFeIYWmYZgNAv0cGyjNiAkCK2sx5/IEBQHu3dLufpQFAcwVBPmqoAkBwzn1UluACQMzTusutawNAlWU4vnGcAUDrLxSRtKQBQFTCE+2bmQBAlzfq9D00AEDjgM0/eLUAQO2aJOHdF/w/Vk20uXbk+z8PS+QfnJn9P7q1IS28lP0/h/79IF35+j+feR2MYTb7P6XH7ytScP0/LIlJmQ/w/j/nRErKehIAQDPCG6Ei6wBAQhqGxFhx/z/J4zRtGvz/Pzmu5+PojgBAyuBGs/dEAUBWvf4HfFoAQDIexVOYSgFA/5Vtzng4AUB8uK29zIn/P+0OBm9a7/8/aMiQDPZo/z9HK+z5ltT/P5TK5kyLTP4/9aweNITc/D+hLs3uG6v9P38ZT2Zsbvw/vyKpbCf5+z9SS9R4Yz/8P9riyW7sMvw/RE0uPOYI+z8X2p3cdpf6PxYIiq5Pnv0/YYOHq60g/j8oYFju45v/P+EZu3ynSABAIBkW/8FMAEDzgV46uJwAQIclD4FtGAFAgwJK3gUVAUB7RHjEwbUBQEMQ7FSGWQJAfeYs0mLdAkBmbyGJNg4DQJ72zOMvagNAiXwi9uicAkBAAqK+JkQEQOgiUye6BwVADYQyZduABUDZUM7j7nsHQCctKyqsagZAh28JjiaQB0CyqTfrU14HQMrpvkNGiQdAuqahCDGjBkDFBlsBErYIQKno8Dv5SQhAnz/o9MafCEDZD4Fni3oHQOgqu9rKbAZAn/HpFsd2BkDgIhJ9a6wHQJXM7uHlcghA1g3sxQb/B0DZObCfjR0IQJDHutpxsAhA4VdL9eiYB0Al9mURzfwHQM89Hm2PDwdAik7hVstTCECCRPrf6CEIQPDxc5zGAAhAf9r9VsX7B0AEw13+bIoJQO7XnHMuhgxATLVUvLQyDEC81Kgcnk8NQGcRl2ga6wxAcHdHKo1lDUCn2QLDUTgNQIyNl8NzfAlA6Ftben8DCkC9v+/PQH4JQETt9GRE4wdA76DIAS5TCEDthWCjfV0JQEqKFO4vcAhAUpYPrryBCUAPOPXyIOQKQAqpiEdekApA2vC3GGlHCUA2GJFMKYcJQC34An3ZwwhAS/Y+fnACBkDXHK5+9Y8EQB/M+BbM5AZAZSeb1qp4B0A8hxvLaM4FQJ5vW4XJwgVAIwpbVxbHBkDtwie1HNMFQL0+RRKV4QRAY27V4+E4BUCP489buFMGQHY+3WEWmghA0K1CoGA6CUAvXKqjJm0JQEaqZXFHJAlARFOadN8rCkCJ/vKxA6IKQN0qGDkhsApA296X4wSCCkCa2QjOyZgKQMpyQMxrewlAdUY65fheCkDJ+OTtd/oJQPKLPDjW0gpA5wCvLDspDECLziBRIbsMQN5T5iS3fQxAeYeuy46dDECZAEMQS+ILQILIgzO51wxAbnBG3LvpDkBQ1SwzIygOQCuhMirrhw1An7OGK5MHD0D6ws6NFGgOQPM/Nb6SXw9AtX4Is1a6DkA1V48x5TsNQBWyKH3N4w9ACwC0QTlrEEDk+P50ZRYQQPhCaLU95Q9ASaeaAmwVEEDh1ULTIA0RQEbIlUJzIhFAEpkzou3fEEAfVW5tS68QQJA59Xvw0BBAcjlcwSsvEUDPy/HZhuURQGzTSckynBFAs4qBywo+EUAIref+vJcRQO6/liiAWxFAC4/VjJhMEUDd2BdwsjQRQFwDsx0k8xBA8B/Y07FcD0DIt8N+U+QPQLTwDtjvwQ1AqqaCsbn4D0AiUjiSo2YQQLw0V+VQwg9AbMVa8iJpDkBinBQVySQQQL87YP2piQ9AuSnOPNvLD0C6xJyyjfsNQLBz0yw8eQ5Ae16hdmPxD0CkzeejIIgQQDFu2mKSORFA/fM28jYPEUBnso8vJ8cQQMXlXtf1ZA9AUlRZq2mkDkBk6yCvVjoPQAr2nt/lNRBAOg8wllAMEECcecnhp4IQQHmvQxDZpA5AK+OyRnUSDUDNlTJ0gmEOQD9jMT64wA5Af1xQ5dMlDEBt4tnA+NsLQFlWOHa24w1AB5zEujt5DUDPE08LONsMQFewOBcrdg1A1vqv2EwtDUD4CBvSuUINQAtgKq5G5w1AKWWNrpyeDUAvk2/KYI4OQOFwkrkQHA5A0BJCIFJyDkBDRhTp5kAOQMgCkdcxCA5AgPe7LJBFDEBJ6LduW/0KQFYgwmjSnwtAcLZzAmBkC0Di4sUUKQoMQKy0jdAofAxABjeS+VL6C0CeJa6hizgMQJWRGk6OaApA24BszD5tCUB7iqX0bcAHQHLU1LSn/wZAmaAQ0Oh8B0BoLIyKwe4GQHsHVdjtFQhAoH8bK14VCUBFUXnQTikIQFJdyenRnghAEq45TenFCEBN/XVUvewIQJ2twurJ5AdA1f4qCduIB0ApnC0O/gYHQKxoVPGnUgZAR6Nqdb8GA0BFgMZi4uMBQM5Scwso2wJAPvwCN9smAkClYtFSh0QCQM5fh1yPWwJAZc4+HNEFAkC+HWh+G/ICQAV6/1pNUQNAFJHjTHRdA0DH8Imd8/4DQIPxmZGtxARAO/d2MZ/0A0BqhZm/l+0DQD2KVg5FMQZACZehdGpsBkAs/lW0970GQAKOrevPXwdAdvD5yf05B0Cm2c+2fRgIQHSScQ0Q5AZAuVsTrT/GBUAu8q3fKrMFQCnQ8/idcgVALQJsBdvRBUBQ9ddpCqcHQIzgNhPvQwdAPhF8FNhuBUDa6MXQgrgEQCRd+qaRjgRAhenxrWeNA0D23Syq/iQDQJpKIKavoQNAIdvMFH9EA0DGaFxBLFMDQFlcd24okARARR2ky7ivBECGKkkjXoADQJO4mwartgVAmOf+RSEcBkCmzn41ivEFQGfFEL9SFQVAQRa9eoV3A0C8nheSTdIDQHj1npU8AQNAIexrJjGUAkBvR+ygkyoDQNjcPdP7TQRAtpqa5S1mA0D05oGw2gkDQIselefHJgNAzJpAfYK8AkCRbwkUI0UDQBWNhMo4fQNAUEOINHqeBED1X7BK+e8EQCMpFVty6AVAxpW+7i/qBUAszakr0EYFQFhowLFAjgVA7UEfLVwdBkCGeTEtrosGQOcVOsNKHgdA6RZk4KQbB0Cx9dUrKWEHQBnn8d+8ewhAQUVxsYjRCEAYoQ9d+k0JQFMz5FjuLQlATd/b9tFoCEBAdfWKjKgJQIVHn2L+nwlAu0im2hY0CkAfvT6qDjEKQIwYWdelYAlAllfGVXSXB0BH00kAuAwIQHQ3vfVDvgdAN8g54kFDCEA/1FZp9OMHQCvGH3xxLAZAf/Gkfl2KBkDsHY4G3zEHQNu99CNvdgZAth7nbm+eBkBftz49LMcGQCLsBz/2QwZAqI0RYDe+BkCWikuMwhYHQOWsk5WQ5AZAWgcsKa84BkD47odskA0GQEMqbnGu2gVA7NC5hGS9BUAj5Oj7aGIGQPGJgl994wRATn1hoAZ9BUCpGoGYctgFQLN/iJVl8QRAGfZgbsBOBEANEDVsiggFQPu7Y/YBQQVAxpqAajm0BECM9SwcgN8FQK4WQjD7cgRANzyGG7YLBEBr28WtlJsDQOzIs8iuuQJAGDnd6bCzAECNpSYddG4BQFQl/vZP0/4/HCZu9tcu/T+BLQhqm/f9P4X47BsCl/4/FT0pipnr/z8JJlzwPhf+P+fXN9cBGf8/ij9Qg0uD/D+mzh8whwb+P1cz6MRfLf0/vz4Mg6df/T/qgOLDGmX+P2Lcr6TBVv0/+IL1GKhw/T/5a4M0le78P0HbMFvu1fo/zVgKmBup+T/rx4n42ib6P9cPupTY9Po//lJECSWz/T+l4x77D+X8P04Np7rJIPs/NVB6thVJ+z+uuNpQHmj6P9mAdkMozfo/4cVLnNna+j9wnjbR0qj7P4AJ5lqH/Po/96OKd4yu+j81CjkkSKD6P/vj7r8Pxfg/qS0S7X3B9j+PrN9+43/1P4/WyaR46/E/3/ibRm8G8j+FggvqeljyP0qlefSUxO8/qX+wKNgp8D8AOmcUO5DtPx2hDluCxvA/0VRgq3TG8D+83/5rubvwP0nwUMRcSO8/yU6NVmoC8T84ikipQEDyP0ssD716f/I/CLLanmDZ8T+yscXH88HxP36mn/T0BvE/6ryCUylZ8D/CEnjVSsHvP3zLcl3th+8/57AlNk677z868xLljvLvP5DrPGmiH/E/tJMUVbrg8D8CsNwzaajxPz9ki+0vafI//3UZ5bov8j/TfoN8rRryP7pmGEquYfE/PU381qhS8D+ypAt9l+PuP/gNtaLtkPA/9TBlW7+58T8hH5GUL1jyP9jUlPdFH/Q/JiDY4/3p8z/1ZYHuTnz3PxynhRAw9PY/YtP5UXSd9j8BOIThz3T3Pw7L5Jj53vY/o7CC4EMM9z8wuvJyXcv3P+/F+S6GgPU/qTsHKudy9T/HZME5WFf4P14AMTcvq/k/IZs3d5Gy+T8/6/vf1zr5Pxnax+/NA/k/zk/XWGVT+D92MJFh00r4PyojJh09Ffg/pKKizJvs9z8B3GGgB8X5PzVzbYdsKvk/50QRerhH+T9AbdTZyGn6P+7n+pW2Vfk/5LPr9xSM+z9piE+HW/z7P0I/dorgHf0/e6Wa3Z55/T9G5QB6BND8P9wObAP3U/w/L+qGH5zw+z8r35Sts0T7P5HTEcYMevs/NtfMdNH+9z90D9fHx3X3Px4+u27uFvg/AuQ3cxEj+D+OFaNcaLz4P3Q/RMuopvg/eedXNLM8+T9j/dOyKW72P8lFvJrAL/Y/0Lq39AVI9T/CYY4Dghr3Pwl7L1JPq/Y/jZDgXfkc9z8alcbatpj3P2BxZAabdvc/TLOhNx0p9z81YtGcNXj3P5T4xTfMDvg/UQyg3q479z8U6lx8QD/4P3ogh2X5U/g/ZFUkfuCS+T+PCEI9Z2z6P+nEXoyMNfo/+WAIpJ1++T9fnVQeMYT3P1wnQ5m3Ufg/cTsp17jk9T80Y7S3Qk/1P1jQp/lJ3fU/UrNvH2bd8z8C3dJyKH70P3Ad+2m7s/M/dl7IB16i8j82wF/mRMDzP1Zqwrl5wvM/bp9AymCb8z8lNks01EDzPyRUXG9d3fM/bYmDEZfJ8z+UvxK8U+XzP7wMf0Oh3vM/5vSs4WfB8z/r94AIM4PzP7n22CHP+/I/vsQnOR6w8z+FpYP9c0P0P8vMQmETIPQ/VgYO9ccb9D8Zqf53sNLzPwT97nfikfM/G8hPMPCs8z/EopU23TXzP//cfwkSCfM/Q8owf3RD8z/JX2cDoCnzPyQYRDEJTfM/7Aq/8yf38j8caeZI1W7zPwS4DEKhz/M/MbLCp6N+8z+WnMwDkCDzP1K0OmzgFvM/jEYEOKZW8z+vxUBIT43zPwgmyFR7SPQ/Y5TONjkC9D9Vg1wYiL71P/650zoITvc/QCVshkSH9j+YxBZmzSP3Pz9I+29gGPg/980H+EGq9z8FxsX5cWX3P7OzkeUQgPc/Elx7rpeb9j9op5Elpcj2P4lopN4Wefg/g000tt43+D8DrUlDnmP3P66YASW+Vfc/mxNRFufT8z9smXuN1F3wPy+1mHvQVPM/JV0Gzy8m8z8Xl3jff6zyP2tYARodLfI/OS/dRHZ48j+06OZKDJ/yP/lJyjtwFfI/wCOTEBnd8T/4zC/A3AjyP62ncasxIPI/hgtbWun+8D+PXK+v/nzwPz36hO0i4/A/Gf62Ygma8T8Nd+oPMOnxPyq6RY/t1fE/ZOr73Xrw8T+l4kzSdcfxPwYqzKMYaPE/hRr4Y2Ia8j8hiWEeb0bzPzFewwd//PI/XXc/lShB8z8HyYt8DX/yPwsRQeGpC/M/rykg1Um98j8817G05uryP6MSvEONVfI/aDLbEvAO8z8pXftf1s7yP60o1h/V1vI/WVo6jEDN8j+hrX2ZMfbyP2LZ5qMcpfM/H0l/ZWF68z8tmBKct9byP4TySKQjYfE/NMYMR+Os8T+uL2EGz5/xP+vKfmKqXvE/Mg8upnAd8j/pmRnczw3yP7Ms/ytDH/I/1LkP6com8j+Z/nVBjyryPxt0UYg7IvI/tawDDb9A8j9COwTFuwryP7zZ58vhs/E/+VEJFxjg8T/TT8jAGNfxP1E69uW4zfE/O+QQZrHd8T8IZqIE1hHyP/gj5CVNEvI/cXwko0qx8j8blOw0G5ryP80REPA84vI/M5LmVMjO8j9FX13EtibzP+SbopThqPM/nh35ky/i8z8MW8peu6X0P3YkCxUBGPU/8h2sc0GY9T9ZaRH6oRH3P3xoUyJiGPc/pAKrwiF19z+R0UCV51L3P4PbbjuUi/Y/yMzeOq0Y9z9I+ZYy7LD4P7mHaSiiNPg/aFiOZXI5+D/YurCy8jj4Pw==\",\"dtype\":\"float64\",\"order\":\"little\",\"shape\":[1814]},\"timestamp\":{\"__ndarray__\":\"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\",\"dtype\":\"float64\",\"order\":\"little\",\"shape\":[1814]}},\"selected\":{\"id\":\"2865\"},\"selection_policy\":{\"id\":\"2881\"}},\"id\":\"2864\",\"type\":\"ColumnDataSource\"},{\"attributes\":{\"line_color\":\"#fc4f30\",\"line_width\":2,\"x\":{\"field\":\"timestamp\"},\"y\":{\"field\":\"change\"}},\"id\":\"2867\",\"type\":\"Line\"},{\"attributes\":{},\"id\":\"2829\",\"type\":\"BasicTickFormatter\"},{\"attributes\":{},\"id\":\"2811\",\"type\":\"SaveTool\"},{\"attributes\":{\"base\":60,\"mantissas\":[1,2,5,10,15,20,30],\"max_interval\":1800000.0,\"min_interval\":1000.0,\"num_minor_ticks\":0},\"id\":\"2850\",\"type\":\"AdaptiveTicker\"},{\"attributes\":{\"label\":{\"value\":\"CC\"},\"renderers\":[{\"id\":\"2870\"}]},\"id\":\"2896\",\"type\":\"LegendItem\"},{\"attributes\":{\"base\":24,\"mantissas\":[1,2,4,6,8,12],\"max_interval\":43200000.0,\"min_interval\":3600000.0,\"num_minor_ticks\":0},\"id\":\"2851\",\"type\":\"AdaptiveTicker\"},{\"attributes\":{\"days\":[1,2,3,4,5,6,7,8,9,10,11,12,13,14,15,16,17,18,19,20,21,22,23,24,25,26,27,28,29,30,31]},\"id\":\"2852\",\"type\":\"DaysTicker\"},{\"attributes\":{\"line_alpha\":0.2,\"line_color\":\"#fc4f30\",\"line_width\":2,\"x\":{\"field\":\"timestamp\"},\"y\":{\"field\":\"change\"}},\"id\":\"2869\",\"type\":\"Line\"},{\"attributes\":{\"overlay\":{\"id\":\"2816\"}},\"id\":\"2814\",\"type\":\"BoxZoomTool\"},{\"attributes\":{\"months\":[0,1,2,3,4,5,6,7,8,9,10,11]},\"id\":\"2856\",\"type\":\"MonthsTicker\"},{\"attributes\":{},\"id\":\"2815\",\"type\":\"ResetTool\"},{\"attributes\":{\"source\":{\"id\":\"2864\"}},\"id\":\"2871\",\"type\":\"CDSView\"},{\"attributes\":{\"months\":[0,2,4,6,8,10]},\"id\":\"2857\",\"type\":\"MonthsTicker\"},{\"attributes\":{\"days\":[1,4,7,10,13,16,19,22,25,28]},\"id\":\"2853\",\"type\":\"DaysTicker\"},{\"attributes\":{\"bottom_units\":\"screen\",\"coordinates\":null,\"fill_alpha\":0.5,\"fill_color\":\"lightgrey\",\"group\":null,\"left_units\":\"screen\",\"level\":\"overlay\",\"line_alpha\":1.0,\"line_color\":\"black\",\"line_dash\":[4,4],\"line_width\":2,\"right_units\":\"screen\",\"syncable\":false,\"top_units\":\"screen\"},\"id\":\"2816\",\"type\":\"BoxAnnotation\"},{\"attributes\":{\"margin\":[5,5,5,5],\"name\":\"HSpacer02229\",\"sizing_mode\":\"stretch_width\"},\"id\":\"2922\",\"type\":\"Spacer\"},{\"attributes\":{},\"id\":\"2881\",\"type\":\"UnionRenderers\"},{\"attributes\":{\"days\":[1,15]},\"id\":\"2855\",\"type\":\"DaysTicker\"},{\"attributes\":{\"margin\":[5,5,5,5],\"name\":\"HSpacer02228\",\"sizing_mode\":\"stretch_width\"},\"id\":\"2789\",\"type\":\"Spacer\"},{\"attributes\":{},\"id\":\"2830\",\"type\":\"AllLabels\"},{\"attributes\":{},\"id\":\"2826\",\"type\":\"DatetimeTickFormatter\"},{\"attributes\":{\"days\":[1,8,15,22]},\"id\":\"2854\",\"type\":\"DaysTicker\"},{\"attributes\":{\"months\":[0,6]},\"id\":\"2859\",\"type\":\"MonthsTicker\"},{\"attributes\":{},\"id\":\"2860\",\"type\":\"YearsTicker\"},{\"attributes\":{\"months\":[0,4,8]},\"id\":\"2858\",\"type\":\"MonthsTicker\"},{\"attributes\":{\"callback\":null,\"formatters\":{\"@{timestamp}\":\"datetime\"},\"renderers\":[{\"id\":\"2837\"}],\"tags\":[\"hv_created\"],\"tooltips\":[[\"timestamp\",\"@{timestamp}{%F %T}\"],[\"0\",\"@{A_0}\"]]},\"id\":\"2792\",\"type\":\"HoverTool\"},{\"attributes\":{\"callback\":null,\"formatters\":{\"@{timestamp}\":\"datetime\"},\"renderers\":[{\"id\":\"2870\"}],\"tags\":[\"hv_created\"],\"tooltips\":[[\"timestamp\",\"@{timestamp}{%F %T}\"],[\"change\",\"@{change}\"]]},\"id\":\"2793\",\"type\":\"HoverTool\"},{\"attributes\":{\"coordinates\":null,\"data_source\":{\"id\":\"2864\"},\"glyph\":{\"id\":\"2867\"},\"group\":null,\"hover_glyph\":null,\"muted_glyph\":{\"id\":\"2869\"},\"nonselection_glyph\":{\"id\":\"2868\"},\"selection_glyph\":{\"id\":\"2897\"},\"view\":{\"id\":\"2871\"}},\"id\":\"2870\",\"type\":\"GlyphRenderer\"},{\"attributes\":{\"below\":[{\"id\":\"2803\"}],\"center\":[{\"id\":\"2806\"},{\"id\":\"2810\"},{\"id\":\"2861\"}],\"height\":300,\"left\":[{\"id\":\"2807\"}],\"margin\":[5,5,5,5],\"min_border_bottom\":10,\"min_border_left\":10,\"min_border_right\":10,\"min_border_top\":10,\"renderers\":[{\"id\":\"2837\"},{\"id\":\"2870\"}],\"sizing_mode\":\"fixed\",\"title\":{\"id\":\"2795\"},\"toolbar\":{\"id\":\"2817\"},\"width\":700,\"x_range\":{\"id\":\"2790\"},\"x_scale\":{\"id\":\"2799\"},\"y_range\":{\"id\":\"2791\"},\"y_scale\":{\"id\":\"2801\"}},\"id\":\"2794\",\"subtype\":\"Figure\",\"type\":\"Plot\"},{\"attributes\":{\"end\":1674432000000.0,\"reset_end\":1674432000000.0,\"reset_start\":1517529600000.0,\"start\":1517529600000.0,\"tags\":[[[\"timestamp\",\"timestamp\",null]]]},\"id\":\"2790\",\"type\":\"Range1d\"},{\"attributes\":{},\"id\":\"2846\",\"type\":\"UnionRenderers\"},{\"attributes\":{\"end\":30.427211460537606,\"reset_end\":30.427211460537606,\"reset_start\":-2.6805964445800585,\"start\":-2.6805964445800585,\"tags\":[[[\"0\",\"0\",null]]]},\"id\":\"2791\",\"type\":\"Range1d\"},{\"attributes\":{\"coordinates\":null,\"group\":null,\"text_color\":\"black\",\"text_font_size\":\"12pt\"},\"id\":\"2795\",\"type\":\"Title\"},{\"attributes\":{\"children\":[{\"id\":\"2789\"},{\"id\":\"2794\"},{\"id\":\"2922\"}],\"margin\":[0,0,0,0],\"name\":\"Row02224\",\"tags\":[\"embedded\"]},\"id\":\"2788\",\"type\":\"Row\"},{\"attributes\":{\"label\":{\"value\":\"FG_strat\"},\"renderers\":[{\"id\":\"2837\"}]},\"id\":\"2862\",\"type\":\"LegendItem\"},{\"attributes\":{},\"id\":\"2801\",\"type\":\"LinearScale\"},{\"attributes\":{\"tools\":[{\"id\":\"2792\"},{\"id\":\"2793\"},{\"id\":\"2811\"},{\"id\":\"2812\"},{\"id\":\"2813\"},{\"id\":\"2814\"},{\"id\":\"2815\"}]},\"id\":\"2817\",\"type\":\"Toolbar\"},{\"attributes\":{\"source\":{\"id\":\"2831\"}},\"id\":\"2838\",\"type\":\"CDSView\"},{\"attributes\":{\"axis_label\":\"\",\"coordinates\":null,\"formatter\":{\"id\":\"2829\"},\"group\":null,\"major_label_policy\":{\"id\":\"2830\"},\"ticker\":{\"id\":\"2808\"}},\"id\":\"2807\",\"type\":\"LinearAxis\"},{\"attributes\":{\"line_color\":\"#30a2da\",\"line_width\":2,\"x\":{\"field\":\"timestamp\"},\"y\":{\"field\":\"0\"}},\"id\":\"2863\",\"type\":\"Line\"},{\"attributes\":{\"axis_label\":\"timestamp\",\"coordinates\":null,\"formatter\":{\"id\":\"2826\"},\"group\":null,\"major_label_policy\":{\"id\":\"2827\"},\"ticker\":{\"id\":\"2804\"}},\"id\":\"2803\",\"type\":\"DatetimeAxis\"},{\"attributes\":{\"line_alpha\":0.2,\"line_color\":\"#30a2da\",\"line_width\":2,\"x\":{\"field\":\"timestamp\"},\"y\":{\"field\":\"0\"}},\"id\":\"2836\",\"type\":\"Line\"},{\"attributes\":{},\"id\":\"2832\",\"type\":\"Selection\"},{\"attributes\":{\"num_minor_ticks\":5,\"tickers\":[{\"id\":\"2849\"},{\"id\":\"2850\"},{\"id\":\"2851\"},{\"id\":\"2852\"},{\"id\":\"2853\"},{\"id\":\"2854\"},{\"id\":\"2855\"},{\"id\":\"2856\"},{\"id\":\"2857\"},{\"id\":\"2858\"},{\"id\":\"2859\"},{\"id\":\"2860\"}]},\"id\":\"2804\",\"type\":\"DatetimeTicker\"},{\"attributes\":{\"click_policy\":\"mute\",\"coordinates\":null,\"group\":null,\"items\":[{\"id\":\"2862\"},{\"id\":\"2896\"}]},\"id\":\"2861\",\"type\":\"Legend\"},{\"attributes\":{},\"id\":\"2799\",\"type\":\"LinearScale\"},{\"attributes\":{\"axis\":{\"id\":\"2803\"},\"coordinates\":null,\"grid_line_color\":null,\"group\":null,\"ticker\":null},\"id\":\"2806\",\"type\":\"Grid\"},{\"attributes\":{},\"id\":\"2865\",\"type\":\"Selection\"},{\"attributes\":{},\"id\":\"2812\",\"type\":\"PanTool\"},{\"attributes\":{\"line_alpha\":0.1,\"line_color\":\"#30a2da\",\"line_width\":2,\"x\":{\"field\":\"timestamp\"},\"y\":{\"field\":\"0\"}},\"id\":\"2835\",\"type\":\"Line\"},{\"attributes\":{\"coordinates\":null,\"data_source\":{\"id\":\"2831\"},\"glyph\":{\"id\":\"2834\"},\"group\":null,\"hover_glyph\":null,\"muted_glyph\":{\"id\":\"2836\"},\"nonselection_glyph\":{\"id\":\"2835\"},\"selection_glyph\":{\"id\":\"2863\"},\"view\":{\"id\":\"2838\"}},\"id\":\"2837\",\"type\":\"GlyphRenderer\"},{\"attributes\":{\"line_color\":\"#30a2da\",\"line_width\":2,\"x\":{\"field\":\"timestamp\"},\"y\":{\"field\":\"0\"}},\"id\":\"2834\",\"type\":\"Line\"},{\"attributes\":{\"axis\":{\"id\":\"2807\"},\"coordinates\":null,\"dimension\":1,\"grid_line_color\":null,\"group\":null,\"ticker\":null},\"id\":\"2810\",\"type\":\"Grid\"}],\"root_ids\":[\"2788\"]},\"title\":\"Bokeh Application\",\"version\":\"2.4.3\"}};\n",
       "    var render_items = [{\"docid\":\"c8ae34db-179c-48f7-ad49-de38008c66d1\",\"root_ids\":[\"2788\"],\"roots\":{\"2788\":\"794b44d7-5db9-4987-bdd1-81ba191a4e6b\"}}];\n",
       "    root.Bokeh.embed.embed_items_notebook(docs_json, render_items);\n",
       "    for (const render_item of render_items) {\n",
       "      for (const root_id of render_item.root_ids) {\n",
       "\tconst id_el = document.getElementById(root_id)\n",
       "\tif (id_el.children.length && (id_el.children[0].className === 'bk-root')) {\n",
       "\t  const root_el = id_el.children[0]\n",
       "\t  root_el.id = root_el.id + '-rendered'\n",
       "\t}\n",
       "      }\n",
       "    }\n",
       "  }\n",
       "  if (root.Bokeh !== undefined && root.Bokeh.Panel !== undefined) {\n",
       "    embed_document(root);\n",
       "  } else {\n",
       "    var attempts = 0;\n",
       "    var timer = setInterval(function(root) {\n",
       "      if (root.Bokeh !== undefined && root.Bokeh.Panel !== undefined) {\n",
       "        clearInterval(timer);\n",
       "        embed_document(root);\n",
       "      } else if (document.readyState == \"complete\") {\n",
       "        attempts++;\n",
       "        if (attempts > 200) {\n",
       "          clearInterval(timer);\n",
       "          console.log(\"Bokeh: ERROR: Unable to run BokehJS code because BokehJS library is missing\");\n",
       "        }\n",
       "      }\n",
       "    }, 25, root)\n",
       "  }\n",
       "})(window);</script>"
      ],
      "text/plain": [
       ":Overlay\n",
       "   .Curve.FG_strat :Curve   [timestamp]   (0)\n",
       "   .Curve.CC       :Curve   [timestamp]   (change)"
      ]
     },
     "execution_count": 74,
     "metadata": {
      "application/vnd.holoviews_exec.v0+json": {
       "id": "2788"
      }
     },
     "output_type": "execute_result"
    }
   ],
   "source": [
    "# plot to compare\n",
    "fg_strat_plt = (strategy_returns +1).cumprod().hvplot(label = 'FG_strat')\n",
    "cc_returns_plt = (combined_df_.change +1).cumprod().hvplot(label = 'CC')\n",
    "fg_strat_plt * cc_returns_plt\n"
   ]
  },
  {
   "cell_type": "code",
   "execution_count": 75,
   "metadata": {},
   "outputs": [
    {
     "name": "stdout",
     "output_type": "stream",
     "text": [
      "Fear and Greed strategy returns:  18.04\n",
      "CC returns:  1.51\n"
     ]
    }
   ],
   "source": [
    "# returns\n",
    "fg_return = (strategy_returns + 1).cumprod()\n",
    "cc_return = (combined_df_.change + 1).cumprod()\n",
    "fg_final = fg_return[-1]\n",
    "cc_final = cc_return[-1]\n",
    "print(f'Fear and Greed strategy returns:  {round(fg_final, 2)}')\n",
    "print(f'CC returns:  {round(cc_final, 2)}')"
   ]
  },
  {
   "cell_type": "code",
   "execution_count": 76,
   "metadata": {},
   "outputs": [
    {
     "name": "stdout",
     "output_type": "stream",
     "text": [
      "Buying $1000 and holding: $1513.9\n",
      "$1000 with fear and greed strategy: $18044.85\n"
     ]
    }
   ],
   "source": [
    "initial_investment = 1000\n",
    "\n",
    "fg_inv_returns  = initial_investment * fg_final\n",
    "cc_inv_returns = initial_investment * cc_final\n",
    "\n",
    "print(f\"Buying ${initial_investment} and holding: ${round(cc_inv_returns, 2)}\")\n",
    "print(f\"${initial_investment} with fear and greed strategy: ${round(fg_inv_returns, 2)}\")"
   ]
  },
  {
   "attachments": {},
   "cell_type": "markdown",
   "metadata": {},
   "source": [
    "**Machine Learning:**"
   ]
  },
  {
   "cell_type": "code",
   "execution_count": 77,
   "metadata": {},
   "outputs": [],
   "source": [
    "import pandas_ta as pa\n",
    "from pandas.tseries.offsets import DateOffset\n",
    "from sklearn.preprocessing import StandardScaler\n",
    "from sklearn.model_selection import train_test_split\n",
    "from xgboost import XGBClassifier\n",
    "from sklearn.metrics import accuracy_score"
   ]
  },
  {
   "cell_type": "code",
   "execution_count": 78,
   "metadata": {},
   "outputs": [
    {
     "data": {
      "text/html": [
       "<div>\n",
       "<style scoped>\n",
       "    .dataframe tbody tr th:only-of-type {\n",
       "        vertical-align: middle;\n",
       "    }\n",
       "\n",
       "    .dataframe tbody tr th {\n",
       "        vertical-align: top;\n",
       "    }\n",
       "\n",
       "    .dataframe thead th {\n",
       "        text-align: right;\n",
       "    }\n",
       "</style>\n",
       "<table border=\"1\" class=\"dataframe\">\n",
       "  <thead>\n",
       "    <tr style=\"text-align: right;\">\n",
       "      <th></th>\n",
       "      <th>value</th>\n",
       "      <th>RSI</th>\n",
       "      <th>Signal</th>\n",
       "    </tr>\n",
       "    <tr>\n",
       "      <th>timestamp</th>\n",
       "      <th></th>\n",
       "      <th></th>\n",
       "      <th></th>\n",
       "    </tr>\n",
       "  </thead>\n",
       "  <tbody>\n",
       "    <tr>\n",
       "      <th>2023-01-19 00:00:00+00:00</th>\n",
       "      <td>45.0</td>\n",
       "      <td>73.405640</td>\n",
       "      <td>1</td>\n",
       "    </tr>\n",
       "    <tr>\n",
       "      <th>2023-01-20 00:00:00+00:00</th>\n",
       "      <td>51.0</td>\n",
       "      <td>79.049592</td>\n",
       "      <td>1</td>\n",
       "    </tr>\n",
       "    <tr>\n",
       "      <th>2023-01-21 00:00:00+00:00</th>\n",
       "      <td>53.0</td>\n",
       "      <td>73.952890</td>\n",
       "      <td>1</td>\n",
       "    </tr>\n",
       "    <tr>\n",
       "      <th>2023-01-22 00:00:00+00:00</th>\n",
       "      <td>53.0</td>\n",
       "      <td>74.022080</td>\n",
       "      <td>1</td>\n",
       "    </tr>\n",
       "    <tr>\n",
       "      <th>2023-01-23 00:00:00+00:00</th>\n",
       "      <td>50.0</td>\n",
       "      <td>74.000351</td>\n",
       "      <td>1</td>\n",
       "    </tr>\n",
       "  </tbody>\n",
       "</table>\n",
       "</div>"
      ],
      "text/plain": [
       "                           value        RSI  Signal\n",
       "timestamp                                          \n",
       "2023-01-19 00:00:00+00:00   45.0  73.405640       1\n",
       "2023-01-20 00:00:00+00:00   51.0  79.049592       1\n",
       "2023-01-21 00:00:00+00:00   53.0  73.952890       1\n",
       "2023-01-22 00:00:00+00:00   53.0  74.022080       1\n",
       "2023-01-23 00:00:00+00:00   50.0  74.000351       1"
      ]
     },
     "execution_count": 78,
     "metadata": {},
     "output_type": "execute_result"
    }
   ],
   "source": [
    "# copy and clean dataframe\n",
    "combined_ml = combined_df_.copy()\n",
    "combined_ml['RSI'] = pa.rsi(combined_ml.Close, length=16)\n",
    "combined_ml['Signal'] = combined_ml['position']\n",
    "combined_ml = combined_ml.drop([\"Close\", \"change\", \"position\"],axis=1)\n",
    "combined_ml = combined_ml.dropna()\n",
    "combined_ml.tail()"
   ]
  },
  {
   "cell_type": "code",
   "execution_count": 79,
   "metadata": {},
   "outputs": [],
   "source": [
    "# Dataframe\n",
    "model_df = pd.DataFrame(combined_ml)\n",
    "model_df = model_df.dropna()"
   ]
  },
  {
   "cell_type": "code",
   "execution_count": 80,
   "metadata": {},
   "outputs": [
    {
     "data": {
      "text/html": [
       "<div>\n",
       "<style scoped>\n",
       "    .dataframe tbody tr th:only-of-type {\n",
       "        vertical-align: middle;\n",
       "    }\n",
       "\n",
       "    .dataframe tbody tr th {\n",
       "        vertical-align: top;\n",
       "    }\n",
       "\n",
       "    .dataframe thead th {\n",
       "        text-align: right;\n",
       "    }\n",
       "</style>\n",
       "<table border=\"1\" class=\"dataframe\">\n",
       "  <thead>\n",
       "    <tr style=\"text-align: right;\">\n",
       "      <th></th>\n",
       "      <th>RSI</th>\n",
       "      <th>value</th>\n",
       "    </tr>\n",
       "    <tr>\n",
       "      <th>timestamp</th>\n",
       "      <th></th>\n",
       "      <th></th>\n",
       "    </tr>\n",
       "  </thead>\n",
       "  <tbody>\n",
       "    <tr>\n",
       "      <th>2018-02-19 00:00:00+00:00</th>\n",
       "      <td>53.324972</td>\n",
       "      <td>63.0</td>\n",
       "    </tr>\n",
       "    <tr>\n",
       "      <th>2018-02-20 00:00:00+00:00</th>\n",
       "      <td>55.183005</td>\n",
       "      <td>67.0</td>\n",
       "    </tr>\n",
       "    <tr>\n",
       "      <th>2018-02-21 00:00:00+00:00</th>\n",
       "      <td>50.018759</td>\n",
       "      <td>74.0</td>\n",
       "    </tr>\n",
       "    <tr>\n",
       "      <th>2018-02-22 00:00:00+00:00</th>\n",
       "      <td>45.743818</td>\n",
       "      <td>54.0</td>\n",
       "    </tr>\n",
       "    <tr>\n",
       "      <th>2018-02-23 00:00:00+00:00</th>\n",
       "      <td>42.570200</td>\n",
       "      <td>44.0</td>\n",
       "    </tr>\n",
       "    <tr>\n",
       "      <th>2018-02-24 00:00:00+00:00</th>\n",
       "      <td>47.902109</td>\n",
       "      <td>39.0</td>\n",
       "    </tr>\n",
       "    <tr>\n",
       "      <th>2018-02-25 00:00:00+00:00</th>\n",
       "      <td>45.810314</td>\n",
       "      <td>31.0</td>\n",
       "    </tr>\n",
       "    <tr>\n",
       "      <th>2018-02-26 00:00:00+00:00</th>\n",
       "      <td>46.264407</td>\n",
       "      <td>33.0</td>\n",
       "    </tr>\n",
       "    <tr>\n",
       "      <th>2018-02-27 00:00:00+00:00</th>\n",
       "      <td>48.871824</td>\n",
       "      <td>37.0</td>\n",
       "    </tr>\n",
       "    <tr>\n",
       "      <th>2018-02-28 00:00:00+00:00</th>\n",
       "      <td>49.820402</td>\n",
       "      <td>44.0</td>\n",
       "    </tr>\n",
       "  </tbody>\n",
       "</table>\n",
       "</div>"
      ],
      "text/plain": [
       "                                 RSI  value\n",
       "timestamp                                  \n",
       "2018-02-19 00:00:00+00:00  53.324972   63.0\n",
       "2018-02-20 00:00:00+00:00  55.183005   67.0\n",
       "2018-02-21 00:00:00+00:00  50.018759   74.0\n",
       "2018-02-22 00:00:00+00:00  45.743818   54.0\n",
       "2018-02-23 00:00:00+00:00  42.570200   44.0\n",
       "2018-02-24 00:00:00+00:00  47.902109   39.0\n",
       "2018-02-25 00:00:00+00:00  45.810314   31.0\n",
       "2018-02-26 00:00:00+00:00  46.264407   33.0\n",
       "2018-02-27 00:00:00+00:00  48.871824   37.0\n",
       "2018-02-28 00:00:00+00:00  49.820402   44.0"
      ]
     },
     "execution_count": 80,
     "metadata": {},
     "output_type": "execute_result"
    }
   ],
   "source": [
    "# features dataframe\n",
    "X = model_df[['RSI', 'value']].shift().dropna()\n",
    "X.head(10)"
   ]
  },
  {
   "cell_type": "code",
   "execution_count": 81,
   "metadata": {},
   "outputs": [
    {
     "data": {
      "text/plain": [
       "-1    769\n",
       " 1    645\n",
       " 0    384\n",
       "Name: Signal, dtype: int64"
      ]
     },
     "execution_count": 81,
     "metadata": {},
     "output_type": "execute_result"
    }
   ],
   "source": [
    "# Create the target set (-1 = Short, 0 = Stables, 1 = Long)\n",
    "y = model_df['Signal']\n",
    "y.value_counts()"
   ]
  },
  {
   "cell_type": "code",
   "execution_count": 82,
   "metadata": {},
   "outputs": [
    {
     "data": {
      "text/plain": [
       "Timestamp('2018-02-19 00:00:00+0000', tz='UTC')"
      ]
     },
     "metadata": {},
     "output_type": "display_data"
    },
    {
     "data": {
      "text/plain": [
       "Timestamp('2021-06-19 00:00:00+0000', tz='UTC')"
      ]
     },
     "metadata": {},
     "output_type": "display_data"
    }
   ],
   "source": [
    "# start of the training period\n",
    "training_begin = X.index.min()\n",
    "# ending period for the training data with an offset of 40 months\n",
    "training_end = X.index.min() + DateOffset(months=40)\n",
    "display(training_begin)\n",
    "display(training_end)\n"
   ]
  },
  {
   "cell_type": "code",
   "execution_count": 83,
   "metadata": {},
   "outputs": [
    {
     "data": {
      "text/html": [
       "<div>\n",
       "<style scoped>\n",
       "    .dataframe tbody tr th:only-of-type {\n",
       "        vertical-align: middle;\n",
       "    }\n",
       "\n",
       "    .dataframe tbody tr th {\n",
       "        vertical-align: top;\n",
       "    }\n",
       "\n",
       "    .dataframe thead th {\n",
       "        text-align: right;\n",
       "    }\n",
       "</style>\n",
       "<table border=\"1\" class=\"dataframe\">\n",
       "  <thead>\n",
       "    <tr style=\"text-align: right;\">\n",
       "      <th></th>\n",
       "      <th>RSI</th>\n",
       "      <th>value</th>\n",
       "    </tr>\n",
       "    <tr>\n",
       "      <th>timestamp</th>\n",
       "      <th></th>\n",
       "      <th></th>\n",
       "    </tr>\n",
       "  </thead>\n",
       "  <tbody>\n",
       "    <tr>\n",
       "      <th>2018-02-19 00:00:00+00:00</th>\n",
       "      <td>53.324972</td>\n",
       "      <td>63.0</td>\n",
       "    </tr>\n",
       "    <tr>\n",
       "      <th>2018-02-20 00:00:00+00:00</th>\n",
       "      <td>55.183005</td>\n",
       "      <td>67.0</td>\n",
       "    </tr>\n",
       "    <tr>\n",
       "      <th>2018-02-21 00:00:00+00:00</th>\n",
       "      <td>50.018759</td>\n",
       "      <td>74.0</td>\n",
       "    </tr>\n",
       "    <tr>\n",
       "      <th>2018-02-22 00:00:00+00:00</th>\n",
       "      <td>45.743818</td>\n",
       "      <td>54.0</td>\n",
       "    </tr>\n",
       "    <tr>\n",
       "      <th>2018-02-23 00:00:00+00:00</th>\n",
       "      <td>42.570200</td>\n",
       "      <td>44.0</td>\n",
       "    </tr>\n",
       "  </tbody>\n",
       "</table>\n",
       "</div>"
      ],
      "text/plain": [
       "                                 RSI  value\n",
       "timestamp                                  \n",
       "2018-02-19 00:00:00+00:00  53.324972   63.0\n",
       "2018-02-20 00:00:00+00:00  55.183005   67.0\n",
       "2018-02-21 00:00:00+00:00  50.018759   74.0\n",
       "2018-02-22 00:00:00+00:00  45.743818   54.0\n",
       "2018-02-23 00:00:00+00:00  42.570200   44.0"
      ]
     },
     "execution_count": 83,
     "metadata": {},
     "output_type": "execute_result"
    }
   ],
   "source": [
    "# Generate the X_train and y_train DataFrames\n",
    "X_train = X.loc[training_begin:training_end]\n",
    "y_train = y.loc[training_begin:training_end]\n",
    "\n",
    "X_train.head()"
   ]
  },
  {
   "cell_type": "code",
   "execution_count": 84,
   "metadata": {},
   "outputs": [
    {
     "data": {
      "text/html": [
       "<div>\n",
       "<style scoped>\n",
       "    .dataframe tbody tr th:only-of-type {\n",
       "        vertical-align: middle;\n",
       "    }\n",
       "\n",
       "    .dataframe tbody tr th {\n",
       "        vertical-align: top;\n",
       "    }\n",
       "\n",
       "    .dataframe thead th {\n",
       "        text-align: right;\n",
       "    }\n",
       "</style>\n",
       "<table border=\"1\" class=\"dataframe\">\n",
       "  <thead>\n",
       "    <tr style=\"text-align: right;\">\n",
       "      <th></th>\n",
       "      <th>RSI</th>\n",
       "      <th>value</th>\n",
       "    </tr>\n",
       "    <tr>\n",
       "      <th>timestamp</th>\n",
       "      <th></th>\n",
       "      <th></th>\n",
       "    </tr>\n",
       "  </thead>\n",
       "  <tbody>\n",
       "    <tr>\n",
       "      <th>2021-06-19 00:00:00+00:00</th>\n",
       "      <td>41.026683</td>\n",
       "      <td>25.0</td>\n",
       "    </tr>\n",
       "    <tr>\n",
       "      <th>2021-06-20 00:00:00+00:00</th>\n",
       "      <td>39.997179</td>\n",
       "      <td>23.0</td>\n",
       "    </tr>\n",
       "    <tr>\n",
       "      <th>2021-06-21 00:00:00+00:00</th>\n",
       "      <td>41.977104</td>\n",
       "      <td>21.0</td>\n",
       "    </tr>\n",
       "    <tr>\n",
       "      <th>2021-06-22 00:00:00+00:00</th>\n",
       "      <td>35.405009</td>\n",
       "      <td>23.0</td>\n",
       "    </tr>\n",
       "    <tr>\n",
       "      <th>2021-06-23 00:00:00+00:00</th>\n",
       "      <td>35.183431</td>\n",
       "      <td>10.0</td>\n",
       "    </tr>\n",
       "  </tbody>\n",
       "</table>\n",
       "</div>"
      ],
      "text/plain": [
       "                                 RSI  value\n",
       "timestamp                                  \n",
       "2021-06-19 00:00:00+00:00  41.026683   25.0\n",
       "2021-06-20 00:00:00+00:00  39.997179   23.0\n",
       "2021-06-21 00:00:00+00:00  41.977104   21.0\n",
       "2021-06-22 00:00:00+00:00  35.405009   23.0\n",
       "2021-06-23 00:00:00+00:00  35.183431   10.0"
      ]
     },
     "execution_count": 84,
     "metadata": {},
     "output_type": "execute_result"
    }
   ],
   "source": [
    "# Generate the X_test and y_test DataFrames\n",
    "X_test = X.loc[training_end:]\n",
    "y_test = y.loc[training_end:]\n",
    "\n",
    "X_test.head()"
   ]
  },
  {
   "cell_type": "code",
   "execution_count": 85,
   "metadata": {},
   "outputs": [],
   "source": [
    "# Scale features DataFrames\n",
    "\n",
    "# Create a StandardScaler instance\n",
    "scaler = StandardScaler()\n",
    "\n",
    "# Apply the scaler model to fit the X-train data\n",
    "X_scaler = scaler.fit(X_train)\n",
    "\n",
    "# Transform the X_train and X_test DataFrames using the X_scaler\n",
    "X_train_scaled = X_scaler.transform(X_train)\n",
    "X_test_scaled = X_scaler.transform(X_test)"
   ]
  },
  {
   "cell_type": "code",
   "execution_count": 86,
   "metadata": {},
   "outputs": [],
   "source": [
    "# Imports\n",
    "from sklearn import svm\n",
    "from sklearn.metrics import classification_report"
   ]
  },
  {
   "attachments": {},
   "cell_type": "markdown",
   "metadata": {},
   "source": [
    "**SVM:**"
   ]
  },
  {
   "cell_type": "code",
   "execution_count": 87,
   "metadata": {},
   "outputs": [
    {
     "data": {
      "text/plain": [
       "array([ 1,  1,  1,  1, -1, -1, -1, -1, -1, -1, -1, -1, -1,  1, -1],\n",
       "      dtype=int64)"
      ]
     },
     "execution_count": 87,
     "metadata": {},
     "output_type": "execute_result"
    }
   ],
   "source": [
    "# Create model\n",
    "svm_model = svm.SVC()\n",
    " \n",
    "# Fit the model to the data using X_train_scaled and y_train\n",
    "svm_model = svm_model.fit(X_train_scaled, y_train)\n",
    "\n",
    "# Use the trained model to predict the trading signals for the training data\n",
    "svm_pred = svm_model.predict(X_train_scaled)\n",
    "\n",
    "# Display the sample predictions\n",
    "svm_pred[:15]"
   ]
  },
  {
   "cell_type": "code",
   "execution_count": 88,
   "metadata": {},
   "outputs": [
    {
     "name": "stdout",
     "output_type": "stream",
     "text": [
      "              precision    recall  f1-score   support\n",
      "\n",
      "          -1       0.80      0.81      0.80       498\n",
      "           0       0.80      0.76      0.78       211\n",
      "           1       0.89      0.90      0.89       505\n",
      "\n",
      "    accuracy                           0.84      1214\n",
      "   macro avg       0.83      0.82      0.83      1214\n",
      "weighted avg       0.84      0.84      0.84      1214\n",
      "\n"
     ]
    }
   ],
   "source": [
    "# Use a classification report to evaluate the model using the predictions and testing data\n",
    "svm_testing_report = classification_report(y_train, svm_pred)\n",
    "\n",
    "# Print the classification report\n",
    "print(svm_testing_report)"
   ]
  },
  {
   "cell_type": "code",
   "execution_count": 89,
   "metadata": {},
   "outputs": [
    {
     "data": {
      "text/html": [
       "<div>\n",
       "<style scoped>\n",
       "    .dataframe tbody tr th:only-of-type {\n",
       "        vertical-align: middle;\n",
       "    }\n",
       "\n",
       "    .dataframe tbody tr th {\n",
       "        vertical-align: top;\n",
       "    }\n",
       "\n",
       "    .dataframe thead th {\n",
       "        text-align: right;\n",
       "    }\n",
       "</style>\n",
       "<table border=\"1\" class=\"dataframe\">\n",
       "  <thead>\n",
       "    <tr style=\"text-align: right;\">\n",
       "      <th></th>\n",
       "      <th>Predicted</th>\n",
       "      <th>Actual_Returns</th>\n",
       "      <th>Strategy_Returns</th>\n",
       "    </tr>\n",
       "    <tr>\n",
       "      <th>timestamp</th>\n",
       "      <th></th>\n",
       "      <th></th>\n",
       "      <th></th>\n",
       "    </tr>\n",
       "  </thead>\n",
       "  <tbody>\n",
       "    <tr>\n",
       "      <th>2021-06-19 00:00:00+00:00</th>\n",
       "      <td>-1</td>\n",
       "      <td>-0.023853</td>\n",
       "      <td>0.023853</td>\n",
       "    </tr>\n",
       "    <tr>\n",
       "      <th>2021-06-20 00:00:00+00:00</th>\n",
       "      <td>-1</td>\n",
       "      <td>0.031152</td>\n",
       "      <td>-0.031152</td>\n",
       "    </tr>\n",
       "    <tr>\n",
       "      <th>2021-06-21 00:00:00+00:00</th>\n",
       "      <td>-1</td>\n",
       "      <td>-0.159332</td>\n",
       "      <td>0.159332</td>\n",
       "    </tr>\n",
       "    <tr>\n",
       "      <th>2021-06-22 00:00:00+00:00</th>\n",
       "      <td>0</td>\n",
       "      <td>-0.007147</td>\n",
       "      <td>-0.000000</td>\n",
       "    </tr>\n",
       "    <tr>\n",
       "      <th>2021-06-23 00:00:00+00:00</th>\n",
       "      <td>0</td>\n",
       "      <td>0.061221</td>\n",
       "      <td>0.000000</td>\n",
       "    </tr>\n",
       "  </tbody>\n",
       "</table>\n",
       "</div>"
      ],
      "text/plain": [
       "                           Predicted  Actual_Returns  Strategy_Returns\n",
       "timestamp                                                             \n",
       "2021-06-19 00:00:00+00:00         -1       -0.023853          0.023853\n",
       "2021-06-20 00:00:00+00:00         -1        0.031152         -0.031152\n",
       "2021-06-21 00:00:00+00:00         -1       -0.159332          0.159332\n",
       "2021-06-22 00:00:00+00:00          0       -0.007147         -0.000000\n",
       "2021-06-23 00:00:00+00:00          0        0.061221          0.000000"
      ]
     },
     "metadata": {},
     "output_type": "display_data"
    },
    {
     "data": {
      "text/html": [
       "<div>\n",
       "<style scoped>\n",
       "    .dataframe tbody tr th:only-of-type {\n",
       "        vertical-align: middle;\n",
       "    }\n",
       "\n",
       "    .dataframe tbody tr th {\n",
       "        vertical-align: top;\n",
       "    }\n",
       "\n",
       "    .dataframe thead th {\n",
       "        text-align: right;\n",
       "    }\n",
       "</style>\n",
       "<table border=\"1\" class=\"dataframe\">\n",
       "  <thead>\n",
       "    <tr style=\"text-align: right;\">\n",
       "      <th></th>\n",
       "      <th>Predicted</th>\n",
       "      <th>Actual_Returns</th>\n",
       "      <th>Strategy_Returns</th>\n",
       "    </tr>\n",
       "    <tr>\n",
       "      <th>timestamp</th>\n",
       "      <th></th>\n",
       "      <th></th>\n",
       "      <th></th>\n",
       "    </tr>\n",
       "  </thead>\n",
       "  <tbody>\n",
       "    <tr>\n",
       "      <th>2023-01-19 00:00:00+00:00</th>\n",
       "      <td>1</td>\n",
       "      <td>0.024447</td>\n",
       "      <td>0.024447</td>\n",
       "    </tr>\n",
       "    <tr>\n",
       "      <th>2023-01-20 00:00:00+00:00</th>\n",
       "      <td>1</td>\n",
       "      <td>0.069046</td>\n",
       "      <td>0.069046</td>\n",
       "    </tr>\n",
       "    <tr>\n",
       "      <th>2023-01-21 00:00:00+00:00</th>\n",
       "      <td>1</td>\n",
       "      <td>-0.019663</td>\n",
       "      <td>-0.019663</td>\n",
       "    </tr>\n",
       "    <tr>\n",
       "      <th>2023-01-22 00:00:00+00:00</th>\n",
       "      <td>1</td>\n",
       "      <td>0.000777</td>\n",
       "      <td>0.000777</td>\n",
       "    </tr>\n",
       "    <tr>\n",
       "      <th>2023-01-23 00:00:00+00:00</th>\n",
       "      <td>1</td>\n",
       "      <td>-0.000080</td>\n",
       "      <td>-0.000080</td>\n",
       "    </tr>\n",
       "  </tbody>\n",
       "</table>\n",
       "</div>"
      ],
      "text/plain": [
       "                           Predicted  Actual_Returns  Strategy_Returns\n",
       "timestamp                                                             \n",
       "2023-01-19 00:00:00+00:00          1        0.024447          0.024447\n",
       "2023-01-20 00:00:00+00:00          1        0.069046          0.069046\n",
       "2023-01-21 00:00:00+00:00          1       -0.019663         -0.019663\n",
       "2023-01-22 00:00:00+00:00          1        0.000777          0.000777\n",
       "2023-01-23 00:00:00+00:00          1       -0.000080         -0.000080"
      ]
     },
     "metadata": {},
     "output_type": "display_data"
    }
   ],
   "source": [
    "# Create a new empty predictions DataFrame:\n",
    "testing_signal_predictions = svm_model.predict(X_test_scaled)\n",
    "\n",
    "# Create a predictions DataFrame\n",
    "predictions_df = pd.DataFrame(index=X_test.index)\n",
    "\n",
    "# Add the SVM model predictions to the DataFrame\n",
    "predictions_df['Predicted'] = testing_signal_predictions\n",
    "\n",
    "\n",
    "# Add the actual returns to the DataFrame\n",
    "predictions_df['Actual_Returns'] = combined_df_[\"change\"]\n",
    "\n",
    "# Add the strategy returns to the DataFrame\n",
    "predictions_df['Strategy_Returns'] = predictions_df[\"Actual_Returns\"] * predictions_df[\"Predicted\"]\n",
    "\n",
    "# Review the DataFrame\n",
    "display(predictions_df.head())\n",
    "display(predictions_df.tail())"
   ]
  },
  {
   "cell_type": "code",
   "execution_count": 90,
   "metadata": {},
   "outputs": [
    {
     "data": {
      "text/plain": [
       "<AxesSubplot: xlabel='timestamp'>"
      ]
     },
     "execution_count": 90,
     "metadata": {},
     "output_type": "execute_result"
    },
    {
     "data": {
      "image/png": "[encoded data removed]",
      "text/plain": [
       "<Figure size 640x480 with 1 Axes>"
      ]
     },
     "metadata": {},
     "output_type": "display_data"
    }
   ],
   "source": [
    "# Plot the actual returns versus the strategy returns\n",
    "(1 + predictions_df[[\"Actual_Returns\", \"Strategy_Returns\"]]).cumprod().plot()"
   ]
  },
  {
   "cell_type": "code",
   "execution_count": 91,
   "metadata": {},
   "outputs": [],
   "source": [
    "#XGB:\n",
    "import pandas_ta as pa\n",
    "from sklearn.preprocessing import StandardScaler\n",
    "from sklearn.compose import ColumnTransformer\n",
    "from sklearn.impute import SimpleImputer\n",
    "from sklearn.pipeline import Pipeline\n",
    "from sklearn.preprocessing import OneHotEncoder\n",
    "from sklearn import set_config \n",
    "set_config(transform_output = 'pandas')\n",
    "\n",
    "\n",
    "m = combined_df_.copy()\n",
    "m['RSI'] = pa.rsi(m.Close, length=16)\n",
    "m.rename(columns = {'value':'FG value', 'position':'Signal'}, inplace = True)\n",
    "\n",
    "# fill in na with 0\n",
    "m.fillna(0, inplace=True)\n",
    "\n",
    "# change -1 to 2 for short selling\n",
    "m[m<0] = 2"
   ]
  },
  {
   "cell_type": "code",
   "execution_count": 99,
   "metadata": {},
   "outputs": [],
   "source": [
    "# Identify Feature and Target\n",
    "X = m.drop([\"Signal\"], axis=1).shift().dropna()\n",
    "y = m[\"Signal\"][1:].copy().dropna()"
   ]
  },
  {
   "cell_type": "code",
   "execution_count": 100,
   "metadata": {},
   "outputs": [],
   "source": [
    "#Create Pipelines\n",
    "\n",
    "categorical_pipeline = Pipeline(steps=[(\"impute\", SimpleImputer(strategy=\"most_frequent\")),(\"oh-encode\", OneHotEncoder(handle_unknown=\"ignore\", sparse=False)),])\n",
    "numeric_pipeline = Pipeline(steps=[(\"impute\", SimpleImputer(strategy=\"mean\")), (\"scale\", StandardScaler())])\n",
    "\n",
    "cat_cols = X.select_dtypes(exclude=\"number\").columns\n",
    "num_cols = X.select_dtypes(include=\"number\").columns\n",
    "\n",
    "full_processor = ColumnTransformer(transformers=[(\"numeric\", numeric_pipeline, num_cols),(\"categorical\", categorical_pipeline, cat_cols)])\n",
    "\n"
   ]
  },
  {
   "cell_type": "code",
   "execution_count": 101,
   "metadata": {},
   "outputs": [
    {
     "name": "stdout",
     "output_type": "stream",
     "text": [
      "              precision    recall  f1-score   support\n",
      "\n",
      "           0       0.78      0.71      0.75        97\n",
      "           1       0.89      0.90      0.89       163\n",
      "           2       0.79      0.81      0.80       194\n",
      "\n",
      "    accuracy                           0.82       454\n",
      "   macro avg       0.82      0.81      0.81       454\n",
      "weighted avg       0.82      0.82      0.82       454\n",
      "\n"
     ]
    }
   ],
   "source": [
    "import xgboost as xgb\n",
    "from sklearn.model_selection import train_test_split\n",
    "from sklearn.metrics import classification_report\n",
    "from sklearn.model_selection import GridSearchCV\n",
    "\n",
    "xgb_cl = xgb.XGBClassifier()\n",
    "\n",
    "# Apply preprocessing\n",
    "\n",
    "X_processed = full_processor.fit_transform(X)\n",
    "y_processed = SimpleImputer(strategy=\"most_frequent\").fit_transform(y.values.reshape(-1, 1))\n",
    "\n",
    "\n",
    "# Split the data to train and Test\n",
    "X_train, X_test, y_train, y_test = train_test_split(X_processed, y_processed, stratify=y_processed, random_state=1)\n",
    "\n",
    "\n",
    "# Fit\n",
    "xgb_cl.fit(X_train, y_train)\n",
    "\n",
    "# Predict\n",
    "pred = xgb_cl.predict(X_test)\n",
    "\n",
    "# Score\n",
    "xgb_testing_report = classification_report(y_test, pred)\n",
    "print(xgb_testing_report)\n"
   ]
  },
  {
   "cell_type": "code",
   "execution_count": 104,
   "metadata": {},
   "outputs": [
    {
     "data": {
      "text/html": [
       "<div>\n",
       "<style scoped>\n",
       "    .dataframe tbody tr th:only-of-type {\n",
       "        vertical-align: middle;\n",
       "    }\n",
       "\n",
       "    .dataframe tbody tr th {\n",
       "        vertical-align: top;\n",
       "    }\n",
       "\n",
       "    .dataframe thead th {\n",
       "        text-align: right;\n",
       "    }\n",
       "</style>\n",
       "<table border=\"1\" class=\"dataframe\">\n",
       "  <thead>\n",
       "    <tr style=\"text-align: right;\">\n",
       "      <th></th>\n",
       "      <th>predicted_signal</th>\n",
       "      <th>Actual Returns</th>\n",
       "      <th>trading_algorithm_returns</th>\n",
       "    </tr>\n",
       "    <tr>\n",
       "      <th>timestamp</th>\n",
       "      <th></th>\n",
       "      <th></th>\n",
       "      <th></th>\n",
       "    </tr>\n",
       "  </thead>\n",
       "  <tbody>\n",
       "    <tr>\n",
       "      <th>2018-02-06 00:00:00+00:00</th>\n",
       "      <td>-1</td>\n",
       "      <td>0.136358</td>\n",
       "      <td>-0.136358</td>\n",
       "    </tr>\n",
       "    <tr>\n",
       "      <th>2018-02-07 00:00:00+00:00</th>\n",
       "      <td>-1</td>\n",
       "      <td>-0.045458</td>\n",
       "      <td>0.045458</td>\n",
       "    </tr>\n",
       "    <tr>\n",
       "      <th>2018-02-12 00:00:00+00:00</th>\n",
       "      <td>-1</td>\n",
       "      <td>0.066343</td>\n",
       "      <td>-0.066343</td>\n",
       "    </tr>\n",
       "    <tr>\n",
       "      <th>2018-02-17 00:00:00+00:00</th>\n",
       "      <td>1</td>\n",
       "      <td>0.031672</td>\n",
       "      <td>0.031672</td>\n",
       "    </tr>\n",
       "    <tr>\n",
       "      <th>2018-02-20 00:00:00+00:00</th>\n",
       "      <td>1</td>\n",
       "      <td>-0.051378</td>\n",
       "      <td>-0.051378</td>\n",
       "    </tr>\n",
       "    <tr>\n",
       "      <th>...</th>\n",
       "      <td>...</td>\n",
       "      <td>...</td>\n",
       "      <td>...</td>\n",
       "    </tr>\n",
       "    <tr>\n",
       "      <th>2023-01-07 00:00:00+00:00</th>\n",
       "      <td>-1</td>\n",
       "      <td>-0.004025</td>\n",
       "      <td>0.004025</td>\n",
       "    </tr>\n",
       "    <tr>\n",
       "      <th>2023-01-12 00:00:00+00:00</th>\n",
       "      <td>-1</td>\n",
       "      <td>0.021619</td>\n",
       "      <td>-0.021619</td>\n",
       "    </tr>\n",
       "    <tr>\n",
       "      <th>2023-01-13 00:00:00+00:00</th>\n",
       "      <td>-1</td>\n",
       "      <td>0.023750</td>\n",
       "      <td>-0.023750</td>\n",
       "    </tr>\n",
       "    <tr>\n",
       "      <th>2023-01-18 00:00:00+00:00</th>\n",
       "      <td>1</td>\n",
       "      <td>-0.033383</td>\n",
       "      <td>-0.033383</td>\n",
       "    </tr>\n",
       "    <tr>\n",
       "      <th>2023-01-23 00:00:00+00:00</th>\n",
       "      <td>1</td>\n",
       "      <td>-0.000080</td>\n",
       "      <td>-0.000080</td>\n",
       "    </tr>\n",
       "  </tbody>\n",
       "</table>\n",
       "<p>454 rows × 3 columns</p>\n",
       "</div>"
      ],
      "text/plain": [
       "                           predicted_signal  Actual Returns  \\\n",
       "timestamp                                                     \n",
       "2018-02-06 00:00:00+00:00                -1        0.136358   \n",
       "2018-02-07 00:00:00+00:00                -1       -0.045458   \n",
       "2018-02-12 00:00:00+00:00                -1        0.066343   \n",
       "2018-02-17 00:00:00+00:00                 1        0.031672   \n",
       "2018-02-20 00:00:00+00:00                 1       -0.051378   \n",
       "...                                     ...             ...   \n",
       "2023-01-07 00:00:00+00:00                -1       -0.004025   \n",
       "2023-01-12 00:00:00+00:00                -1        0.021619   \n",
       "2023-01-13 00:00:00+00:00                -1        0.023750   \n",
       "2023-01-18 00:00:00+00:00                 1       -0.033383   \n",
       "2023-01-23 00:00:00+00:00                 1       -0.000080   \n",
       "\n",
       "                           trading_algorithm_returns  \n",
       "timestamp                                             \n",
       "2018-02-06 00:00:00+00:00                  -0.136358  \n",
       "2018-02-07 00:00:00+00:00                   0.045458  \n",
       "2018-02-12 00:00:00+00:00                  -0.066343  \n",
       "2018-02-17 00:00:00+00:00                   0.031672  \n",
       "2018-02-20 00:00:00+00:00                  -0.051378  \n",
       "...                                              ...  \n",
       "2023-01-07 00:00:00+00:00                   0.004025  \n",
       "2023-01-12 00:00:00+00:00                  -0.021619  \n",
       "2023-01-13 00:00:00+00:00                  -0.023750  \n",
       "2023-01-18 00:00:00+00:00                  -0.033383  \n",
       "2023-01-23 00:00:00+00:00                  -0.000080  \n",
       "\n",
       "[454 rows x 3 columns]"
      ]
     },
     "execution_count": 104,
     "metadata": {},
     "output_type": "execute_result"
    }
   ],
   "source": [
    "# Create a new empty predictions DataFrame using code provided below.\n",
    "predictions_df = pd.DataFrame(index=X_test.index)\n",
    "predictions_df[\"predicted_signal\"] = pred\n",
    "predictions_df[\"predicted_signal\"] = predictions_df[\"predicted_signal\"].replace(2, -1)\n",
    "predictions_df[\"Actual Returns\"] = combined_df_[\"change\"]\n",
    "predictions_df[\"trading_algorithm_returns\"] = predictions_df[\"Actual Returns\"] * predictions_df[\"predicted_signal\"]\n",
    "predictions_df = predictions_df.sort_index()\n",
    "predictions_df"
   ]
  },
  {
   "cell_type": "code",
   "execution_count": 108,
   "metadata": {},
   "outputs": [
    {
     "data": {
      "text/plain": [
       "<AxesSubplot: title={'center': 'Actual vs. Algorithm'}, xlabel='timestamp'>"
      ]
     },
     "execution_count": 108,
     "metadata": {},
     "output_type": "execute_result"
    },
    {
     "data": {
      "image/png": "[encoded data removed]",
      "text/plain": [
       "<Figure size 640x480 with 1 Axes>"
      ]
     },
     "metadata": {},
     "output_type": "display_data"
    }
   ],
   "source": [
    "# Calculate and plot the cumulative returns for the `actual_returns` and the `trading_algorithm_returns`\n",
    "(1 + predictions_df[[\"Actual Returns\", \"trading_algorithm_returns\"]]).cumprod().plot(title= \"Actual vs. Algorithm\")\n"
   ]
  }
 ],
 "metadata": {
  "kernelspec": {
   "display_name": "dreambuilder",
   "language": "python",
   "name": "python3"
  },
  "language_info": {
   "codemirror_mode": {
    "name": "ipython",
    "version": 3
   },
   "file_extension": ".py",
   "mimetype": "text/x-python",
   "name": "python",
   "nbconvert_exporter": "python",
   "pygments_lexer": "ipython3",
   "version": "3.8.16"
  },
  "orig_nbformat": 4,
  "vscode": {
   "interpreter": {
    "hash": "17c113ce94506c0586d4f862013eaefdcc29a14528bb492ab51b02976481f40f"
   }
  }
 },
 "nbformat": 4,
 "nbformat_minor": 2
}
