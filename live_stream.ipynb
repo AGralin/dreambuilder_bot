{
 "cells": [
  {
   "cell_type": "code",
   "execution_count": null,
   "metadata": {},
   "outputs": [],
   "source": [
    "import websocket"
   ]
  },
  {
   "cell_type": "code",
   "execution_count": null,
   "metadata": {},
   "outputs": [],
   "source": [
    "# binance websocket for live crypto (VPN required)\n",
    "\n",
    "def on_message(ws, message):\n",
    "    print(message)\n",
    "\n",
    "def on_error(ws, error):\n",
    "    print(error)\n",
    "\n",
    "def on_close(close_msg):\n",
    "    print(close_msg)\n",
    "\n",
    "def streamKline(symbol, interval):\n",
    "    socket = f\"wss://stream.binance.com:9443/ws/{symbol}@kline_{interval}\"\n",
    "    ws = websocket.WebSocketApp(socket,\n",
    "                                on_message=on_message,\n",
    "                                on_error=on_error,\n",
    "                                on_close=on_close)\n",
    "    ws.run_forever()\n",
    "\n",
    "# set symbol and timeframe \n",
    "# \"1m\", \"3m\", \"5m\", \"15m\", \"30m\", \"1h\", \"2h\", \"4h\", \"6h\", \"8h\", \"12h\" ,\"1d\", \"3d\", \"1w\", \"1M\"\n",
    "streamKline('ethusdt', '1m')"
   ]
  }
 ],
 "metadata": {
  "kernelspec": {
   "display_name": "algotrading",
   "language": "python",
   "name": "python3"
  },
  "language_info": {
   "codemirror_mode": {
    "name": "ipython",
    "version": 3
   },
   "file_extension": ".py",
   "mimetype": "text/x-python",
   "name": "python",
   "nbconvert_exporter": "python",
   "pygments_lexer": "ipython3",
   "version": "3.7.15"
  },
  "orig_nbformat": 4,
  "vscode": {
   "interpreter": {
    "hash": "3d553efa6b71e0543a766bc47669973ba29a0430e98b5bbc2d034d077489b7d5"
   }
  }
 },
 "nbformat": 4,
 "nbformat_minor": 2
}
